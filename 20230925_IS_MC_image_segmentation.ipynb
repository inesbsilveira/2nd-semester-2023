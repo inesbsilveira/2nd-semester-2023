{
  "nbformat": 4,
  "nbformat_minor": 0,
  "metadata": {
    "colab": {
      "provenance": [],
      "authorship_tag": "ABX9TyPPP7qqXzkt8D7DoY8X5iiv",
      "include_colab_link": true
    },
    "kernelspec": {
      "name": "python3",
      "display_name": "Python 3"
    },
    "language_info": {
      "name": "python"
    }
  },
  "cells": [
    {
      "cell_type": "markdown",
      "metadata": {
        "id": "view-in-github",
        "colab_type": "text"
      },
      "source": [
        "<a href=\"https://colab.research.google.com/github/inesbsilveira/2nd-semester-2023/blob/main/20230925_IS_MC_image_segmentation.ipynb\" target=\"_parent\"><img src=\"https://colab.research.google.com/assets/colab-badge.svg\" alt=\"Open In Colab\"/></a>"
      ]
    },
    {
      "cell_type": "code",
      "execution_count": 90,
      "metadata": {
        "id": "OduyU9nw0P7o",
        "outputId": "cc637e1a-0ac3-48e5-d99c-12487fddfb61",
        "colab": {
          "base_uri": "https://localhost:8080/"
        }
      },
      "outputs": [
        {
          "output_type": "stream",
          "name": "stdout",
          "text": [
            "Requirement already satisfied: rasterio in /usr/local/lib/python3.10/dist-packages (1.3.8)\n",
            "Requirement already satisfied: affine in /usr/local/lib/python3.10/dist-packages (from rasterio) (2.4.0)\n",
            "Requirement already satisfied: attrs in /usr/local/lib/python3.10/dist-packages (from rasterio) (23.1.0)\n",
            "Requirement already satisfied: certifi in /usr/local/lib/python3.10/dist-packages (from rasterio) (2023.7.22)\n",
            "Requirement already satisfied: click>=4.0 in /usr/local/lib/python3.10/dist-packages (from rasterio) (8.1.7)\n",
            "Requirement already satisfied: cligj>=0.5 in /usr/local/lib/python3.10/dist-packages (from rasterio) (0.7.2)\n",
            "Requirement already satisfied: numpy>=1.18 in /usr/local/lib/python3.10/dist-packages (from rasterio) (1.23.5)\n",
            "Requirement already satisfied: snuggs>=1.4.1 in /usr/local/lib/python3.10/dist-packages (from rasterio) (1.4.7)\n",
            "Requirement already satisfied: click-plugins in /usr/local/lib/python3.10/dist-packages (from rasterio) (1.1.1)\n",
            "Requirement already satisfied: setuptools in /usr/local/lib/python3.10/dist-packages (from rasterio) (67.7.2)\n",
            "Requirement already satisfied: pyparsing>=2.1.6 in /usr/local/lib/python3.10/dist-packages (from snuggs>=1.4.1->rasterio) (3.1.1)\n"
          ]
        }
      ],
      "source": [
        "!pip install rasterio"
      ]
    },
    {
      "cell_type": "code",
      "source": [
        "import rasterio\n",
        "from rasterio.windows import Window\n",
        "import os\n",
        "import shutil\n",
        "import numpy as np\n",
        "from PIL import Image\n",
        "from fastai.vision.all import *\n",
        "from sklearn.metrics import classification_report, roc_auc_score, precision_score, confusion_matrix, ConfusionMatrixDisplay\n",
        "from sklearn.model_selection import KFold\n",
        "import matplotlib.pyplot as plt\n",
        "import tifffile as tiff\n",
        "import matplotlib.image as mpimg"
      ],
      "metadata": {
        "id": "sakoF1ln0VTZ"
      },
      "execution_count": null,
      "outputs": []
    },
    {
      "cell_type": "code",
      "source": [
        "from google.colab import drive\n",
        "drive.mount('/content/drive')"
      ],
      "metadata": {
        "colab": {
          "base_uri": "https://localhost:8080/"
        },
        "id": "0tUNND6M0YhP",
        "outputId": "9c1630e4-9d52-4f6d-a7e1-b1764fb6dbbc"
      },
      "execution_count": null,
      "outputs": [
        {
          "output_type": "stream",
          "name": "stdout",
          "text": [
            "Mounted at /content/drive\n"
          ]
        }
      ]
    },
    {
      "cell_type": "code",
      "source": [
        "user='I' # escolher 'M' ou 'I'\n",
        "N_epochs=20\n",
        "target_names = ['not greenhouse', 'greenhouse']\n",
        "Nrows,Ncols = 20, 8 # número de blocos a usar 20*8=160"
      ],
      "metadata": {
        "id": "o6ETvT3E2anV"
      },
      "execution_count": null,
      "outputs": []
    },
    {
      "cell_type": "code",
      "source": [
        "# Specify the directory path\n",
        "if user=='M':\n",
        "  directory = '/content/drive/MyDrive/inv_proj/S2change_DGT/Estufas_Alentejo'\n",
        "else:\n",
        "  directory = '/content/drive/MyDrive/AAA/'\n",
        "\n",
        "path=Path(directory)\n",
        "image_folder_name = \"images\"\n",
        "label_folder_name = \"labels\"\n",
        "predicted_folder_name = \"predicted\"\n",
        "image_folder = os.path.join(directory, image_folder_name)\n",
        "os.makedirs(image_folder, exist_ok=True)\n",
        "label_folder = os.path.join(directory, label_folder_name)\n",
        "os.makedirs(label_folder, exist_ok=True)\n",
        "predicted_folder = os.path.join(directory, predicted_folder_name)\n",
        "os.makedirs(predicted_folder, exist_ok=True)"
      ],
      "metadata": {
        "id": "N8XRKFTv0eMr"
      },
      "execution_count": null,
      "outputs": []
    },
    {
      "cell_type": "markdown",
      "source": [
        "Functions"
      ],
      "metadata": {
        "id": "uaj9hWTw03I9"
      }
    },
    {
      "cell_type": "code",
      "source": [
        "# Calculate and display unique values and their datatype in a tif file\n",
        "def display_unique_values_tiff_file (input_file):\n",
        "  # Open the TIFF file\n",
        "  with rasterio.open(input_file, 'r') as src:\n",
        "      # Read the data as a NumPy array\n",
        "      tiff_array = src.read(1)  # Assuming it's a single-band TIFF\n",
        "\n",
        "      # Find unique values in the NumPy array\n",
        "      unique_values = np.unique(tiff_array)\n",
        "\n",
        "      # Get the data type of the TIFF file\n",
        "      data_type = src.dtypes[0]\n",
        "\n",
        "  # Display the data type\n",
        "  print(f\"Data Type: {data_type}\")\n",
        "\n",
        "  # Display the unique values\n",
        "  print(\"Unique Values:\")\n",
        "  for value in unique_values:\n",
        "      print(value)\n",
        "\n",
        "  # Print the data in the NumPy array\n",
        "  print(tiff_array)"
      ],
      "metadata": {
        "id": "IvDBToyEE_YW"
      },
      "execution_count": 91,
      "outputs": []
    },
    {
      "cell_type": "code",
      "source": [
        "# Calculate and display unique values and their datatype in a PNG image\n",
        "def display_unique_values_and_datatype(input_file):\n",
        "    # Open the PNG image\n",
        "    img = Image.open(input_file)\n",
        "\n",
        "    # Convert the image to a NumPy array\n",
        "    png_array = np.array(img)\n",
        "\n",
        "    # Find unique values in the NumPy array\n",
        "    unique_values = np.unique(png_array)\n",
        "\n",
        "    # Get the data type of the PNG image\n",
        "    data_type = png_array.dtype\n",
        "\n",
        "    # Display the data type\n",
        "    print(f\"Data Type: {data_type}\")\n",
        "\n",
        "    # Display the unique values\n",
        "    print(\"Unique Values:\")\n",
        "    for value in unique_values:\n",
        "        print(value)\n",
        "\n",
        "    # Print the data in the NumPy array\n",
        "    print(png_array)"
      ],
      "metadata": {
        "id": "uyc-QiWU-mrT"
      },
      "execution_count": null,
      "outputs": []
    },
    {
      "cell_type": "code",
      "source": [
        "# Replace NODATA values 0. this function requires the the value assigned to nodata values\n",
        "def convert_nodata_values (nodata_value, input_file,output_file):\n",
        "  # Open the input TIFF file\n",
        "  with rasterio.open(input_file, 'r') as src:\n",
        "      # Read the data as a NumPy array\n",
        "      data = src.read(1)\n",
        "\n",
        "      # Replace NoData values with 0\n",
        "      data[data == nodata_value] = 0\n",
        "\n",
        "      # Create a new TIFF file for writing\n",
        "      with rasterio.open(\n",
        "          output_file,\n",
        "          'w',\n",
        "          driver='GTiff',\n",
        "          width=src.width,\n",
        "          height=src.height,\n",
        "          count=1,\n",
        "          dtype=rasterio.uint8,  # Adjust data type as needed\n",
        "          crs=src.crs,\n",
        "          transform=src.transform,\n",
        "      ) as dst:\n",
        "          # Write the modified data to the new TIFF file\n",
        "          dst.write(data, 1)\n",
        "\n",
        "  print(f\"NoData values converted to 0\")\n"
      ],
      "metadata": {
        "id": "u8JagWb4GByG"
      },
      "execution_count": null,
      "outputs": []
    },
    {
      "cell_type": "code",
      "source": [
        "# Display a TIFF file\n",
        "def display_tiff_file (input_file):\n",
        "  # Load and display the TIFF image\n",
        "  img = mpimg.imread(input_file)\n",
        "  plt.imshow(img, cmap='gray')  # Use 'gray' colormap for binary images\n",
        "  plt.axis('off')  # Turn off axis labels and ticks\n",
        "  plt.show()\n"
      ],
      "metadata": {
        "id": "mF5nLWJnB1Im"
      },
      "execution_count": 97,
      "outputs": []
    },
    {
      "cell_type": "code",
      "source": [
        "# Function to clip and rescale tif files and save png images in a folder\n",
        "# Input files are tiff files with 1 or 3 bands, output_folder is the folder where the png images are going to be stored. Nrows and Ncols are defined above\n",
        "def clip_raster_and_rescale(input_file, output_folder, Nrows, Ncols):\n",
        "    with rasterio.open(input_file) as src:\n",
        "        height = src.height // Nrows\n",
        "        width = src.width // Ncols\n",
        "        Nbands = src.count  # Get the number of bands in the input file\n",
        "\n",
        "        for i in range(Nrows):\n",
        "            for j in range(Ncols):\n",
        "                ymin = i * height\n",
        "                ymax = (i + 1) * height\n",
        "                xmin = j * width\n",
        "                xmax = (j + 1) * width\n",
        "                window = Window.from_slices((ymin, ymax), (xmin, xmax))\n",
        "\n",
        "                if Nbands == 1:\n",
        "                    clipped_data = src.read(window=window)\n",
        "                    clipped_meta = src.meta.copy()\n",
        "                    clipped_meta.update({\n",
        "                        'height': window.height,\n",
        "                        'width': window.width,\n",
        "                        'transform': src.window_transform(window)\n",
        "                })\n",
        "                    output_file = os.path.join(output_folder, f'image_{i}_{j}_mask.png')\n",
        "                    with rasterio.open(output_file, 'w', **clipped_meta) as dst:\n",
        "                        dst.write(clipped_data)\n",
        "                elif Nbands == 3:\n",
        "                    clipped_data_1 = rescale_to_8bits(src.read(1, window=window), bigmin, bigmax)\n",
        "                    clipped_data_2 = rescale_to_8bits(src.read(2, window=window), bigmin, bigmax)\n",
        "                    clipped_data_3 = rescale_to_8bits(src.read(3, window=window), bigmin, bigmax)\n",
        "                    rgb_image = np.stack([clipped_data_1, clipped_data_2, clipped_data_3], axis=2)\n",
        "                    image = Image.fromarray(rgb_image, mode='RGB')\n",
        "                    output_file = os.path.join(output_folder, f'image_{i}_{j}.png')\n",
        "                    image.save(output_file)\n",
        "                else:\n",
        "                    raise ValueError(\"Input file must have 1 or 3 bands.\")\n",
        "\n",
        "        return height, width"
      ],
      "metadata": {
        "id": "be_Oxa60Y6Nh"
      },
      "execution_count": 99,
      "outputs": []
    },
    {
      "cell_type": "code",
      "source": [
        "# Calculate the values for bigmin and bigmax for a 3 bands image. These values will be used to rescale the image to 8bits, considering the min and max values\n",
        "def calculate_bigmin_bigmax (input_file):\n",
        "  # Load the TIFF image\n",
        "  image = tiff.imread(input_file)\n",
        "\n",
        "  # Calculate bigmin and bigmax based on percentiles or other criteria\n",
        "  bigmin = np.percentile(image, 1)  # 1st percentile\n",
        "  bigmax = np.percentile(image, 99)  # 99th percentile\n",
        "  #print(\"bigmin:\", bigmin)\n",
        "  #print(\"bigmax:\", bigmax)\n",
        "\n",
        "  return bigmin, bigmax"
      ],
      "metadata": {
        "id": "LBUsUhzRlx-A"
      },
      "execution_count": 100,
      "outputs": []
    },
    {
      "cell_type": "code",
      "source": [
        "# Function to rescale an RGB tif to 8 bits\n",
        "def rescale_to_8bits(arr, bigmin, bigmax):\n",
        "  # Clip values to the specified range [bigmin, bigmax]\n",
        "  arr = np.clip(arr, bigmin, bigmax)\n",
        "  # Scale the values to the 0-255 range\n",
        "  arr_scaled = (arr - bigmin) / (bigmax - bigmin) * 255\n",
        "  # Convert to 8-bit unsigned integer\n",
        "  arr_std = arr_scaled.astype(np.uint8)\n",
        "\n",
        "  return arr_std"
      ],
      "metadata": {
        "id": "wGLbneBbghgm"
      },
      "execution_count": 98,
      "outputs": []
    },
    {
      "cell_type": "code",
      "source": [
        "# Define the function to extract the row and column number from image file name\n",
        "def get_row_column_from_filename(filename):\n",
        "    filename = os.path.basename(filename)\n",
        "    parts = filename.split('_')\n",
        "    row = int(parts[1])\n",
        "    column = int(parts[2].split('.')[0])\n",
        "    return row, column"
      ],
      "metadata": {
        "id": "vZl3fLcu4jCz"
      },
      "execution_count": null,
      "outputs": []
    },
    {
      "cell_type": "code",
      "source": [
        "# Get the clipped blocks from a image_folder\n",
        "def get_items(image_folder):\n",
        "    image_files = get_image_files(image_folder)\n",
        "    return image_files\n",
        "\n",
        "def get_mask_fn(image_file):\n",
        "    #return mask_folder / f'{image_file.stem}_mask.png'\n",
        "    return os.path.join(label_folder, f'{image_file.stem}_mask.png')"
      ],
      "metadata": {
        "id": "8nGEV9Zo4mef"
      },
      "execution_count": null,
      "outputs": []
    },
    {
      "cell_type": "code",
      "source": [
        "# Display sample of predictions\n",
        "def sample_preds (preds):\n",
        "  # Display sample predictions\n",
        "  sample_idx = 0\n",
        "  sample_image_path = list(test_dl.items)[sample_idx]\n",
        "  sample_image = PILImage.create(sample_image_path)\n",
        "  sample_pred = preds[0][sample_idx].argmax(dim=0).numpy()\n",
        "\n",
        "  sample_image.show()\n",
        "  TensorImage(sample_pred).show(cmap='tab20')"
      ],
      "metadata": {
        "id": "vXu1149ntv_E"
      },
      "execution_count": null,
      "outputs": []
    },
    {
      "cell_type": "code",
      "source": [
        "# Create predicted mask for each of the blocks\n",
        "# Save the predicted mask images (png) according to their row and column number\n",
        "def create_predited_mask(image_folder,learn,predicted_folder):\n",
        "  test_dl = dls.test_dl(get_image_files(image_folder)) # usa todas as 160 imagens em image_folder, treino e validação\n",
        "  preds = learn.get_preds(dl=test_dl)[0]\n",
        "  for idx, pred in enumerate(preds):\n",
        "      # Get the row and column number from the test image file name\n",
        "      sample_image_path = list(test_dl.items)[idx]\n",
        "      row, column = get_row_column_from_filename(sample_image_path)\n",
        "\n",
        "      # Create a folder for each row if it doesn't exist\n",
        "      folder = os.path.join(predicted_folder)\n",
        "      os.makedirs(folder, exist_ok=True)\n",
        "\n",
        "      # Create a filename for the predicted mask image\n",
        "      predicted_filename = f'image_{row}_{column}_predicted.png'\n",
        "      predicted_filepath = os.path.join(folder, predicted_filename)\n",
        "\n",
        "      # Convert the predicted mask to a PIL Image\n",
        "      sample_pred = pred.argmax(dim=0).numpy()\n",
        "      predicted_image = Image.fromarray((sample_pred * 255).astype(np.uint8))\n",
        "\n",
        "      # Save the predicted mask image\n",
        "      predicted_image.save(predicted_filepath)"
      ],
      "metadata": {
        "id": "uzDnSpT_Ypc5"
      },
      "execution_count": null,
      "outputs": []
    },
    {
      "cell_type": "code",
      "source": [
        "# Put together all the clipped blocks from rasterio. The output file is a PNG image of the study area\n",
        "def merge_blocks(input_folder, output_filename, Nrows, Ncols, width, height, Nbands):\n",
        "    rows, columns = Nrows, Ncols  # Number of rows and columns in the grid\n",
        "    merged_width = width * columns\n",
        "    merged_height = height * rows\n",
        "\n",
        "    if Nbands == 1:\n",
        "        merged_image = Image.new('L', (merged_width, merged_height))  # Use 'L' mode for grayscale images\n",
        "    elif Nbands == 3:\n",
        "        merged_image = Image.new('RGB', (merged_width, merged_height))\n",
        "    else:\n",
        "        raise ValueError(\"Input must have 1 or 3 bands.\")\n",
        "\n",
        "    # Loop through each row and column to merge the images\n",
        "    for i in range(rows):\n",
        "        for j in range(columns):\n",
        "            if Nbands == 1:\n",
        "                # Load the label mask image and paste it as is (no conversion needed)\n",
        "                label_file = os.path.join(input_folder, f'image_{i}_{j}_mask.png')\n",
        "                label_image = Image.open(label_file)\n",
        "                merged_image.paste(label_image, (j * width, i * height))\n",
        "            elif Nbands == 3:\n",
        "                # Load the predicted mask image\n",
        "                predicted_file = os.path.join(input_folder, f'image_{i}_{j}_predicted.png')\n",
        "                #predicted_file = os.path.join(input_folder, f'image_{i}_{j}.png')\n",
        "                predicted_image = Image.open(predicted_file)\n",
        "                merged_image.paste(predicted_image, (j * width, i * height))\n",
        "\n",
        "    # Save the merged image\n",
        "    merged_output_file = os.path.join(input_folder, output_filename)\n",
        "    merged_image.save(merged_output_file)\n"
      ],
      "metadata": {
        "id": "KlhqH1_dFVap"
      },
      "execution_count": 101,
      "outputs": []
    },
    {
      "cell_type": "code",
      "source": [
        "# Calculate pixel-wise errors and store them in a dictionary\n",
        "# uses the test dataset, and displays the top 5 images where the error is higher (image and respective label, predicted label, and difference between them)\n",
        "def pixel_wise_errors (test_file_names, label_folder, predicted_folder, image_folder):\n",
        "  errors = {}\n",
        "  for file_name in test_file_names:\n",
        "      # Load the ground truth mask for the sample from the \"labels\" folder\n",
        "      row, column = get_row_column_from_filename(file_name)\n",
        "      mask_file = os.path.join(label_folder, f'image_{row}_{column}_mask.png')\n",
        "      true_mask = np.array(Image.open(mask_file))\n",
        "\n",
        "      # Load the predicted mask for the sample from the \"predicted\" folder\n",
        "      predicted_file = os.path.join(predicted_folder, f'image_{row}_{column}_predicted.png')\n",
        "      pred_mask = np.array(Image.open(predicted_file))\n",
        "\n",
        "      # Calculate the pixel-wise error between the true mask and predicted mask\n",
        "      error = np.sum(np.abs(true_mask - pred_mask))\n",
        "      errors[file_name] = error\n",
        "\n",
        "  # Sort the blocks by error in descending order\n",
        "  sorted_errors = {k: v for k, v in sorted(errors.items(), key=lambda item: item[1], reverse=True)}\n",
        "\n",
        "  # Get the file names of the blocks with the highest errors\n",
        "  top_5_blocks = list(sorted_errors.keys())[:5]\n",
        "\n",
        "  # Display the top 5 blocks with the highest errors\n",
        "  num_columns = 4\n",
        "\n",
        "  fig, axes = plt.subplots(len(top_5_blocks), num_columns, figsize=(20, 5 * len(top_5_blocks)))\n",
        "\n",
        "  for i, file_name in enumerate(top_5_blocks):\n",
        "      sample_image_path = os.path.join(image_folder, file_name)\n",
        "      sample_image = PILImage.create(sample_image_path)\n",
        "\n",
        "      # Load the ground truth mask for the sample from the \"labels1\" folder\n",
        "      row, column = get_row_column_from_filename(file_name)\n",
        "      mask_file = os.path.join(label_folder, f'image_{row}_{column}_mask.png')\n",
        "      true_mask = np.array(Image.open(mask_file))\n",
        "\n",
        "      # Load the predicted mask for the sample from the \"predicted\" folder\n",
        "      predicted_file = os.path.join(predicted_folder, f'image_{row}_{column}_predicted.png')\n",
        "      pred_mask = np.array(Image.open(predicted_file))\n",
        "\n",
        "      # Display the satellite aggregate image with file name as title\n",
        "      axes[i, 0].imshow(sample_image)\n",
        "      # Add the line below to set the title\n",
        "      axes[i, 0].set_title(str(file_name) + \" (Error: \" + str(errors[file_name]) + \")\")\n",
        "      #axes[i, 0].set_title(file_name + \" (Error: \" + str(errors[file_name]) + \")\")\n",
        "      axes[i, 0].axis('off')\n",
        "\n",
        "      # Display the true mask\n",
        "      axes[i, 1].imshow(true_mask, cmap='gray')\n",
        "      axes[i, 1].set_title('True Mask')\n",
        "      axes[i, 1].axis('off')\n",
        "\n",
        "      # Display the predicted mask\n",
        "      axes[i, 2].imshow(pred_mask, cmap='tab20')\n",
        "      axes[i, 2].set_title('Predicted Mask')\n",
        "      axes[i, 2].axis('off')\n",
        "\n",
        "      # Display the difference between true and predicted masks\n",
        "      difference_mask = true_mask - pred_mask\n",
        "      axes[i, 3].imshow(difference_mask, cmap='coolwarm', vmin=-1, vmax=1)\n",
        "      axes[i, 3].set_title('Difference')\n",
        "      axes[i, 3].axis('off')\n",
        "\n",
        "  plt.tight_layout()\n",
        "  plt.show()"
      ],
      "metadata": {
        "id": "nZ7OeLALFd3Z"
      },
      "execution_count": null,
      "outputs": []
    },
    {
      "cell_type": "code",
      "source": [
        "# Displays 6 examples of images and their respective labels and predicted labels\n",
        "def display_images(directory, image_folder, label_folder, predicted_folder, preds):\n",
        "    preds = learn.get_preds(dl=dls.valid)[0]\n",
        "    # Display sample predictions using file names of test_set\n",
        "    sample_files = [Path(file_path).name for file_path in test_file_names]\n",
        "\n",
        "    # Slice the sample_files list to include only the first 6 samples\n",
        "    sample_files = sample_files[:6]\n",
        "\n",
        "    # Define the number of columns (including both true and predicted masks)\n",
        "    num_columns = 3\n",
        "\n",
        "    fig, axes = plt.subplots(len(sample_files), num_columns, figsize=(15, 5 * len(sample_files)))\n",
        "\n",
        "    for i, file_name in enumerate(sample_files):\n",
        "        sample_image_path = os.path.join(image_folder, file_name)\n",
        "        sample_image = PILImage.create(sample_image_path)\n",
        "        sample_pred = preds[i].argmax(dim=0).numpy()\n",
        "\n",
        "        # Load the ground truth mask for the sample from the \"labels\" folder\n",
        "        row, column = get_row_column_from_filename(file_name)\n",
        "        mask_file = os.path.join(label_folder, f'image_{row}_{column}_mask.png')\n",
        "        true_mask = np.array(Image.open(mask_file))\n",
        "\n",
        "        # Load the predicted mask for the sample from the \"predicted\" folder\n",
        "        predicted_file = os.path.join(predicted_folder, f'image_{row}_{column}_predicted.png')\n",
        "        pred_mask = np.array(Image.open(predicted_file))\n",
        "\n",
        "        # image of satellite aggregate\n",
        "        axes[i, 0].imshow(sample_image)\n",
        "        axes[i, 0].set_title('Image')\n",
        "        axes[i, 0].axis('off')\n",
        "\n",
        "        # image of true mask\n",
        "        axes[i, 1].imshow(true_mask, cmap='gray')\n",
        "        axes[i, 1].set_title(file_name + \" True mask\")\n",
        "        axes[i, 1].axis('off')\n",
        "\n",
        "        # image of predicted mask\n",
        "        axes[i, 2].imshow(pred_mask, cmap='tab20')\n",
        "        axes[i, 2].set_title(file_name + \" Predicted mask\")\n",
        "        axes[i, 2].axis('off')\n",
        "\n",
        "    plt.tight_layout()\n",
        "    plt.show()\n"
      ],
      "metadata": {
        "id": "0oYnc5oM5wsP"
      },
      "execution_count": null,
      "outputs": []
    },
    {
      "cell_type": "code",
      "source": [
        "#Converts the true and predicted mask to flat arrays. These will be used to calculate the confusion matrix\n",
        "def true_and_pred_mask_to_1D_numpy (dls, preds):\n",
        "  true_masks = [y for _, y in dls.valid] # Get the ground truth masks for the test set\n",
        "  true_masks = torch.cat(true_masks).cpu().numpy() # Convert the list of true masks to a numpy array\n",
        "  true_masks_flat = true_masks.ravel() # Flatten the masks to be 1D arrays\n",
        "  predicted_masks = preds.argmax(dim=1).numpy() # Convert the predicted masks to a numpy array\n",
        "  predicted_masks_flat = predicted_masks.ravel() # Flatten the masks to be 1D arrays\n",
        "  return true_masks_flat, predicted_masks_flat"
      ],
      "metadata": {
        "id": "G6nx-R7XxTr8"
      },
      "execution_count": 102,
      "outputs": []
    },
    {
      "cell_type": "code",
      "source": [
        "# Calculate model accuracy on test dataset\n",
        "def model_accuracy(true_masks_flat, predicted_masks_flat):\n",
        "    # Calculate the total number of pixels\n",
        "    total_pixels = len(true_masks_flat)\n",
        "\n",
        "    # Calculate the number of correctly predicted pixels (True Positives + True Negatives)\n",
        "    correct_pixels = np.sum(true_masks_flat == predicted_masks_flat)\n",
        "\n",
        "    # Calculate the model accuracy\n",
        "    accuracy = correct_pixels / total_pixels\n",
        "\n",
        "    return accuracy"
      ],
      "metadata": {
        "id": "wfNAskwSLdP-"
      },
      "execution_count": null,
      "outputs": []
    },
    {
      "cell_type": "code",
      "source": [
        "# Convert to grayscale and resize the predicted PNG mask to the same size as the label PNG\n",
        "def convert_and_resize_pred_mask (input_folder, output_filename, input_filename):\n",
        "  predicted_mask = Image.open(os.path.join(input_folder, input_filename))# Load the predicted PNG mask\n",
        "  predicted_mask = predicted_mask.convert('L')# Convert the predicted mask to grayscale\n",
        "  predicted_mask = predicted_mask.resize(ground_truth_mask.shape[::-1], Image.ANTIALIAS)# Resize the predicted mask to match the dimensions of the ground truth mask\n",
        "  resized_predicted_mask = np.array(predicted_mask)# Convert to a NumPy array\n",
        "  # Save the merged image\n",
        "  #resized_predicted_mask = os.path.join(input_folder, output_filename)\n",
        "  #Image.fromarray(resized_predicted_mask).save(resized_predicted_mask)\n",
        "  return resized_predicted_mask"
      ],
      "metadata": {
        "id": "N9g30cB15sgv"
      },
      "execution_count": null,
      "outputs": []
    },
    {
      "cell_type": "code",
      "source": [
        "# Calculate, store and display the comission and omission errors based on the ground_truth_mask and resized_predicted_mask\n",
        "def comission_omission_erros (ground_truth_mask, resized_predicted_mask, output_folder, output_filename):\n",
        "  aligned_predicted_mask = np.array(resized_predicted_mask)# Create an aligned predicted mask with the same values as the ground truth mask\n",
        "  commission_errors = (aligned_predicted_mask == 1) & (ground_truth_mask == 0)# Identify commission errors (false positives)\n",
        "  omission_errors = (aligned_predicted_mask == 0) & (ground_truth_mask == 1)# Identify omission errors (false negatives)\n",
        "  merged_image = np.zeros((ground_truth_mask.shape[0], ground_truth_mask.shape[1], 3), dtype=np.uint8)# Create a merged image for visualization\n",
        "  correct_identifications = (aligned_predicted_mask == ground_truth_mask)# Mark correct identifications in green\n",
        "  merged_image[correct_identifications] = [0, 255, 0]  # Green color\n",
        "  merged_image[commission_errors] = [255, 255, 0]  # Yellow color # Mark commission errors (false positives) in yellow\n",
        "  merged_image[omission_errors] = [255, 0, 0]  # Red color# Mark omission errors (false negatives) in red\n",
        "\n",
        "  # Display the merged image\n",
        "  plt.figure(figsize=(8, 6))\n",
        "  plt.imshow(merged_image)\n",
        "  plt.axis('off')\n",
        "  plt.title('Merged Image with Correct Identifications (Green), Commission (Yellow), and Omission (Red) Errors')\n",
        "  plt.show()\n",
        "\n",
        "  # Save the merged image\n",
        "  merged_output_file = os.path.join(output_folder, output_filename)\n",
        "  plt.imsave(merged_output_file, merged_image)"
      ],
      "metadata": {
        "id": "4gc-nNdmMiqV"
      },
      "execution_count": null,
      "outputs": []
    },
    {
      "cell_type": "markdown",
      "source": [
        "**Images Pre-processing**"
      ],
      "metadata": {
        "id": "3cK-gDW-LPAE"
      }
    },
    {
      "cell_type": "code",
      "source": [
        "display_unique_values_tiff_file(os.path.join(directory, 'mask_3763_reclass.tif'))"
      ],
      "metadata": {
        "id": "d4YPqIsFfoUv"
      },
      "execution_count": null,
      "outputs": []
    },
    {
      "cell_type": "code",
      "source": [
        "convert_nodata_values (-3.40282e+38, os.path.join(directory, 'mask_3763_reclass.tif'), os.path.join(directory, 'mask_3763_reclass_bin.tif'))"
      ],
      "metadata": {
        "id": "x8kTcmBzdlI0"
      },
      "execution_count": null,
      "outputs": []
    },
    {
      "cell_type": "code",
      "source": [
        "display_unique_values_tiff_file(os.path.join(directory, 'mask_3763_reclass_bin.tif'))"
      ],
      "metadata": {
        "id": "8FhZjcdDe-cO"
      },
      "execution_count": null,
      "outputs": []
    },
    {
      "cell_type": "code",
      "source": [
        "display_tiff_file (os.path.join(directory, 'mask_3763_reclass_bin.tif'))"
      ],
      "metadata": {
        "id": "pWUqnuOGeYNH"
      },
      "execution_count": null,
      "outputs": []
    },
    {
      "cell_type": "code",
      "source": [
        "bigmin, bigmax = calculate_bigmin_bigmax (os.path.join(directory, '3bands_clipped_tif.tif'))"
      ],
      "metadata": {
        "id": "BDrFy8ginYIJ"
      },
      "execution_count": null,
      "outputs": []
    },
    {
      "cell_type": "markdown",
      "source": [
        "**Main Execution**"
      ],
      "metadata": {
        "id": "-mtbNEyy13EK"
      }
    },
    {
      "cell_type": "code",
      "source": [
        "# Clip and rescale label images\n",
        "clip_raster_and_rescale(os.path.join(directory, 'mask_3763_reclass_bin.tif'), label_folder, Nrows, Ncols)\n",
        "\n",
        "# Clip and rescale image bands acording to bigmin and bigmax\n",
        "height, width = clip_raster_and_rescale(os.path.join(directory, '3bands_clipped_tif.tif'), image_folder, Nrows, Ncols)\n"
      ],
      "metadata": {
        "id": "bbh6Po2i11FR"
      },
      "execution_count": null,
      "outputs": []
    },
    {
      "cell_type": "code",
      "source": [
        "# Create DataBlock\n",
        "items = get_items(image_folder)\n",
        "dblock = DataBlock(blocks=(ImageBlock, MaskBlock(target_names)),\n",
        "                   get_items=get_items,\n",
        "                   get_y=get_mask_fn,\n",
        "                   splitter=RandomSplitter(valid_pct=0.2, seed=42))\n",
        "\n",
        "# Create DataLoaders\n",
        "dls = dblock.dataloaders(image_folder, bs=8)"
      ],
      "metadata": {
        "id": "Xh01DHoP151G"
      },
      "execution_count": null,
      "outputs": []
    },
    {
      "cell_type": "code",
      "source": [
        "# Extract file names of the training dataset\n",
        "train_file_names = dls.train_ds.items\n",
        "# Extract file names of the test dataset\n",
        "test_file_names = dls.valid_ds.items\n",
        "#print(train_file_names)\n",
        "#print(test_file_names)"
      ],
      "metadata": {
        "id": "lr-63mj-wGN7"
      },
      "execution_count": null,
      "outputs": []
    },
    {
      "cell_type": "code",
      "source": [
        "# Define U-Net model\n",
        "learn = unet_learner(dls, resnet34)\n",
        "#learn.fit_one_cycle(12, 3e-3, wd=1e-2)\n",
        "#learn.unfreeze()\n",
        "#learn.fit_one_cycle(12, slice(1e-5, 1e-3), wd=1e-2)\n",
        "\n",
        "# Train the model\n",
        "learn.fine_tune(N_epochs)"
      ],
      "metadata": {
        "id": "4IOZNJs634yD"
      },
      "execution_count": null,
      "outputs": []
    },
    {
      "cell_type": "code",
      "source": [
        "#Save the model according to number of epochs used\n",
        "learn.export(os.path.join(directory, 'model_20epochs.pkl'))"
      ],
      "metadata": {
        "id": "wnNby5Ttmy26"
      },
      "execution_count": null,
      "outputs": []
    },
    {
      "cell_type": "code",
      "source": [
        "#Load the model to be used\n",
        "learn = load_learner(os.path.join(directory, 'model_30epochs.pkl'))"
      ],
      "metadata": {
        "id": "-LZETzvko5JQ"
      },
      "execution_count": null,
      "outputs": []
    },
    {
      "cell_type": "code",
      "source": [
        "# Perform inference on test images\n",
        "test_dl = dls.test_dl(get_image_files(image_folder)) # usa todas as 160 imagens em image_folder, treino e validação\n",
        "preds = learn.get_preds(dl=test_dl)\n",
        "print(preds[0].shape, preds[1])"
      ],
      "metadata": {
        "id": "N0GMFc5XH0mz"
      },
      "execution_count": null,
      "outputs": []
    },
    {
      "cell_type": "code",
      "source": [
        "# Display one example of a prediction\n",
        "sample_preds (preds)"
      ],
      "metadata": {
        "id": "GplRY-LqtyJb"
      },
      "execution_count": null,
      "outputs": []
    },
    {
      "cell_type": "code",
      "source": [
        "# Save the predicted mask images (png) according to their row and column number\n",
        "create_predited_mask(image_folder, learn, predicted_folder)"
      ],
      "metadata": {
        "id": "Xy7wt7tCWKgr"
      },
      "execution_count": null,
      "outputs": []
    },
    {
      "cell_type": "code",
      "source": [
        "# Put together all the blocks in label_folder\n",
        "merge_blocks(label_folder,'merge_image_13_2009.png', Nrows, Ncols, width, height, Nbands=1)"
      ],
      "metadata": {
        "id": "rMWK-dU5T71-"
      },
      "execution_count": null,
      "outputs": []
    },
    {
      "cell_type": "code",
      "source": [
        "# Put together all the blocks in predicted_folder\n",
        "merge_blocks(predicted_folder,'merge_predicted_30_1909.png', Nrows, Ncols, width, height, Nbands = 3)"
      ],
      "metadata": {
        "id": "A92-jgOJWZmg"
      },
      "execution_count": null,
      "outputs": []
    },
    {
      "cell_type": "markdown",
      "source": [
        "**Results**"
      ],
      "metadata": {
        "id": "ADKpQqHlNlvH"
      }
    },
    {
      "cell_type": "code",
      "source": [
        "# Display images, ground-truth mask and the respective predicted mask\n",
        "display_images(directory, image_folder, label_folder, predicted_folder, preds)"
      ],
      "metadata": {
        "id": "QJQ9D43r50hu"
      },
      "execution_count": null,
      "outputs": []
    },
    {
      "cell_type": "code",
      "source": [
        "# Calculate and display images, ground-truth mask and the respective predicted mask, plus the pixel-wise error associated to each block\n",
        "pixel_wise_errors(test_file_names, label_folder, predicted_folder, image_folder)"
      ],
      "metadata": {
        "id": "QmKTh_NL4QY_"
      },
      "execution_count": null,
      "outputs": []
    },
    {
      "cell_type": "code",
      "source": [
        "# Perform inference on the test set\n",
        "preds, _ = learn.get_preds(dl=dls.valid)\n",
        "\n",
        "# Calculate the confusion matrix for the test set\n",
        "true_masks_flat, predicted_masks_flat = true_and_pred_mask_to_1D_numpy(dls, preds)\n",
        "conf_matrix = confusion_matrix(true_masks_flat, predicted_masks_flat)\n",
        "\n",
        "print(\"Confusion Matrix for the Test Set:\")\n",
        "print(conf_matrix)\n"
      ],
      "metadata": {
        "id": "L4pF_-AoFhHM"
      },
      "execution_count": null,
      "outputs": []
    },
    {
      "cell_type": "code",
      "source": [
        "#Accuracy of the model\n",
        "accuracy = model_accuracy(true_masks_flat, predicted_masks_flat)\n",
        "print(\"Model Accuracy for the Test Set: {:.2f}%\".format(accuracy * 100))"
      ],
      "metadata": {
        "id": "qBSGOu2fLkGs"
      },
      "execution_count": null,
      "outputs": []
    },
    {
      "cell_type": "code",
      "source": [
        "# Calculate and print the classification report\n",
        "report = classification_report(true_masks_flat, predicted_masks_flat, target_names=target_names)\n",
        "print(\"\\nClassification Report for the Test Set:\")\n",
        "print(report)"
      ],
      "metadata": {
        "id": "to6LPRUMFmJv"
      },
      "execution_count": null,
      "outputs": []
    },
    {
      "cell_type": "code",
      "source": [
        "def convert_values_png (pixelvalue, input_file, output_file):\n",
        "  # Load the PNG image\n",
        "  input_file = os.path.join(predicted_folder, 'merge_predicted_30_1909.png')\n",
        "  output_file = os.path.join(predicted_folder, 'merge_pred_converted.png')\n",
        "  image = Image.open(input_file)\n",
        "\n",
        "  # Convert the image to grayscale (optional, depending on your input)\n",
        "  image = image.convert('L')\n",
        "\n",
        "  # Create a new image to store the modified pixels\n",
        "  new_image = Image.new('L', image.size)\n",
        "\n",
        "  # Iterate over the pixels and replace 255 with 1, leaving other values as 0\n",
        "  for x in range(image.width):\n",
        "      for y in range(image.height):\n",
        "          pixel_value = image.getpixel((x, y))\n",
        "          if pixel_value == pixelvalue:\n",
        "              new_image.putpixel((x, y), 1)\n",
        "          else:\n",
        "              new_image.putpixel((x, y), 0)\n",
        "\n",
        "  # Save the modified image\n",
        "  new_image.save(output_file)\n",
        "\n",
        "  print(\"Image processing complete. Saved as\", output_file)"
      ],
      "metadata": {
        "id": "-CUdRsa8OiEY"
      },
      "execution_count": 115,
      "outputs": []
    },
    {
      "cell_type": "code",
      "source": [
        "# replace pixel values from 255 to 1. Output file is a png with pixels 0 and 1\n",
        "convert_values_png(pixelvalue = 255)"
      ],
      "metadata": {
        "id": "jQQUCgfZPHrn"
      },
      "execution_count": null,
      "outputs": []
    },
    {
      "cell_type": "code",
      "source": [
        "display_unique_values_and_datatype(os.path.join(predicted_folder, 'merge_pred_converted.png'))"
      ],
      "metadata": {
        "id": "geDfQnXa9qRV"
      },
      "execution_count": null,
      "outputs": []
    },
    {
      "cell_type": "code",
      "source": [
        "# Comission and Omission Errors\n",
        "# Load the ground truth TIFF mask and predicted PNG mask\n",
        "#with rasterio.open(os.path.join(directory, 'mask_3763_reclass_bin.tif')) as tiff_mask:\n",
        "#    ground_truth_mask = tiff_mask.read(1)  # Assuming it's a one-band TIFF\n",
        "ground_truth_mask = Image.open(os.path.join(label_folder, 'merge_image_13_2009.png'))\n",
        "resized_predicted_mask = convert_and_resize_pred_mask(predicted_folder, 'resized_predicted_mask_30_1909.png', 'merge_pred_converted.png')\n",
        "\n",
        "comission_omission_erros (ground_truth_mask, resized_predicted_mask, predicted_folder, 'comission_omission.png')"
      ],
      "metadata": {
        "id": "rvUuWH461AxU",
        "colab": {
          "base_uri": "https://localhost:8080/",
          "height": 556
        },
        "outputId": "8f3f9935-7ab5-4c1a-aded-7100f169c645"
      },
      "execution_count": 113,
      "outputs": [
        {
          "output_type": "stream",
          "name": "stderr",
          "text": [
            "<ipython-input-22-fb8f29f022fd>:5: DeprecationWarning: ANTIALIAS is deprecated and will be removed in Pillow 10 (2023-07-01). Use LANCZOS or Resampling.LANCZOS instead.\n",
            "  predicted_mask = predicted_mask.resize(ground_truth_mask.shape[::-1], Image.ANTIALIAS)# Resize the predicted mask to match the dimensions of the ground truth mask\n"
          ]
        },
        {
          "output_type": "display_data",
          "data": {
            "text/plain": [
              "<Figure size 800x600 with 1 Axes>"
            ],
            "image/png": "[encoded data removed]"
          },
          "metadata": {}
        }
      ]
    }
  ]
}