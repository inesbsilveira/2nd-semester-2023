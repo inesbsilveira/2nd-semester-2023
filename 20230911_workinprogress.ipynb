{
  "nbformat": 4,
  "nbformat_minor": 0,
  "metadata": {
    "colab": {
      "provenance": [],
      "authorship_tag": "ABX9TyM2HYn0D+ifyEv4kiORZtZW",
      "include_colab_link": true
    },
    "kernelspec": {
      "name": "python3",
      "display_name": "Python 3"
    },
    "language_info": {
      "name": "python"
    }
  },
  "cells": [
    {
      "cell_type": "markdown",
      "metadata": {
        "id": "view-in-github",
        "colab_type": "text"
      },
      "source": [
        "<a href=\"https://colab.research.google.com/github/inesbsilveira/2nd-semester-2023/blob/main/20230911_workinprogress.ipynb\" target=\"_parent\"><img src=\"https://colab.research.google.com/assets/colab-badge.svg\" alt=\"Open In Colab\"/></a>"
      ]
    },
    {
      "cell_type": "code",
      "execution_count": 1,
      "metadata": {
        "colab": {
          "base_uri": "https://localhost:8080/"
        },
        "id": "OduyU9nw0P7o",
        "outputId": "6a26cea5-af19-4c45-e3f8-636ac60d8d06"
      },
      "outputs": [
        {
          "output_type": "stream",
          "name": "stdout",
          "text": [
            "Collecting rasterio\n",
            "  Downloading rasterio-1.3.8-cp310-cp310-manylinux_2_17_x86_64.manylinux2014_x86_64.whl (21.3 MB)\n",
            "\u001b[2K     \u001b[90m━━━━━━━━━━━━━━━━━━━━━━━━━━━━━━━━━━━━━━━━\u001b[0m \u001b[32m21.3/21.3 MB\u001b[0m \u001b[31m49.4 MB/s\u001b[0m eta \u001b[36m0:00:00\u001b[0m\n",
            "\u001b[?25hCollecting affine (from rasterio)\n",
            "  Downloading affine-2.4.0-py3-none-any.whl (15 kB)\n",
            "Requirement already satisfied: attrs in /usr/local/lib/python3.10/dist-packages (from rasterio) (23.1.0)\n",
            "Requirement already satisfied: certifi in /usr/local/lib/python3.10/dist-packages (from rasterio) (2023.7.22)\n",
            "Requirement already satisfied: click>=4.0 in /usr/local/lib/python3.10/dist-packages (from rasterio) (8.1.7)\n",
            "Requirement already satisfied: cligj>=0.5 in /usr/local/lib/python3.10/dist-packages (from rasterio) (0.7.2)\n",
            "Requirement already satisfied: numpy>=1.18 in /usr/local/lib/python3.10/dist-packages (from rasterio) (1.23.5)\n",
            "Collecting snuggs>=1.4.1 (from rasterio)\n",
            "  Downloading snuggs-1.4.7-py3-none-any.whl (5.4 kB)\n",
            "Requirement already satisfied: click-plugins in /usr/local/lib/python3.10/dist-packages (from rasterio) (1.1.1)\n",
            "Requirement already satisfied: setuptools in /usr/local/lib/python3.10/dist-packages (from rasterio) (67.7.2)\n",
            "Requirement already satisfied: pyparsing>=2.1.6 in /usr/local/lib/python3.10/dist-packages (from snuggs>=1.4.1->rasterio) (3.1.1)\n",
            "Installing collected packages: snuggs, affine, rasterio\n",
            "Successfully installed affine-2.4.0 rasterio-1.3.8 snuggs-1.4.7\n"
          ]
        }
      ],
      "source": [
        "!pip install rasterio"
      ]
    },
    {
      "cell_type": "code",
      "source": [
        "import rasterio\n",
        "from rasterio.windows import Window\n",
        "import os\n",
        "import shutil\n",
        "import numpy as np\n",
        "from PIL import Image\n",
        "\n",
        "from fastai.vision.all import *\n",
        "from sklearn.metrics import confusion_matrix\n",
        "\n",
        "from sklearn.metrics import classification_report\n",
        "from sklearn.metrics import roc_auc_score"
      ],
      "metadata": {
        "id": "sakoF1ln0VTZ"
      },
      "execution_count": 2,
      "outputs": []
    },
    {
      "cell_type": "code",
      "source": [
        "from google.colab import drive\n",
        "drive.mount('/content/drive')"
      ],
      "metadata": {
        "colab": {
          "base_uri": "https://localhost:8080/"
        },
        "id": "0tUNND6M0YhP",
        "outputId": "b6736399-0404-4e5a-c797-6e820c23bbc2"
      },
      "execution_count": 3,
      "outputs": [
        {
          "output_type": "stream",
          "name": "stdout",
          "text": [
            "Mounted at /content/drive\n"
          ]
        }
      ]
    },
    {
      "cell_type": "code",
      "source": [
        "user='I' # escolher 'M' ou 'I'\n",
        "N_epochs=2\n",
        "target_names = ['not greenhouse', 'greenhouse']\n",
        "Nrows,Ncols = 20, 8 # número de blocos a usar 20*8=160"
      ],
      "metadata": {
        "id": "o6ETvT3E2anV"
      },
      "execution_count": 24,
      "outputs": []
    },
    {
      "cell_type": "code",
      "source": [
        "# Specify the directory path\n",
        "if user=='M':\n",
        "  directory = '/content/drive/MyDrive/inv_proj/S2change_DGT/Estufas_Alentejo'\n",
        "else:\n",
        "  directory = '/content/drive/MyDrive/AAA/'\n",
        "\n",
        "image_folder_name = \"images\"\n",
        "label_folder_name = \"labels\"\n",
        "predicted_folder_name = \"predicted\"\n",
        "image_folder = os.path.join(directory, image_folder_name)\n",
        "label_folder = os.path.join(directory, label_folder_name)\n",
        "predicted_folder = os.path.join(directory, predicted_folder_name)\n",
        "\n",
        "training_set_file_name = \"training_set.txt\"\n",
        "test_set_file_name = \"test_set.txt\""
      ],
      "metadata": {
        "id": "N8XRKFTv0eMr"
      },
      "execution_count": 5,
      "outputs": []
    },
    {
      "cell_type": "markdown",
      "source": [
        "Rasterio"
      ],
      "metadata": {
        "id": "uaj9hWTw03I9"
      }
    },
    {
      "cell_type": "code",
      "source": [
        "def clip_raster_to_subrasters(input_file, output_folder, Nrows, Ncols):\n",
        "    with rasterio.open(input_file) as src:\n",
        "        height = src.height // Nrows\n",
        "        width = src.width // Ncols\n",
        "\n",
        "        for i in range(Nrows):\n",
        "            for j in range(Ncols):\n",
        "                ymin = i * height\n",
        "                ymax = (i + 1) * height\n",
        "                xmin = j * width\n",
        "                xmax = (j + 1) * width\n",
        "                window = Window.from_slices((ymin, ymax), (xmin, xmax))\n",
        "\n",
        "                clipped_data = src.read(window=window)\n",
        "                clipped_meta = src.meta.copy()\n",
        "                clipped_meta.update({\n",
        "                    'height': window.height,\n",
        "                    'width': window.width,\n",
        "                    'transform': src.window_transform(window)\n",
        "                })\n",
        "\n",
        "                output_file = os.path.join(output_folder, f'image_{i}_{j}_mask.png')\n",
        "                with rasterio.open(output_file, 'w', **clipped_meta) as dst:\n",
        "                    dst.write(clipped_data)\n"
      ],
      "metadata": {
        "id": "t0iuK0FJ05WV"
      },
      "execution_count": 7,
      "outputs": []
    },
    {
      "cell_type": "code",
      "source": [
        "def rescale_to_8bits(arr):\n",
        "    arr_std = (arr - np.min(arr)) / (np.max(arr) - np.min(arr)) * 255\n",
        "    arr_std = arr_std.astype(np.uint8)\n",
        "    return arr_std"
      ],
      "metadata": {
        "id": "mwjpUJst1hl0"
      },
      "execution_count": 8,
      "outputs": []
    },
    {
      "cell_type": "code",
      "source": [
        "def clip_and_rescale_to_8bits(input_file, output_folder, Nrows, Ncols):\n",
        "    with rasterio.open(input_file) as src:\n",
        "        height = src.height // Nrows\n",
        "        width = src.width // Ncols\n",
        "\n",
        "        for i in range(Nrows):\n",
        "            for j in range(Ncols):\n",
        "                ymin = i * height\n",
        "                ymax = (i + 1) * height\n",
        "                xmin = j * width\n",
        "                xmax = (j + 1) * width\n",
        "                window = Window.from_slices((ymin, ymax), (xmin, xmax))\n",
        "\n",
        "                clipped_data_1 = rescale_to_8bits(src.read(1, window=window))\n",
        "                clipped_data_2 = rescale_to_8bits(src.read(2, window=window))\n",
        "                clipped_data_3 = rescale_to_8bits(src.read(3, window=window))\n",
        "\n",
        "                rgb_image = np.stack([clipped_data_1, clipped_data_2, clipped_data_3], axis=2)\n",
        "\n",
        "                image = Image.fromarray(rgb_image, mode='RGB')\n",
        "                output_file = os.path.join(output_folder, f'image_{i}_{j}.png')\n",
        "                image.save(output_file)\n"
      ],
      "metadata": {
        "id": "H4ZhIxve1iQs"
      },
      "execution_count": 9,
      "outputs": []
    },
    {
      "cell_type": "code",
      "source": [
        "# Define the function to extract the row and column number from the test image file name\n",
        "def get_row_column_from_filename(filename):\n",
        "    filename = os.path.basename(filename)\n",
        "    parts = filename.split('_')\n",
        "    row = int(parts[1])\n",
        "    column = int(parts[2].split('.')[0])\n",
        "    return row, column"
      ],
      "metadata": {
        "id": "vZl3fLcu4jCz"
      },
      "execution_count": 17,
      "outputs": []
    },
    {
      "cell_type": "code",
      "source": [
        "# Create DataBlock\n",
        "def get_items(path):\n",
        "    image_files = get_image_files(image_folder)\n",
        "    return image_files\n",
        "\n",
        "def get_mask_fn(image_file):\n",
        "    return mask_folder / f'{image_file.stem}_mask.png'"
      ],
      "metadata": {
        "id": "8nGEV9Zo4mef"
      },
      "execution_count": 18,
      "outputs": []
    },
    {
      "cell_type": "code",
      "source": [
        "# Save predicted mask\n",
        "def save_predicted_masks(test_dl, learn, output_folder):\n",
        "    preds = learn.get_preds(dl=test_dl)[0]\n",
        "    for idx, pred in enumerate(preds):\n",
        "        sample_image_path = list(test_dl.items)[idx]\n",
        "        row, column = get_row_column_from_filename(sample_image_path)\n",
        "        row_folder = os.path.join(output_folder, f'row_{row}')\n",
        "        os.makedirs(row_folder, exist_ok=True)\n",
        "        predicted_filename = f'image_{row}_{column}_predicted.png'\n",
        "        predicted_filepath = os.path.join(row_folder, predicted_filename)\n",
        "        sample_pred = pred.argmax(dim=0).numpy()\n",
        "        predicted_image = Image.fromarray((sample_pred * 255).astype(np.uint8))\n",
        "        predicted_image.save(predicted_filepath)"
      ],
      "metadata": {
        "id": "p66exq3g4zcg"
      },
      "execution_count": 19,
      "outputs": []
    },
    {
      "cell_type": "code",
      "source": [
        "# Merge the predicted mask\n",
        "def merge_predicted_masks(input_folder, output_file, Nrows, Ncols):\n",
        "    height = width = None\n",
        "    for i in range(Nrows):\n",
        "        for j in range(Ncols):\n",
        "            predicted_file = os.path.join(input_folder, f'row_{i}', f'image_{i}_{j}_predicted.png')\n",
        "            predicted_image = Image.open(predicted_file)\n",
        "            if height is None:\n",
        "                width, height = predicted_image.size\n",
        "            else:\n",
        "                width, height = max(width, predicted_image.width), max(height, predicted_image.height)\n",
        "\n",
        "    merged_width = width * Ncols\n",
        "    merged_height = height * Nrows\n",
        "    merged_image = Image.new('RGB', (merged_width, merged_height))\n",
        "\n",
        "    for i in range(Nrows):\n",
        "        for j in range(Ncols):\n",
        "            predicted_file = os.path.join(input_folder, f'row_{i}', f'image_{i}_{j}_predicted.png')\n",
        "            predicted_image = Image.open(predicted_file)\n",
        "            x_offset = j * width\n",
        "            y_offset = i * height\n",
        "            merged_image.paste(predicted_image, (x_offset, y_offset))\n",
        "\n",
        "    merged_image.save(output_file)"
      ],
      "metadata": {
        "id": "8xl7cAQp5bK2"
      },
      "execution_count": 20,
      "outputs": []
    },
    {
      "cell_type": "code",
      "source": [
        "def display_sample_predictions(sample_files, test_dl, learn, image_folder, label_folder, predicted_folder):\n",
        "    num_columns = 3\n",
        "    fig, axes = plt.subplots(len(sample_files), num_columns, figsize=(15, 5 * len(sample_files)))\n",
        "\n",
        "    for i, file_name in enumerate(sample_files):\n",
        "        sample_image_path = image_folder / file_name\n",
        "        sample_image = PILImage.create(sample_image_path)\n",
        "        sample_pred = learn.get_preds(dl=test_dl)[0][i].argmax(dim=0).numpy()\n",
        "        row, column = get_row_column_from_filename(file_name)\n",
        "        # Load the truth mask\n",
        "        true_mask = np.array(Image.open(label_folder / f'image_{row}_{column}_mask.png'))\n",
        "        # Load the predicted mask for the sample from the \"predicted\" folder\n",
        "        predicted_mask = np.array(Image.open(predicted_folder/ f'image_{row}_{column}_predicted.png'))\n",
        "\n",
        "        axes[i, 0].imshow(sample_image)\n",
        "        axes[i, 0].set_title('Image')\n",
        "        axes[i, 0].axis('off')\n",
        "\n",
        "        axes[i, 1].imshow(true_mask, cmap='gray')\n",
        "        axes[i, 1].set_title(file_name + \" True mask\")\n",
        "        axes[i, 1].axis('off')\n",
        "\n",
        "        axes[i, 2].imshow(sample_pred, cmap='tab20')\n",
        "        axes[i, 2].set_title(file_name + \" Predicted mask\")\n",
        "        axes[i, 2].axis('off')\n",
        "\n",
        "    plt.tight_layout()\n",
        "    plt.show()"
      ],
      "metadata": {
        "id": "bmerMTqW7iOc"
      },
      "execution_count": 21,
      "outputs": []
    },
    {
      "cell_type": "markdown",
      "source": [
        "Main Execution"
      ],
      "metadata": {
        "id": "-mtbNEyy13EK"
      }
    },
    {
      "cell_type": "code",
      "source": [
        "# Clip and rescale label images\n",
        "clip_raster_to_subrasters(os.path.join(directory, 'mask_3763_reclass.tif'), label_folder, Nrows, Ncols)\n",
        "\n",
        "# Clip and rescale image bands\n",
        "clip_and_rescale_to_8bits(os.path.join(directory, '3bands_clipped_tif.tif'), image_folder, Nrows, Ncols)\n"
      ],
      "metadata": {
        "id": "bbh6Po2i11FR"
      },
      "execution_count": 10,
      "outputs": []
    },
    {
      "cell_type": "code",
      "source": [
        "path=Path(directory)\n",
        "image_folder = path/'images'\n",
        "mask_folder = path/'labels'\n",
        "\n",
        "# Create DataBlock\n",
        "items = get_items(path)\n",
        "dblock = DataBlock(blocks=(ImageBlock, MaskBlock(target_names)),\n",
        "                   get_items=get_items,\n",
        "                   get_y=get_mask_fn,\n",
        "                   splitter=RandomSplitter(valid_pct=0.2, seed=42))\n",
        "\n",
        "# Create DataLoaders\n",
        "dls = dblock.dataloaders(path, bs=8)"
      ],
      "metadata": {
        "id": "Xh01DHoP151G"
      },
      "execution_count": 22,
      "outputs": []
    },
    {
      "cell_type": "code",
      "source": [
        "# Create a stratified split of the indices for training and test set\n",
        "train_idx, test_idx = RandomSplitter(valid_pct=0.2, seed=42)(items)\n",
        "train_items = [items[i] for i in train_idx]\n",
        "test_items = [items[i] for i in test_idx]\n",
        "\n",
        "# Write the training set items to a txt file\n",
        "training_set_file = path / 'training_set.txt'\n",
        "with open(training_set_file, 'w') as f:\n",
        "    for item in train_items:\n",
        "        f.write(str(item) + '\\n')\n",
        "\n",
        "# Write the test set items to a txt file\n",
        "test_set_file = path / 'test_set.txt'\n",
        "with open(test_set_file, 'w') as f:\n",
        "    for item in test_items:\n",
        "        f.write(str(item) + '\\n')\n",
        "\n",
        "print(\"Paths of training and test sets have been stored in 'training_set.txt' and 'test_set.txt' respectively.\")"
      ],
      "metadata": {
        "colab": {
          "base_uri": "https://localhost:8080/"
        },
        "id": "EgYLFt4E3ylr",
        "outputId": "8b53e4e8-db42-4b12-ccab-41e3009a10b4"
      },
      "execution_count": 23,
      "outputs": [
        {
          "output_type": "stream",
          "name": "stdout",
          "text": [
            "Paths of training and test sets have been stored in 'training_set.txt' and 'test_set.txt' respectively.\n"
          ]
        }
      ]
    },
    {
      "cell_type": "code",
      "source": [
        "# Define U-Net model\n",
        "learn = unet_learner(dls, resnet34)\n",
        "\n",
        "# Train the model\n",
        "# In the following line of code, adjust the number of epochs to see different results\n",
        "learn.fine_tune(N_epochs)"
      ],
      "metadata": {
        "colab": {
          "base_uri": "https://localhost:8080/",
          "height": 307
        },
        "id": "4IOZNJs634yD",
        "outputId": "29b89eff-8914-417c-e3ef-75f6516df12d"
      },
      "execution_count": 25,
      "outputs": [
        {
          "output_type": "stream",
          "name": "stderr",
          "text": [
            "/usr/local/lib/python3.10/dist-packages/torchvision/models/_utils.py:208: UserWarning: The parameter 'pretrained' is deprecated since 0.13 and may be removed in the future, please use 'weights' instead.\n",
            "  warnings.warn(\n",
            "/usr/local/lib/python3.10/dist-packages/torchvision/models/_utils.py:223: UserWarning: Arguments other than a weight enum or `None` for 'weights' are deprecated since 0.13 and may be removed in the future. The current behavior is equivalent to passing `weights=ResNet34_Weights.IMAGENET1K_V1`. You can also use `weights=ResNet34_Weights.DEFAULT` to get the most up-to-date weights.\n",
            "  warnings.warn(msg)\n",
            "Downloading: \"https://download.pytorch.org/models/resnet34-b627a593.pth\" to /root/.cache/torch/hub/checkpoints/resnet34-b627a593.pth\n",
            "100%|██████████| 83.3M/83.3M [00:00<00:00, 120MB/s]\n"
          ]
        },
        {
          "output_type": "display_data",
          "data": {
            "text/plain": [
              "<IPython.core.display.HTML object>"
            ],
            "text/html": [
              "\n",
              "<style>\n",
              "    /* Turns off some styling */\n",
              "    progress {\n",
              "        /* gets rid of default border in Firefox and Opera. */\n",
              "        border: none;\n",
              "        /* Needs to be in here for Safari polyfill so background images work as expected. */\n",
              "        background-size: auto;\n",
              "    }\n",
              "    progress:not([value]), progress:not([value])::-webkit-progress-bar {\n",
              "        background: repeating-linear-gradient(45deg, #7e7e7e, #7e7e7e 10px, #5c5c5c 10px, #5c5c5c 20px);\n",
              "    }\n",
              "    .progress-bar-interrupted, .progress-bar-interrupted::-webkit-progress-bar {\n",
              "        background: #F44336;\n",
              "    }\n",
              "</style>\n"
            ]
          },
          "metadata": {}
        },
        {
          "output_type": "display_data",
          "data": {
            "text/plain": [
              "<IPython.core.display.HTML object>"
            ],
            "text/html": [
              "<table border=\"1\" class=\"dataframe\">\n",
              "  <thead>\n",
              "    <tr style=\"text-align: left;\">\n",
              "      <th>epoch</th>\n",
              "      <th>train_loss</th>\n",
              "      <th>valid_loss</th>\n",
              "      <th>time</th>\n",
              "    </tr>\n",
              "  </thead>\n",
              "  <tbody>\n",
              "    <tr>\n",
              "      <td>0</td>\n",
              "      <td>0.410999</td>\n",
              "      <td>0.223776</td>\n",
              "      <td>00:42</td>\n",
              "    </tr>\n",
              "  </tbody>\n",
              "</table>"
            ]
          },
          "metadata": {}
        },
        {
          "output_type": "display_data",
          "data": {
            "text/plain": [
              "<IPython.core.display.HTML object>"
            ],
            "text/html": [
              "\n",
              "<style>\n",
              "    /* Turns off some styling */\n",
              "    progress {\n",
              "        /* gets rid of default border in Firefox and Opera. */\n",
              "        border: none;\n",
              "        /* Needs to be in here for Safari polyfill so background images work as expected. */\n",
              "        background-size: auto;\n",
              "    }\n",
              "    progress:not([value]), progress:not([value])::-webkit-progress-bar {\n",
              "        background: repeating-linear-gradient(45deg, #7e7e7e, #7e7e7e 10px, #5c5c5c 10px, #5c5c5c 20px);\n",
              "    }\n",
              "    .progress-bar-interrupted, .progress-bar-interrupted::-webkit-progress-bar {\n",
              "        background: #F44336;\n",
              "    }\n",
              "</style>\n"
            ]
          },
          "metadata": {}
        },
        {
          "output_type": "display_data",
          "data": {
            "text/plain": [
              "<IPython.core.display.HTML object>"
            ],
            "text/html": [
              "<table border=\"1\" class=\"dataframe\">\n",
              "  <thead>\n",
              "    <tr style=\"text-align: left;\">\n",
              "      <th>epoch</th>\n",
              "      <th>train_loss</th>\n",
              "      <th>valid_loss</th>\n",
              "      <th>time</th>\n",
              "    </tr>\n",
              "  </thead>\n",
              "  <tbody>\n",
              "    <tr>\n",
              "      <td>0</td>\n",
              "      <td>0.329208</td>\n",
              "      <td>0.245033</td>\n",
              "      <td>00:46</td>\n",
              "    </tr>\n",
              "    <tr>\n",
              "      <td>1</td>\n",
              "      <td>0.320927</td>\n",
              "      <td>0.253435</td>\n",
              "      <td>00:44</td>\n",
              "    </tr>\n",
              "  </tbody>\n",
              "</table>"
            ]
          },
          "metadata": {}
        }
      ]
    },
    {
      "cell_type": "code",
      "source": [
        "# Perform inference on test images\n",
        "test_dl = dls.test_dl(get_image_files(image_folder)) # todas as 160 imagens (não é só validação)\n",
        "preds = learn.get_preds(dl=test_dl)[0]\n",
        "preds.shape # 160 imagens, 2 classes, 58=nrows do bloco, 57=ncolumns do bloco\n",
        "\n",
        "# Display sample predictions\n",
        "sample_idx = 0\n",
        "sample_image_path = list(test_dl.items)[sample_idx]\n",
        "sample_image = PILImage.create(sample_image_path)\n",
        "sample_pred = preds[0][sample_idx].argmax(dim=0).numpy()\n",
        "\n",
        "sample_image.show()\n",
        "#TensorImage(sample_pred).show(cmap='tab20')"
      ],
      "metadata": {
        "colab": {
          "base_uri": "https://localhost:8080/",
          "height": 132
        },
        "id": "Xa6q99Lj4Xtd",
        "outputId": "638ce076-43d7-40cd-8a0d-36dbf018dc43"
      },
      "execution_count": 27,
      "outputs": [
        {
          "output_type": "display_data",
          "data": {
            "text/plain": [
              "<IPython.core.display.HTML object>"
            ],
            "text/html": [
              "\n",
              "<style>\n",
              "    /* Turns off some styling */\n",
              "    progress {\n",
              "        /* gets rid of default border in Firefox and Opera. */\n",
              "        border: none;\n",
              "        /* Needs to be in here for Safari polyfill so background images work as expected. */\n",
              "        background-size: auto;\n",
              "    }\n",
              "    progress:not([value]), progress:not([value])::-webkit-progress-bar {\n",
              "        background: repeating-linear-gradient(45deg, #7e7e7e, #7e7e7e 10px, #5c5c5c 10px, #5c5c5c 20px);\n",
              "    }\n",
              "    .progress-bar-interrupted, .progress-bar-interrupted::-webkit-progress-bar {\n",
              "        background: #F44336;\n",
              "    }\n",
              "</style>\n"
            ]
          },
          "metadata": {}
        },
        {
          "output_type": "display_data",
          "data": {
            "text/plain": [
              "<IPython.core.display.HTML object>"
            ],
            "text/html": []
          },
          "metadata": {}
        },
        {
          "output_type": "execute_result",
          "data": {
            "text/plain": [
              "<Axes: >"
            ]
          },
          "metadata": {},
          "execution_count": 27
        },
        {
          "output_type": "display_data",
          "data": {
            "text/plain": [
              "<Figure size 100x100 with 1 Axes>"
            ],
            "image/png": "[encoded data removed]"
          },
          "metadata": {}
        }
      ]
    },
    {
      "cell_type": "code",
      "source": [
        "# Save predicted masks\n",
        "save_predicted_masks(test_dl, learn, predicted_folder)\n",
        "# Merge predicted masks into one image\n",
        "merge_predicted_masks(input_folder, output_file, Nrows, Ncols)\n",
        "# Display sample predictions\n",
        "display_sample_predictions(test_files, test_dl, learn, image_folder, label_folder, predicted_folder)"
      ],
      "metadata": {
        "id": "2BSS8MMd6-IP"
      },
      "execution_count": null,
      "outputs": []
    }
  ]
}