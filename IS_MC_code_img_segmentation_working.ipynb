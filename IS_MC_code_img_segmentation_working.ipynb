{
  "cells": [
    {
      "cell_type": "markdown",
      "metadata": {
        "id": "view-in-github",
        "colab_type": "text"
      },
      "source": [
        "<a href=\"https://colab.research.google.com/github/inesbsilveira/2nd-semester-2023/blob/main/IS_MC_code_img_segmentation_working.ipynb\" target=\"_parent\"><img src=\"https://colab.research.google.com/assets/colab-badge.svg\" alt=\"Open In Colab\"/></a>"
      ]
    },
    {
      "cell_type": "markdown",
      "metadata": {
        "id": "j162cSYyTf9H"
      },
      "source": [
        "## Code for Image segmentation task for Practical Machine Learning\n",
        "#### Inês Silveira nr. 22062\n"
      ]
    },
    {
      "cell_type": "markdown",
      "metadata": {
        "id": "c0D08TmqTf9N"
      },
      "source": [
        "## First of all, download the files **mask_reclass.tif** and **3bands_clipped_tif.tif**, from the Data_In folder, to path /content/drive/MyDrive/AAA/ in Google Colab."
      ]
    },
    {
      "cell_type": "markdown",
      "metadata": {
        "id": "SpNIxqUXTf9N"
      },
      "source": [
        "## Imports"
      ]
    },
    {
      "cell_type": "code",
      "source": [
        "user='M' # escolher\n",
        "target_names=['Nao estufa','Estufa']"
      ],
      "metadata": {
        "id": "oHwcWKnA660x"
      },
      "execution_count": null,
      "outputs": []
    },
    {
      "cell_type": "code",
      "execution_count": null,
      "metadata": {
        "id": "VtGo8rAETf9O",
        "outputId": "ac7d11cb-f9e8-47a7-a209-83d120ae0bd4",
        "colab": {
          "base_uri": "https://localhost:8080/"
        }
      },
      "outputs": [
        {
          "output_type": "stream",
          "name": "stdout",
          "text": [
            "Mounted at /content/drive\n",
            "Collecting rasterio\n",
            "  Downloading rasterio-1.3.8-cp310-cp310-manylinux_2_17_x86_64.manylinux2014_x86_64.whl (21.3 MB)\n",
            "\u001b[2K     \u001b[90m━━━━━━━━━━━━━━━━━━━━━━━━━━━━━━━━━━━━━━━━\u001b[0m \u001b[32m21.3/21.3 MB\u001b[0m \u001b[31m54.6 MB/s\u001b[0m eta \u001b[36m0:00:00\u001b[0m\n",
            "\u001b[?25hCollecting affine (from rasterio)\n",
            "  Downloading affine-2.4.0-py3-none-any.whl (15 kB)\n",
            "Requirement already satisfied: attrs in /usr/local/lib/python3.10/dist-packages (from rasterio) (23.1.0)\n",
            "Requirement already satisfied: certifi in /usr/local/lib/python3.10/dist-packages (from rasterio) (2023.5.7)\n",
            "Requirement already satisfied: click>=4.0 in /usr/local/lib/python3.10/dist-packages (from rasterio) (8.1.6)\n",
            "Requirement already satisfied: cligj>=0.5 in /usr/local/lib/python3.10/dist-packages (from rasterio) (0.7.2)\n",
            "Requirement already satisfied: numpy>=1.18 in /usr/local/lib/python3.10/dist-packages (from rasterio) (1.22.4)\n",
            "Collecting snuggs>=1.4.1 (from rasterio)\n",
            "  Downloading snuggs-1.4.7-py3-none-any.whl (5.4 kB)\n",
            "Requirement already satisfied: click-plugins in /usr/local/lib/python3.10/dist-packages (from rasterio) (1.1.1)\n",
            "Requirement already satisfied: setuptools in /usr/local/lib/python3.10/dist-packages (from rasterio) (67.7.2)\n",
            "Requirement already satisfied: pyparsing>=2.1.6 in /usr/local/lib/python3.10/dist-packages (from snuggs>=1.4.1->rasterio) (3.1.0)\n",
            "Installing collected packages: snuggs, affine, rasterio\n",
            "Successfully installed affine-2.4.0 rasterio-1.3.8 snuggs-1.4.7\n"
          ]
        }
      ],
      "source": [
        "from google.colab import drive\n",
        "drive.mount('/content/drive')\n",
        "\n",
        "!pip install rasterio\n",
        "\n",
        "import rasterio\n",
        "from rasterio.windows import Window\n",
        "import os\n",
        "import shutil\n",
        "import numpy as np\n",
        "from PIL import Image\n",
        "\n",
        "from fastai.vision.all import *\n",
        "from sklearn.metrics import confusion_matrix\n",
        "\n",
        "from sklearn.metrics import classification_report\n",
        "from sklearn.metrics import roc_auc_score\n"
      ]
    },
    {
      "cell_type": "markdown",
      "metadata": {
        "id": "ZDKaLMHl0HY9"
      },
      "source": [
        "## RASTERIO"
      ]
    },
    {
      "cell_type": "markdown",
      "metadata": {
        "id": "LaZfxlWp0gew"
      },
      "source": [
        "### RASTERIO - 1 BAND IMAGE\n",
        "Used to clip the mask_reclass.tif into smaller images. It creates a folder named \"labels1\" and stores all the 160 clipped images inside."
      ]
    },
    {
      "cell_type": "code",
      "execution_count": null,
      "metadata": {
        "id": "8YPoXFmR0j3Y"
      },
      "outputs": [],
      "source": [
        "# Specify the directory path\n",
        "if user=='M':\n",
        "  directory = '/content/drive/MyDrive/inv_proj/S2change_DGT/Estufas_Alentejo'\n",
        "else:\n",
        "  directory = '/content/drive/MyDrive/AAA/'\n",
        "\n",
        "# Create a folder named \"labels1\" if it doesn't exist\n",
        "folder_name = \"labels1\"\n",
        "folder_path = os.path.join(directory, folder_name)\n",
        "if os.path.exists(folder_path):\n",
        "    shutil.rmtree(folder_path)  # Delete the folder and its contents\n",
        "\n",
        "os.makedirs(folder_path)  # Create the folder\n",
        "\n",
        "# Open the input raster file\n",
        "#with rasterio.open('/content/drive/MyDrive/AAA/mask_reclass.tif') as src:\n",
        "with rasterio.open(os.path.join(directory,'mask_reclass.tif')) as src:\n",
        "\n",
        "    # Calculate the height and width of the sub-rasters\n",
        "    height = src.height // 20  # Divide the raster into 4 rows\n",
        "    width = src.width // 8  # Divide the raster into 8 columns\n",
        "\n",
        "    # Loop through each sub-raster and clip the data\n",
        "    for i in range(20):\n",
        "        for j in range(8):\n",
        "            # Define the window to clip the sub-raster\n",
        "            ymin = i * height\n",
        "            ymax = (i + 1) * height\n",
        "            xmin = j * width\n",
        "            xmax = (j + 1) * width\n",
        "            window = Window.from_slices((ymin, ymax), (xmin, xmax))\n",
        "\n",
        "            # Read the data within the window\n",
        "            clipped_data = src.read(window=window)\n",
        "\n",
        "            # Update the metadata for the clipped data\n",
        "            clipped_meta = src.meta.copy()\n",
        "            clipped_meta.update({\n",
        "                'height': window.height,\n",
        "                'width': window.width,\n",
        "                'transform': src.window_transform(window)\n",
        "            })\n",
        "\n",
        "            # Write the clipped data to a new raster file\n",
        "            # with rasterio.open(f'sub_raster_{i}_{j}.tif', 'w', **clipped_meta) as dst:\n",
        "            output_file = os.path.join(directory,folder_name, f'image_{i}_{j}_mask1.png')\n",
        "            with rasterio.open(output_file, 'w', **clipped_meta) as dst:\n",
        "                 dst.write(clipped_data)\n",
        "\n",
        "  # converts to 8 bits AFTER re-scaling bands\n",
        "def s255(arr):\n",
        "    arr_std = (arr - np.min(arr)) / (np.max(arr) - np.min(arr)) * 255\n",
        "    # Convert the standardized array to integer values\n",
        "    arr_std = arr_std.astype(np.uint8)\n",
        "    return arr_std"
      ]
    },
    {
      "cell_type": "markdown",
      "metadata": {
        "id": "VYgt2Si60nR1"
      },
      "source": [
        "### RASTERIO - 3 BANDS IMAGE\n",
        "Used to clip the 3bands_clipped_tif.tif into smaller images. It creates a folder named \"images\" and stores all the 160 clipped images inside."
      ]
    },
    {
      "cell_type": "code",
      "execution_count": null,
      "metadata": {
        "id": "VQ8aoOwb0puE"
      },
      "outputs": [],
      "source": [
        "# Specify the directory path\n",
        "# directory = '/content/drive/MyDrive/AAA/'\n",
        "\n",
        "# Create a folder named \"images\" if it already doesn't exist\n",
        "folder_name = \"images\"\n",
        "folder_path = os.path.join(directory, folder_name)\n",
        "if os.path.exists(folder_path):\n",
        "    shutil.rmtree(folder_path)  # Delete the folder and its contents\n",
        "\n",
        "os.makedirs(folder_path)  # Create the folder\n",
        "\n",
        "# Multi bandas\n",
        "# Open the input raster file\n",
        "with rasterio.open(os.path.join(directory,'3bands_clipped_tif.tif')) as src:\n",
        "\n",
        "    # Calculate the height and width of the sub-rasters\n",
        "    nHeight=20\n",
        "    nWidth=8\n",
        "    height = src.height // nHeight  # Divide the raster into 58 rows\n",
        "    width = src.width // nWidth  # Divide the raster into 23 columns\n",
        "\n",
        "    # Loop through each sub-raster and clip the data\n",
        "    for i in range(nHeight):\n",
        "        for j in range(nWidth):\n",
        "            # Define the window to clip the sub-raster\n",
        "            ymin = i * height\n",
        "            ymax = (i + 1) * height\n",
        "            xmin = j * width\n",
        "            xmax = (j + 1) * width\n",
        "\n",
        "            window = Window.from_slices((ymin, ymax), (xmin, xmax))\n",
        "\n",
        "            # Read the data within the window\n",
        "            clipped_data_1 = s255(src.read(1, window=window))\n",
        "            clipped_data_2 = s255(src.read(2, window=window))\n",
        "            clipped_data_3 = s255(src.read(3, window=window))\n",
        "\n",
        "            rgb_image = np.stack([clipped_data_1, clipped_data_2, clipped_data_3], axis=2)\n",
        "\n",
        "\n",
        "            # Convert the image array to a PIL Image\n",
        "            image = Image.fromarray(rgb_image,mode='RGB')\n",
        "\n",
        "            # Save the PIL Image as a PNG file\n",
        "\n",
        "            output_file = os.path.join(directory, folder_name, f'image_{i}_{j}.png')\n",
        "            image.save(output_file)"
      ]
    },
    {
      "cell_type": "markdown",
      "metadata": {
        "id": "yBLXEwnS0s_k"
      },
      "source": [
        "## IMAGE SEGMENTATION\n",
        "Uses images and labels created in the previous code, as well as a list of labels in the mask (greenhouse, not greenhouse)"
      ]
    },
    {
      "cell_type": "code",
      "source": [
        "# Define paths\n",
        "#path = Path('/content/drive/MyDrive/AAA')\n",
        "path=Path(directory)\n",
        "image_folder = path/'images'\n",
        "mask_folder = path/'labels1'\n",
        "\n",
        "# Create DataBlock\n",
        "def get_items(path):\n",
        "    image_files = get_image_files(image_folder)\n",
        "    return image_files\n",
        "\n",
        "def get_mask_fn(image_file):\n",
        "    return mask_folder / f'{image_file.stem}_mask1.png'\n",
        "\n",
        "codes = ['greenhouse', 'not greenhouse']  # Labels in the mask\n",
        "\n",
        "items = get_items(path)\n",
        "\n",
        "# Create a stratified split of the indices for training and test set\n",
        "train_idx, test_idx = RandomSplitter(valid_pct=0.2, seed=42)(items)\n",
        "train_items = [items[i] for i in train_idx]\n",
        "test_items = [items[i] for i in test_idx]\n",
        "\n",
        "# Write the training set items to a txt file\n",
        "with open('training_set.txt', 'w') as f:\n",
        "    for item in train_items:\n",
        "        f.write(str(item) + '\\n')\n",
        "\n",
        "# Write the test set items to a txt file\n",
        "with open('test_set.txt', 'w') as f:\n",
        "    for item in test_items:\n",
        "        f.write(str(item) + '\\n')\n",
        "\n",
        "print(\"Paths of training and test sets have been stored in 'training_set.txt' and 'test_set.txt' respectively.\")\n"
      ],
      "metadata": {
        "colab": {
          "base_uri": "https://localhost:8080/"
        },
        "id": "Tscy25dqBJhO",
        "outputId": "380eb239-2461-4675-a5ff-139367c6a55c"
      },
      "execution_count": null,
      "outputs": [
        {
          "output_type": "stream",
          "name": "stdout",
          "text": [
            "Paths of training and test sets have been stored in 'training_set.txt' and 'test_set.txt' respectively.\n"
          ]
        }
      ]
    },
    {
      "cell_type": "code",
      "execution_count": null,
      "metadata": {
        "id": "R-v-Y1ms0ssg"
      },
      "outputs": [],
      "source": [
        "# Define paths\n",
        "#path = Path('/content/drive/MyDrive/AAA')\n",
        "path=Path(directory)\n",
        "image_folder = path/'images'\n",
        "mask_folder = path/'labels1'\n",
        "\n",
        "# Create DataBlock\n",
        "def get_items(path):\n",
        "    image_files = get_image_files(image_folder)\n",
        "    return image_files\n",
        "\n",
        "def get_mask_fn(image_file):\n",
        "    return mask_folder / f'{image_file.stem}_mask1.png'\n",
        "\n",
        "codes = ['greenhouse', 'not greenhouse']  # Labels in the mask\n",
        "\n",
        "dblock = DataBlock(blocks=(ImageBlock, MaskBlock(codes)),\n",
        "                   get_items=get_items,\n",
        "                   get_y=get_mask_fn,\n",
        "                   splitter=RandomSplitter(valid_pct=0.2, seed=42))\n",
        "\n",
        "# Create DataLoaders\n",
        "dls = dblock.dataloaders(path, bs=8)"
      ]
    },
    {
      "cell_type": "markdown",
      "metadata": {
        "id": "dc_9AZLMTf9R"
      },
      "source": [
        "Train the model"
      ]
    },
    {
      "cell_type": "code",
      "execution_count": null,
      "metadata": {
        "colab": {
          "base_uri": "https://localhost:8080/",
          "height": 1000
        },
        "id": "AnuEk6F_1HX3",
        "outputId": "42f10e45-73cb-4825-999c-7baa54de6a2f"
      },
      "outputs": [
        {
          "metadata": {
            "tags": null
          },
          "name": "stderr",
          "output_type": "stream",
          "text": [
            "/usr/local/lib/python3.10/dist-packages/torchvision/models/_utils.py:208: UserWarning: The parameter 'pretrained' is deprecated since 0.13 and may be removed in the future, please use 'weights' instead.\n",
            "  warnings.warn(\n",
            "/usr/local/lib/python3.10/dist-packages/torchvision/models/_utils.py:223: UserWarning: Arguments other than a weight enum or `None` for 'weights' are deprecated since 0.13 and may be removed in the future. The current behavior is equivalent to passing `weights=ResNet34_Weights.IMAGENET1K_V1`. You can also use `weights=ResNet34_Weights.DEFAULT` to get the most up-to-date weights.\n",
            "  warnings.warn(msg)\n",
            "Downloading: \"https://download.pytorch.org/models/resnet34-b627a593.pth\" to /root/.cache/torch/hub/checkpoints/resnet34-b627a593.pth\n",
            "100%|██████████| 83.3M/83.3M [00:00<00:00, 243MB/s]\n"
          ]
        },
        {
          "data": {
            "text/html": [
              "\n",
              "<style>\n",
              "    /* Turns off some styling */\n",
              "    progress {\n",
              "        /* gets rid of default border in Firefox and Opera. */\n",
              "        border: none;\n",
              "        /* Needs to be in here for Safari polyfill so background images work as expected. */\n",
              "        background-size: auto;\n",
              "    }\n",
              "    progress:not([value]), progress:not([value])::-webkit-progress-bar {\n",
              "        background: repeating-linear-gradient(45deg, #7e7e7e, #7e7e7e 10px, #5c5c5c 10px, #5c5c5c 20px);\n",
              "    }\n",
              "    .progress-bar-interrupted, .progress-bar-interrupted::-webkit-progress-bar {\n",
              "        background: #F44336;\n",
              "    }\n",
              "</style>\n"
            ],
            "text/plain": [
              "<IPython.core.display.HTML object>"
            ]
          },
          "metadata": {},
          "output_type": "display_data"
        },
        {
          "data": {
            "text/html": [
              "<table border=\"1\" class=\"dataframe\">\n",
              "  <thead>\n",
              "    <tr style=\"text-align: left;\">\n",
              "      <th>epoch</th>\n",
              "      <th>train_loss</th>\n",
              "      <th>valid_loss</th>\n",
              "      <th>time</th>\n",
              "    </tr>\n",
              "  </thead>\n",
              "  <tbody>\n",
              "    <tr>\n",
              "      <td>0</td>\n",
              "      <td>0.454818</td>\n",
              "      <td>0.391795</td>\n",
              "      <td>00:10</td>\n",
              "    </tr>\n",
              "  </tbody>\n",
              "</table>"
            ],
            "text/plain": [
              "<IPython.core.display.HTML object>"
            ]
          },
          "metadata": {},
          "output_type": "display_data"
        },
        {
          "data": {
            "text/html": [
              "\n",
              "<style>\n",
              "    /* Turns off some styling */\n",
              "    progress {\n",
              "        /* gets rid of default border in Firefox and Opera. */\n",
              "        border: none;\n",
              "        /* Needs to be in here for Safari polyfill so background images work as expected. */\n",
              "        background-size: auto;\n",
              "    }\n",
              "    progress:not([value]), progress:not([value])::-webkit-progress-bar {\n",
              "        background: repeating-linear-gradient(45deg, #7e7e7e, #7e7e7e 10px, #5c5c5c 10px, #5c5c5c 20px);\n",
              "    }\n",
              "    .progress-bar-interrupted, .progress-bar-interrupted::-webkit-progress-bar {\n",
              "        background: #F44336;\n",
              "    }\n",
              "</style>\n"
            ],
            "text/plain": [
              "<IPython.core.display.HTML object>"
            ]
          },
          "metadata": {},
          "output_type": "display_data"
        },
        {
          "data": {
            "text/html": [
              "\n",
              "    <div>\n",
              "      <progress value='22' class='' max='40' style='width:300px; height:20px; vertical-align: middle;'></progress>\n",
              "      55.00% [22/40 00:46&lt;00:38]\n",
              "    </div>\n",
              "    \n",
              "<table border=\"1\" class=\"dataframe\">\n",
              "  <thead>\n",
              "    <tr style=\"text-align: left;\">\n",
              "      <th>epoch</th>\n",
              "      <th>train_loss</th>\n",
              "      <th>valid_loss</th>\n",
              "      <th>time</th>\n",
              "    </tr>\n",
              "  </thead>\n",
              "  <tbody>\n",
              "    <tr>\n",
              "      <td>0</td>\n",
              "      <td>0.356521</td>\n",
              "      <td>0.321266</td>\n",
              "      <td>00:02</td>\n",
              "    </tr>\n",
              "    <tr>\n",
              "      <td>1</td>\n",
              "      <td>0.346015</td>\n",
              "      <td>0.322387</td>\n",
              "      <td>00:02</td>\n",
              "    </tr>\n",
              "    <tr>\n",
              "      <td>2</td>\n",
              "      <td>0.338540</td>\n",
              "      <td>0.325950</td>\n",
              "      <td>00:02</td>\n",
              "    </tr>\n",
              "    <tr>\n",
              "      <td>3</td>\n",
              "      <td>0.333875</td>\n",
              "      <td>0.429864</td>\n",
              "      <td>00:02</td>\n",
              "    </tr>\n",
              "    <tr>\n",
              "      <td>4</td>\n",
              "      <td>0.325284</td>\n",
              "      <td>0.239133</td>\n",
              "      <td>00:02</td>\n",
              "    </tr>\n",
              "    <tr>\n",
              "      <td>5</td>\n",
              "      <td>0.302078</td>\n",
              "      <td>0.245216</td>\n",
              "      <td>00:02</td>\n",
              "    </tr>\n",
              "    <tr>\n",
              "      <td>6</td>\n",
              "      <td>0.269743</td>\n",
              "      <td>0.210203</td>\n",
              "      <td>00:02</td>\n",
              "    </tr>\n",
              "    <tr>\n",
              "      <td>7</td>\n",
              "      <td>0.242422</td>\n",
              "      <td>0.246895</td>\n",
              "      <td>00:02</td>\n",
              "    </tr>\n",
              "    <tr>\n",
              "      <td>8</td>\n",
              "      <td>0.217840</td>\n",
              "      <td>0.252675</td>\n",
              "      <td>00:02</td>\n",
              "    </tr>\n",
              "    <tr>\n",
              "      <td>9</td>\n",
              "      <td>0.212299</td>\n",
              "      <td>0.229689</td>\n",
              "      <td>00:02</td>\n",
              "    </tr>\n",
              "    <tr>\n",
              "      <td>10</td>\n",
              "      <td>0.201622</td>\n",
              "      <td>0.251420</td>\n",
              "      <td>00:02</td>\n",
              "    </tr>\n",
              "    <tr>\n",
              "      <td>11</td>\n",
              "      <td>0.203041</td>\n",
              "      <td>0.305417</td>\n",
              "      <td>00:02</td>\n",
              "    </tr>\n",
              "    <tr>\n",
              "      <td>12</td>\n",
              "      <td>0.184377</td>\n",
              "      <td>0.383512</td>\n",
              "      <td>00:02</td>\n",
              "    </tr>\n",
              "    <tr>\n",
              "      <td>13</td>\n",
              "      <td>0.166607</td>\n",
              "      <td>0.238572</td>\n",
              "      <td>00:02</td>\n",
              "    </tr>\n",
              "    <tr>\n",
              "      <td>14</td>\n",
              "      <td>0.145673</td>\n",
              "      <td>0.277815</td>\n",
              "      <td>00:02</td>\n",
              "    </tr>\n",
              "    <tr>\n",
              "      <td>15</td>\n",
              "      <td>0.126298</td>\n",
              "      <td>0.391904</td>\n",
              "      <td>00:02</td>\n",
              "    </tr>\n",
              "    <tr>\n",
              "      <td>16</td>\n",
              "      <td>0.111925</td>\n",
              "      <td>0.367536</td>\n",
              "      <td>00:02</td>\n",
              "    </tr>\n",
              "    <tr>\n",
              "      <td>17</td>\n",
              "      <td>0.100146</td>\n",
              "      <td>0.331681</td>\n",
              "      <td>00:02</td>\n",
              "    </tr>\n",
              "    <tr>\n",
              "      <td>18</td>\n",
              "      <td>0.089175</td>\n",
              "      <td>0.354454</td>\n",
              "      <td>00:02</td>\n",
              "    </tr>\n",
              "    <tr>\n",
              "      <td>19</td>\n",
              "      <td>0.079820</td>\n",
              "      <td>0.342978</td>\n",
              "      <td>00:02</td>\n",
              "    </tr>\n",
              "    <tr>\n",
              "      <td>20</td>\n",
              "      <td>0.071195</td>\n",
              "      <td>0.405984</td>\n",
              "      <td>00:02</td>\n",
              "    </tr>\n",
              "    <tr>\n",
              "      <td>21</td>\n",
              "      <td>0.063991</td>\n",
              "      <td>0.412387</td>\n",
              "      <td>00:02</td>\n",
              "    </tr>\n",
              "  </tbody>\n",
              "</table><p>\n",
              "\n",
              "    <div>\n",
              "      <progress value='0' class='' max='16' style='width:300px; height:20px; vertical-align: middle;'></progress>\n",
              "      0.00% [0/16 00:00&lt;?]\n",
              "    </div>\n",
              "    "
            ],
            "text/plain": [
              "<IPython.core.display.HTML object>"
            ]
          },
          "metadata": {},
          "output_type": "display_data"
        },
        {
          "output_type": "display_data",
          "data": {
            "text/plain": [
              "<IPython.core.display.HTML object>"
            ],
            "text/html": [
              "<table border=\"1\" class=\"dataframe\">\n",
              "  <thead>\n",
              "    <tr style=\"text-align: left;\">\n",
              "      <th>epoch</th>\n",
              "      <th>train_loss</th>\n",
              "      <th>valid_loss</th>\n",
              "      <th>time</th>\n",
              "    </tr>\n",
              "  </thead>\n",
              "  <tbody>\n",
              "    <tr>\n",
              "      <td>0</td>\n",
              "      <td>0.356521</td>\n",
              "      <td>0.321266</td>\n",
              "      <td>00:02</td>\n",
              "    </tr>\n",
              "    <tr>\n",
              "      <td>1</td>\n",
              "      <td>0.346015</td>\n",
              "      <td>0.322387</td>\n",
              "      <td>00:02</td>\n",
              "    </tr>\n",
              "    <tr>\n",
              "      <td>2</td>\n",
              "      <td>0.338540</td>\n",
              "      <td>0.325950</td>\n",
              "      <td>00:02</td>\n",
              "    </tr>\n",
              "    <tr>\n",
              "      <td>3</td>\n",
              "      <td>0.333875</td>\n",
              "      <td>0.429864</td>\n",
              "      <td>00:02</td>\n",
              "    </tr>\n",
              "    <tr>\n",
              "      <td>4</td>\n",
              "      <td>0.325284</td>\n",
              "      <td>0.239133</td>\n",
              "      <td>00:02</td>\n",
              "    </tr>\n",
              "    <tr>\n",
              "      <td>5</td>\n",
              "      <td>0.302078</td>\n",
              "      <td>0.245216</td>\n",
              "      <td>00:02</td>\n",
              "    </tr>\n",
              "    <tr>\n",
              "      <td>6</td>\n",
              "      <td>0.269743</td>\n",
              "      <td>0.210203</td>\n",
              "      <td>00:02</td>\n",
              "    </tr>\n",
              "    <tr>\n",
              "      <td>7</td>\n",
              "      <td>0.242422</td>\n",
              "      <td>0.246895</td>\n",
              "      <td>00:02</td>\n",
              "    </tr>\n",
              "    <tr>\n",
              "      <td>8</td>\n",
              "      <td>0.217840</td>\n",
              "      <td>0.252675</td>\n",
              "      <td>00:02</td>\n",
              "    </tr>\n",
              "    <tr>\n",
              "      <td>9</td>\n",
              "      <td>0.212299</td>\n",
              "      <td>0.229689</td>\n",
              "      <td>00:02</td>\n",
              "    </tr>\n",
              "    <tr>\n",
              "      <td>10</td>\n",
              "      <td>0.201622</td>\n",
              "      <td>0.251420</td>\n",
              "      <td>00:02</td>\n",
              "    </tr>\n",
              "    <tr>\n",
              "      <td>11</td>\n",
              "      <td>0.203041</td>\n",
              "      <td>0.305417</td>\n",
              "      <td>00:02</td>\n",
              "    </tr>\n",
              "    <tr>\n",
              "      <td>12</td>\n",
              "      <td>0.184377</td>\n",
              "      <td>0.383512</td>\n",
              "      <td>00:02</td>\n",
              "    </tr>\n",
              "    <tr>\n",
              "      <td>13</td>\n",
              "      <td>0.166607</td>\n",
              "      <td>0.238572</td>\n",
              "      <td>00:02</td>\n",
              "    </tr>\n",
              "    <tr>\n",
              "      <td>14</td>\n",
              "      <td>0.145673</td>\n",
              "      <td>0.277815</td>\n",
              "      <td>00:02</td>\n",
              "    </tr>\n",
              "    <tr>\n",
              "      <td>15</td>\n",
              "      <td>0.126298</td>\n",
              "      <td>0.391904</td>\n",
              "      <td>00:02</td>\n",
              "    </tr>\n",
              "    <tr>\n",
              "      <td>16</td>\n",
              "      <td>0.111925</td>\n",
              "      <td>0.367536</td>\n",
              "      <td>00:02</td>\n",
              "    </tr>\n",
              "    <tr>\n",
              "      <td>17</td>\n",
              "      <td>0.100146</td>\n",
              "      <td>0.331681</td>\n",
              "      <td>00:02</td>\n",
              "    </tr>\n",
              "    <tr>\n",
              "      <td>18</td>\n",
              "      <td>0.089175</td>\n",
              "      <td>0.354454</td>\n",
              "      <td>00:02</td>\n",
              "    </tr>\n",
              "    <tr>\n",
              "      <td>19</td>\n",
              "      <td>0.079820</td>\n",
              "      <td>0.342978</td>\n",
              "      <td>00:02</td>\n",
              "    </tr>\n",
              "    <tr>\n",
              "      <td>20</td>\n",
              "      <td>0.071195</td>\n",
              "      <td>0.405984</td>\n",
              "      <td>00:02</td>\n",
              "    </tr>\n",
              "    <tr>\n",
              "      <td>21</td>\n",
              "      <td>0.063991</td>\n",
              "      <td>0.412387</td>\n",
              "      <td>00:02</td>\n",
              "    </tr>\n",
              "    <tr>\n",
              "      <td>22</td>\n",
              "      <td>0.058214</td>\n",
              "      <td>0.485689</td>\n",
              "      <td>00:02</td>\n",
              "    </tr>\n",
              "    <tr>\n",
              "      <td>23</td>\n",
              "      <td>0.052763</td>\n",
              "      <td>0.476534</td>\n",
              "      <td>00:02</td>\n",
              "    </tr>\n",
              "    <tr>\n",
              "      <td>24</td>\n",
              "      <td>0.047688</td>\n",
              "      <td>0.495334</td>\n",
              "      <td>00:02</td>\n",
              "    </tr>\n",
              "    <tr>\n",
              "      <td>25</td>\n",
              "      <td>0.043456</td>\n",
              "      <td>0.538817</td>\n",
              "      <td>00:02</td>\n",
              "    </tr>\n",
              "    <tr>\n",
              "      <td>26</td>\n",
              "      <td>0.040240</td>\n",
              "      <td>0.487924</td>\n",
              "      <td>00:02</td>\n",
              "    </tr>\n",
              "    <tr>\n",
              "      <td>27</td>\n",
              "      <td>0.037004</td>\n",
              "      <td>0.573245</td>\n",
              "      <td>00:02</td>\n",
              "    </tr>\n",
              "    <tr>\n",
              "      <td>28</td>\n",
              "      <td>0.034237</td>\n",
              "      <td>0.626791</td>\n",
              "      <td>00:02</td>\n",
              "    </tr>\n",
              "    <tr>\n",
              "      <td>29</td>\n",
              "      <td>0.031911</td>\n",
              "      <td>0.581826</td>\n",
              "      <td>00:02</td>\n",
              "    </tr>\n",
              "    <tr>\n",
              "      <td>30</td>\n",
              "      <td>0.029716</td>\n",
              "      <td>0.644526</td>\n",
              "      <td>00:02</td>\n",
              "    </tr>\n",
              "    <tr>\n",
              "      <td>31</td>\n",
              "      <td>0.027718</td>\n",
              "      <td>0.673715</td>\n",
              "      <td>00:02</td>\n",
              "    </tr>\n",
              "    <tr>\n",
              "      <td>32</td>\n",
              "      <td>0.025880</td>\n",
              "      <td>0.664136</td>\n",
              "      <td>00:02</td>\n",
              "    </tr>\n",
              "    <tr>\n",
              "      <td>33</td>\n",
              "      <td>0.024288</td>\n",
              "      <td>0.707273</td>\n",
              "      <td>00:02</td>\n",
              "    </tr>\n",
              "    <tr>\n",
              "      <td>34</td>\n",
              "      <td>0.022852</td>\n",
              "      <td>0.742853</td>\n",
              "      <td>00:02</td>\n",
              "    </tr>\n",
              "    <tr>\n",
              "      <td>35</td>\n",
              "      <td>0.021537</td>\n",
              "      <td>0.720464</td>\n",
              "      <td>00:02</td>\n",
              "    </tr>\n",
              "    <tr>\n",
              "      <td>36</td>\n",
              "      <td>0.020415</td>\n",
              "      <td>0.728470</td>\n",
              "      <td>00:02</td>\n",
              "    </tr>\n",
              "    <tr>\n",
              "      <td>37</td>\n",
              "      <td>0.019522</td>\n",
              "      <td>0.731850</td>\n",
              "      <td>00:02</td>\n",
              "    </tr>\n",
              "    <tr>\n",
              "      <td>38</td>\n",
              "      <td>0.019079</td>\n",
              "      <td>0.752520</td>\n",
              "      <td>00:02</td>\n",
              "    </tr>\n",
              "    <tr>\n",
              "      <td>39</td>\n",
              "      <td>0.018683</td>\n",
              "      <td>0.776182</td>\n",
              "      <td>00:02</td>\n",
              "    </tr>\n",
              "  </tbody>\n",
              "</table>"
            ]
          },
          "metadata": {}
        },
        {
          "output_type": "display_data",
          "data": {
            "text/plain": [
              "<IPython.core.display.HTML object>"
            ],
            "text/html": [
              "\n",
              "<style>\n",
              "    /* Turns off some styling */\n",
              "    progress {\n",
              "        /* gets rid of default border in Firefox and Opera. */\n",
              "        border: none;\n",
              "        /* Needs to be in here for Safari polyfill so background images work as expected. */\n",
              "        background-size: auto;\n",
              "    }\n",
              "    progress:not([value]), progress:not([value])::-webkit-progress-bar {\n",
              "        background: repeating-linear-gradient(45deg, #7e7e7e, #7e7e7e 10px, #5c5c5c 10px, #5c5c5c 20px);\n",
              "    }\n",
              "    .progress-bar-interrupted, .progress-bar-interrupted::-webkit-progress-bar {\n",
              "        background: #F44336;\n",
              "    }\n",
              "</style>\n"
            ]
          },
          "metadata": {}
        },
        {
          "output_type": "display_data",
          "data": {
            "text/plain": [
              "<IPython.core.display.HTML object>"
            ],
            "text/html": []
          },
          "metadata": {}
        },
        {
          "output_type": "execute_result",
          "data": {
            "text/plain": [
              "<Axes: >"
            ]
          },
          "metadata": {},
          "execution_count": 8
        },
        {
          "output_type": "display_data",
          "data": {
            "text/plain": [
              "<Figure size 100x100 with 1 Axes>"
            ],
            "image/png": "[encoded data removed]"
          },
          "metadata": {}
        },
        {
          "output_type": "display_data",
          "data": {
            "text/plain": [
              "<Figure size 100x100 with 1 Axes>"
            ],
            "image/png": "[encoded data removed]"
          },
          "metadata": {}
        }
      ],
      "source": [
        "# Define U-Net model\n",
        "learn = unet_learner(dls, resnet34)\n",
        "\n",
        "# Train the model\n",
        "# In the following line of code, adjust the number of epochs to see different results\n",
        "learn.fine_tune(40)\n",
        "\n",
        "# Perform inference on test images\n",
        "test_dl = dls.test_dl(get_image_files(image_folder))\n",
        "preds = learn.get_preds(dl=test_dl)\n",
        "\n",
        "# Display sample predictions\n",
        "sample_idx = 0\n",
        "sample_image_path = list(test_dl.items)[sample_idx]\n",
        "sample_image = PILImage.create(sample_image_path)\n",
        "sample_pred = preds[0][sample_idx].argmax(dim=0).numpy()\n",
        "\n",
        "sample_image.show()\n",
        "TensorImage(sample_pred).show(cmap='tab20')\n"
      ]
    },
    {
      "cell_type": "code",
      "execution_count": null,
      "metadata": {
        "id": "8kusbC-hTf9S",
        "outputId": "216f5269-ed2e-48c9-b86a-4447a11a8f46",
        "colab": {
          "base_uri": "https://localhost:8080/",
          "height": 17
        }
      },
      "outputs": [
        {
          "output_type": "display_data",
          "data": {
            "text/plain": [
              "<IPython.core.display.HTML object>"
            ],
            "text/html": [
              "\n",
              "<style>\n",
              "    /* Turns off some styling */\n",
              "    progress {\n",
              "        /* gets rid of default border in Firefox and Opera. */\n",
              "        border: none;\n",
              "        /* Needs to be in here for Safari polyfill so background images work as expected. */\n",
              "        background-size: auto;\n",
              "    }\n",
              "    progress:not([value]), progress:not([value])::-webkit-progress-bar {\n",
              "        background: repeating-linear-gradient(45deg, #7e7e7e, #7e7e7e 10px, #5c5c5c 10px, #5c5c5c 20px);\n",
              "    }\n",
              "    .progress-bar-interrupted, .progress-bar-interrupted::-webkit-progress-bar {\n",
              "        background: #F44336;\n",
              "    }\n",
              "</style>\n"
            ]
          },
          "metadata": {}
        },
        {
          "output_type": "display_data",
          "data": {
            "text/plain": [
              "<IPython.core.display.HTML object>"
            ],
            "text/html": []
          },
          "metadata": {}
        }
      ],
      "source": [
        "# Perform inference on test images\n",
        "test_dl = dls.test_dl(get_image_files(image_folder))\n",
        "preds = learn.get_preds(dl=test_dl)[0]"
      ]
    },
    {
      "cell_type": "code",
      "source": [
        "# Define the function to extract the row and column number from the test image file name\n",
        "def get_row_column_from_filename(filename):\n",
        "    filename = os.path.basename(filename)\n",
        "    parts = filename.split('_')\n",
        "    row = int(parts[1])\n",
        "    column = int(parts[2].split('.')[0])\n",
        "    return row, column"
      ],
      "metadata": {
        "id": "LeaFHcWDYBAD"
      },
      "execution_count": null,
      "outputs": []
    },
    {
      "cell_type": "code",
      "source": [
        "# Save the predicted mask images according to their row and column number\n",
        "for idx, pred in enumerate(preds):\n",
        "    # Get the row and column number from the test image file name\n",
        "    sample_image_path = list(test_dl.items)[idx]\n",
        "    row, column = get_row_column_from_filename(sample_image_path)\n",
        "\n",
        "    # Create a folder for each row if it doesn't exist\n",
        "    row_folder = os.path.join(mask_folder, f'row_{row}')\n",
        "    os.makedirs(row_folder, exist_ok=True)\n",
        "\n",
        "    # Create a filename for the predicted mask image\n",
        "    mask_filename = f'image_{row}_{column}_mask1.png'\n",
        "    mask_filepath = os.path.join(row_folder, mask_filename)\n",
        "\n",
        "    # Convert the predicted mask to a PIL Image\n",
        "    sample_pred = pred.argmax(dim=0).numpy()\n",
        "    mask_image = Image.fromarray((sample_pred * 255).astype(np.uint8))\n",
        "\n",
        "    # Save the predicted mask image\n",
        "    mask_image.save(mask_filepath)"
      ],
      "metadata": {
        "id": "cAbX4obmYDmR"
      },
      "execution_count": null,
      "outputs": []
    },
    {
      "cell_type": "code",
      "source": [
        "# Open the input raster file to calculate width and height\n",
        "#with rasterio.open('/content/drive/MyDrive/AAA/mask_reclass.tif') as src:\n",
        "with rasterio.open(os.path.join(directory,'mask_reclass.tif')) as src:\n",
        "    # Calculate the height and width of the sub-rasters\n",
        "    height = src.height // 20  # Divide the raster into 4 rows\n",
        "    width = src.width // 8  # Divide the raster into 8 columns"
      ],
      "metadata": {
        "id": "GhpFiYDfCPku"
      },
      "execution_count": null,
      "outputs": []
    },
    {
      "cell_type": "code",
      "source": [
        "# Merge all predicted mask images according to their row and column\n",
        "rows, columns = 20, 8  # Number of rows and columns in the grid\n",
        "merged_width = width * columns\n",
        "merged_height = height * rows\n",
        "merged_image = Image.new('RGB', (merged_width, merged_height))\n",
        "\n",
        "# Loop through each row and column to merge the images\n",
        "for i in range(rows):\n",
        "    for j in range(columns):\n",
        "        # Load the predicted mask image\n",
        "        mask_file = os.path.join(mask_folder, f'row_{i}', f'image_{i}_{j}_mask1.png')\n",
        "        mask_image = Image.open(mask_file)\n",
        "\n",
        "        # Define the position to paste the mask image in the merged image\n",
        "        x_offset = j * width\n",
        "        y_offset = i * height\n",
        "\n",
        "        # Paste the mask image in the merged image\n",
        "        merged_image.paste(mask_image, (x_offset, y_offset))\n",
        "\n",
        "# Save the merged image\n",
        "merged_output_file = os.path.join(mask_folder, 'merged_predicted_masks_50.png')\n",
        "merged_image.save(merged_output_file)\n"
      ],
      "metadata": {
        "id": "1PquCs1MYc8F"
      },
      "execution_count": null,
      "outputs": []
    },
    {
      "cell_type": "code",
      "execution_count": null,
      "metadata": {
        "colab": {
          "base_uri": "https://localhost:8080/",
          "height": 1000
        },
        "id": "vCcKmM9x1KDc",
        "outputId": "c7970661-dd72-43a8-8808-ac995248d75c"
      },
      "outputs": [
        {
          "output_type": "display_data",
          "data": {
            "text/plain": [
              "<Figure size 1000x2000 with 10 Axes>"
            ],
            "image/png": "[encoded data removed]"
          },
          "metadata": {}
        }
      ],
      "source": [
        "\n",
        "# Display sample predictions\n",
        "sample_indices = [0, 1, 2, 3, 4]\n",
        "\n",
        "# Define the number of columns\n",
        "fig, axes = plt.subplots(len(sample_indices), 2, figsize=(10, 20))\n",
        "\n",
        "for i, idx in enumerate(sample_indices):\n",
        "    sample_image_path = list(test_dl.items)[idx]\n",
        "    sample_image = PILImage.create(sample_image_path)\n",
        "    sample_pred = preds[idx].argmax(dim=0).numpy()\n",
        "# image of satelite agregate\n",
        "    axes[i, 0].imshow(sample_image)\n",
        "    axes[i, 0].set_title('Image')\n",
        "    axes[i, 0].axis('off')\n",
        "# image of predicted mask\n",
        "    axes[i, 1].imshow(sample_pred, cmap='tab20')\n",
        "    axes[i, 1].set_title('Predicted Mask')\n",
        "    axes[i, 1].axis('off')\n",
        "\n",
        "plt.tight_layout()\n",
        "plt.show()"
      ]
    },
    {
      "cell_type": "markdown",
      "metadata": {
        "id": "SApI_EqVTf9S"
      },
      "source": [
        "## Confusion Matrix for training and test"
      ]
    },
    {
      "cell_type": "code",
      "source": [
        "import numpy as np\n",
        "from sklearn.metrics import confusion_matrix\n",
        "\n",
        "# Perform inference on the test set\n",
        "preds, _ = learn.get_preds(dl=dls.valid)\n",
        "\n",
        "# Convert the predicted masks to a numpy array\n",
        "predicted_masks = preds.argmax(dim=1).numpy()\n",
        "\n",
        "# Get the ground truth masks for the test set\n",
        "true_masks = [y for _, y in dls.valid]\n",
        "\n",
        "# Convert the list of masks to a numpy array\n",
        "true_masks = torch.cat(true_masks).cpu().numpy()\n",
        "#true_masks = torch.cat(true_masks).numpy()\n",
        "\n",
        "\n",
        "# Flatten the masks to be 1D arrays\n",
        "true_masks_flat = true_masks.ravel()\n",
        "predicted_masks_flat = predicted_masks.ravel()\n",
        "\n",
        "# Calculate the confusion matrix for the test set\n",
        "conf_matrix = confusion_matrix(true_masks_flat, predicted_masks_flat)\n",
        "\n",
        "print(\"Confusion Matrix for the Test Set:\")\n",
        "print(conf_matrix)\n",
        "\n",
        "\n"
      ],
      "metadata": {
        "id": "FHrdGk5RZElp",
        "outputId": "2c1b6ed8-0a88-4b1d-c5e4-6d16acbe094f",
        "colab": {
          "base_uri": "https://localhost:8080/",
          "height": 69
        }
      },
      "execution_count": null,
      "outputs": [
        {
          "output_type": "display_data",
          "data": {
            "text/plain": [
              "<IPython.core.display.HTML object>"
            ],
            "text/html": [
              "\n",
              "<style>\n",
              "    /* Turns off some styling */\n",
              "    progress {\n",
              "        /* gets rid of default border in Firefox and Opera. */\n",
              "        border: none;\n",
              "        /* Needs to be in here for Safari polyfill so background images work as expected. */\n",
              "        background-size: auto;\n",
              "    }\n",
              "    progress:not([value]), progress:not([value])::-webkit-progress-bar {\n",
              "        background: repeating-linear-gradient(45deg, #7e7e7e, #7e7e7e 10px, #5c5c5c 10px, #5c5c5c 20px);\n",
              "    }\n",
              "    .progress-bar-interrupted, .progress-bar-interrupted::-webkit-progress-bar {\n",
              "        background: #F44336;\n",
              "    }\n",
              "</style>\n"
            ]
          },
          "metadata": {}
        },
        {
          "output_type": "display_data",
          "data": {
            "text/plain": [
              "<IPython.core.display.HTML object>"
            ],
            "text/html": []
          },
          "metadata": {}
        },
        {
          "output_type": "stream",
          "name": "stdout",
          "text": [
            "Confusion Matrix for the Test Set:\n",
            "[[93264  3515]\n",
            " [ 5159  3854]]\n"
          ]
        }
      ]
    },
    {
      "cell_type": "code",
      "source": [
        "# Perform inference on the training set\n",
        "preds, _ = learn.get_preds(dl=dls.train)\n",
        "\n",
        "# Convert the predicted masks to a numpy array\n",
        "predicted_masks = preds.argmax(dim=1).numpy()\n",
        "\n",
        "# Get the ground truth masks for the training set\n",
        "true_masks = [y for _, y in dls.train]\n",
        "\n",
        "# Convert the list of masks to a numpy array\n",
        "true_masks = torch.cat(true_masks).cpu().numpy()\n",
        "#true_masks = torch.cat(true_masks).numpy()\n",
        "\n",
        "# Flatten the masks to be 1D arrays\n",
        "true_masks_flat = true_masks.ravel()\n",
        "predicted_masks_flat = predicted_masks.ravel()\n",
        "\n",
        "# Calculate the confusion matrix for the training set\n",
        "conf_matrix = confusion_matrix(true_masks_flat, predicted_masks_flat)\n",
        "\n",
        "print(\"Confusion Matrix for the Training Set:\")\n",
        "print(conf_matrix)\n"
      ],
      "metadata": {
        "id": "VSlzZxiAZ952",
        "outputId": "8297a5cd-135b-43e7-e75f-59aece4fa15b",
        "colab": {
          "base_uri": "https://localhost:8080/",
          "height": 69
        }
      },
      "execution_count": null,
      "outputs": [
        {
          "output_type": "display_data",
          "data": {
            "text/plain": [
              "<IPython.core.display.HTML object>"
            ],
            "text/html": [
              "\n",
              "<style>\n",
              "    /* Turns off some styling */\n",
              "    progress {\n",
              "        /* gets rid of default border in Firefox and Opera. */\n",
              "        border: none;\n",
              "        /* Needs to be in here for Safari polyfill so background images work as expected. */\n",
              "        background-size: auto;\n",
              "    }\n",
              "    progress:not([value]), progress:not([value])::-webkit-progress-bar {\n",
              "        background: repeating-linear-gradient(45deg, #7e7e7e, #7e7e7e 10px, #5c5c5c 10px, #5c5c5c 20px);\n",
              "    }\n",
              "    .progress-bar-interrupted, .progress-bar-interrupted::-webkit-progress-bar {\n",
              "        background: #F44336;\n",
              "    }\n",
              "</style>\n"
            ]
          },
          "metadata": {}
        },
        {
          "output_type": "display_data",
          "data": {
            "text/plain": [
              "<IPython.core.display.HTML object>"
            ],
            "text/html": []
          },
          "metadata": {}
        },
        {
          "output_type": "stream",
          "name": "stdout",
          "text": [
            "Confusion Matrix for the Training Set:\n",
            "[[307010  53320]\n",
            " [ 52427  10411]]\n"
          ]
        }
      ]
    },
    {
      "cell_type": "code",
      "source": [
        "\n",
        "# Plot the confusion matrix\n",
        "plt.imshow(conf_matrix, interpolation='nearest', cmap=plt.cm.Blues)\n",
        "plt.title('Confusion Matrix for the Training Set')\n",
        "plt.colorbar()\n",
        "tick_marks = np.arange(len(target_names))\n",
        "plt.xticks(tick_marks, target_names, rotation=45)\n",
        "plt.yticks(tick_marks, target_names)\n",
        "plt.xlabel('Predicted label')\n",
        "plt.ylabel('True label')\n",
        "\n",
        "# Fill in confusion matrix with values\n",
        "thresh = conf_matrix.max() / 2.\n",
        "for i, j in np.ndindex(conf_matrix.shape):\n",
        "    plt.text(j, i, format(conf_matrix[i, j], 'd'),\n",
        "             horizontalalignment='center',\n",
        "             color='white' if conf_matrix[i, j] > thresh else 'black')\n",
        "\n",
        "plt.tight_layout()\n",
        "plt.show()"
      ],
      "metadata": {
        "id": "-eqXYgxUa_TS",
        "outputId": "d0bdd772-93b9-40c5-e06f-709fd172a09c",
        "colab": {
          "base_uri": "https://localhost:8080/",
          "height": 487
        }
      },
      "execution_count": null,
      "outputs": [
        {
          "output_type": "display_data",
          "data": {
            "text/plain": [
              "<Figure size 640x480 with 2 Axes>"
            ],
            "image/png": "[encoded data removed]"
          },
          "metadata": {}
        }
      ]
    },
    {
      "cell_type": "markdown",
      "source": [
        "## Model Accuracy for training and test"
      ],
      "metadata": {
        "id": "cNiv9d0jmuZ4"
      }
    },
    {
      "cell_type": "code",
      "source": [
        "# Perform inference on the training set\n",
        "preds, _ = learn.get_preds(dl=dls.train)\n",
        "\n",
        "# Convert the predicted masks to a numpy array\n",
        "predicted_masks = preds.argmax(dim=1).numpy()\n",
        "\n",
        "# Get the ground truth masks for the training set\n",
        "true_masks = [y for _, y in dls.train]\n",
        "\n",
        "# Convert the list of masks to a numpy array\n",
        "true_masks = torch.cat(true_masks).cpu().numpy()\n",
        "\n",
        "# Flatten the masks to be 1D arrays\n",
        "true_masks_flat = true_masks.ravel()\n",
        "predicted_masks_flat = predicted_masks.ravel()\n",
        "\n",
        "# Calculate the total number of pixels\n",
        "total_pixels = len(true_masks_flat)\n",
        "\n",
        "# Calculate the number of correctly predicted pixels (True Positives + True Negatives)\n",
        "correct_pixels = np.sum(true_masks_flat == predicted_masks_flat)\n",
        "\n",
        "# Calculate the model accuracy\n",
        "accuracy = correct_pixels / total_pixels\n",
        "\n",
        "print(\"Model Accuracy for the Training Set: {:.2f}%\".format(accuracy * 100))\n"
      ],
      "metadata": {
        "id": "I_sDsReAmaPI",
        "outputId": "910f4aec-8a52-4bcb-b8c9-f8e40069e83e",
        "colab": {
          "base_uri": "https://localhost:8080/",
          "height": 34
        }
      },
      "execution_count": null,
      "outputs": [
        {
          "output_type": "display_data",
          "data": {
            "text/plain": [
              "<IPython.core.display.HTML object>"
            ],
            "text/html": [
              "\n",
              "<style>\n",
              "    /* Turns off some styling */\n",
              "    progress {\n",
              "        /* gets rid of default border in Firefox and Opera. */\n",
              "        border: none;\n",
              "        /* Needs to be in here for Safari polyfill so background images work as expected. */\n",
              "        background-size: auto;\n",
              "    }\n",
              "    progress:not([value]), progress:not([value])::-webkit-progress-bar {\n",
              "        background: repeating-linear-gradient(45deg, #7e7e7e, #7e7e7e 10px, #5c5c5c 10px, #5c5c5c 20px);\n",
              "    }\n",
              "    .progress-bar-interrupted, .progress-bar-interrupted::-webkit-progress-bar {\n",
              "        background: #F44336;\n",
              "    }\n",
              "</style>\n"
            ]
          },
          "metadata": {}
        },
        {
          "output_type": "display_data",
          "data": {
            "text/plain": [
              "<IPython.core.display.HTML object>"
            ],
            "text/html": []
          },
          "metadata": {}
        },
        {
          "output_type": "stream",
          "name": "stdout",
          "text": [
            "Model Accuracy for the Training Set: 75.10%\n"
          ]
        }
      ]
    },
    {
      "cell_type": "code",
      "source": [
        "# Perform inference on the test set\n",
        "preds, _ = learn.get_preds(dl=dls.valid)\n",
        "\n",
        "# Convert the predicted masks to a numpy array\n",
        "predicted_masks = preds.argmax(dim=1).numpy()\n",
        "\n",
        "# Get the ground truth masks for the test set\n",
        "true_masks = [y for _, y in dls.valid]\n",
        "\n",
        "# Convert the list of masks to a numpy array\n",
        "true_masks = torch.cat(true_masks).cpu().numpy()\n",
        "\n",
        "# Flatten the masks to be 1D arrays\n",
        "true_masks_flat = true_masks.ravel()\n",
        "predicted_masks_flat = predicted_masks.ravel()\n",
        "\n",
        "# Calculate the total number of pixels\n",
        "total_pixels = len(true_masks_flat)\n",
        "\n",
        "# Calculate the number of correctly predicted pixels (True Positives + True Negatives)\n",
        "correct_pixels = np.sum(true_masks_flat == predicted_masks_flat)\n",
        "\n",
        "# Calculate the model accuracy\n",
        "accuracy = correct_pixels / total_pixels\n",
        "\n",
        "print(\"Model Accuracy for the Test Set: {:.2f}%\".format(accuracy * 100))\n"
      ],
      "metadata": {
        "id": "koJIcOk1mnMI",
        "outputId": "f7b46313-1a89-457e-e1bf-9ffbba7c91a6",
        "colab": {
          "base_uri": "https://localhost:8080/",
          "height": 34
        }
      },
      "execution_count": null,
      "outputs": [
        {
          "output_type": "display_data",
          "data": {
            "text/plain": [
              "<IPython.core.display.HTML object>"
            ],
            "text/html": [
              "\n",
              "<style>\n",
              "    /* Turns off some styling */\n",
              "    progress {\n",
              "        /* gets rid of default border in Firefox and Opera. */\n",
              "        border: none;\n",
              "        /* Needs to be in here for Safari polyfill so background images work as expected. */\n",
              "        background-size: auto;\n",
              "    }\n",
              "    progress:not([value]), progress:not([value])::-webkit-progress-bar {\n",
              "        background: repeating-linear-gradient(45deg, #7e7e7e, #7e7e7e 10px, #5c5c5c 10px, #5c5c5c 20px);\n",
              "    }\n",
              "    .progress-bar-interrupted, .progress-bar-interrupted::-webkit-progress-bar {\n",
              "        background: #F44336;\n",
              "    }\n",
              "</style>\n"
            ]
          },
          "metadata": {}
        },
        {
          "output_type": "display_data",
          "data": {
            "text/plain": [
              "<IPython.core.display.HTML object>"
            ],
            "text/html": []
          },
          "metadata": {}
        },
        {
          "output_type": "stream",
          "name": "stdout",
          "text": [
            "Model Accuracy for the Test Set: 91.80%\n"
          ]
        }
      ]
    },
    {
      "cell_type": "code",
      "source": [
        "# Calculate and print the classification report\n",
        "target_names = ['not greenhouse', 'greenhouse']\n",
        "report = classification_report(true_masks_flat, predicted_masks_flat, target_names=target_names)\n",
        "print(\"\\nClassification Report for the Training Set:\")\n",
        "print(report)"
      ],
      "metadata": {
        "id": "wIYyM6cmaNlt",
        "outputId": "e3170532-cb04-4122-8502-0bed7f0410f3",
        "colab": {
          "base_uri": "https://localhost:8080/"
        }
      },
      "execution_count": null,
      "outputs": [
        {
          "output_type": "stream",
          "name": "stdout",
          "text": [
            "\n",
            "Classification Report for the Training Set:\n",
            "                precision    recall  f1-score   support\n",
            "\n",
            "not greenhouse       0.95      0.96      0.96     96779\n",
            "    greenhouse       0.52      0.43      0.47      9013\n",
            "\n",
            "      accuracy                           0.92    105792\n",
            "     macro avg       0.74      0.70      0.71    105792\n",
            "  weighted avg       0.91      0.92      0.91    105792\n",
            "\n"
          ]
        }
      ]
    }
  ],
  "metadata": {
    "colab": {
      "provenance": [],
      "machine_shape": "hm",
      "gpuType": "A100",
      "include_colab_link": true
    },
    "kernelspec": {
      "display_name": "Python 3",
      "name": "python3"
    },
    "language_info": {
      "name": "python"
    },
    "accelerator": "GPU"
  },
  "nbformat": 4,
  "nbformat_minor": 0
}