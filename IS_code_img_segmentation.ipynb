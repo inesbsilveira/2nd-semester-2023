{
  "cells": [
    {
      "cell_type": "markdown",
      "metadata": {
        "id": "view-in-github",
        "colab_type": "text"
      },
      "source": [
        "<a href=\"https://colab.research.google.com/github/inesbsilveira/2nd-semester-2023/blob/main/IS_code_img_segmentation.ipynb\" target=\"_parent\"><img src=\"https://colab.research.google.com/assets/colab-badge.svg\" alt=\"Open In Colab\"/></a>"
      ]
    },
    {
      "cell_type": "markdown",
      "metadata": {
        "id": "j162cSYyTf9H"
      },
      "source": [
        "## Code for Image segmentation task for Practical Machine Learning\n",
        "#### Inês Silveira nr. 22062"
      ]
    },
    {
      "cell_type": "markdown",
      "metadata": {
        "id": "c0D08TmqTf9N"
      },
      "source": [
        "## First of all, download the files **mask_reclass.tif** and **3bands_clipped_tif.tif**, from the Data_In folder, to path /content/drive/MyDrive/AAA/ in Google Colab."
      ]
    },
    {
      "cell_type": "markdown",
      "metadata": {
        "id": "SpNIxqUXTf9N"
      },
      "source": [
        "## Imports"
      ]
    },
    {
      "cell_type": "code",
      "execution_count": null,
      "metadata": {
        "id": "VtGo8rAETf9O",
        "outputId": "dd3311d1-e83f-434b-f621-d9ef1492fa9b",
        "colab": {
          "base_uri": "https://localhost:8080/"
        }
      },
      "outputs": [
        {
          "output_type": "stream",
          "name": "stdout",
          "text": [
            "Drive already mounted at /content/drive; to attempt to forcibly remount, call drive.mount(\"/content/drive\", force_remount=True).\n",
            "Requirement already satisfied: rasterio in /usr/local/lib/python3.10/dist-packages (1.3.8)\n",
            "Requirement already satisfied: affine in /usr/local/lib/python3.10/dist-packages (from rasterio) (2.4.0)\n",
            "Requirement already satisfied: attrs in /usr/local/lib/python3.10/dist-packages (from rasterio) (23.1.0)\n",
            "Requirement already satisfied: certifi in /usr/local/lib/python3.10/dist-packages (from rasterio) (2023.5.7)\n",
            "Requirement already satisfied: click>=4.0 in /usr/local/lib/python3.10/dist-packages (from rasterio) (8.1.6)\n",
            "Requirement already satisfied: cligj>=0.5 in /usr/local/lib/python3.10/dist-packages (from rasterio) (0.7.2)\n",
            "Requirement already satisfied: numpy>=1.18 in /usr/local/lib/python3.10/dist-packages (from rasterio) (1.22.4)\n",
            "Requirement already satisfied: snuggs>=1.4.1 in /usr/local/lib/python3.10/dist-packages (from rasterio) (1.4.7)\n",
            "Requirement already satisfied: click-plugins in /usr/local/lib/python3.10/dist-packages (from rasterio) (1.1.1)\n",
            "Requirement already satisfied: setuptools in /usr/local/lib/python3.10/dist-packages (from rasterio) (67.7.2)\n",
            "Requirement already satisfied: pyparsing>=2.1.6 in /usr/local/lib/python3.10/dist-packages (from snuggs>=1.4.1->rasterio) (3.1.0)\n"
          ]
        }
      ],
      "source": [
        "from google.colab import drive\n",
        "drive.mount('/content/drive')\n",
        "\n",
        "!pip install rasterio\n",
        "\n",
        "import rasterio\n",
        "from rasterio.windows import Window\n",
        "import os\n",
        "import shutil\n",
        "import numpy as np\n",
        "from PIL import Image\n",
        "\n",
        "from fastai.vision.all import *\n",
        "from sklearn.metrics import confusion_matrix\n",
        "\n",
        "from sklearn.metrics import classification_report\n",
        "from sklearn.metrics import roc_auc_score\n"
      ]
    },
    {
      "cell_type": "markdown",
      "metadata": {
        "id": "ZDKaLMHl0HY9"
      },
      "source": [
        "## RASTERIO"
      ]
    },
    {
      "cell_type": "markdown",
      "metadata": {
        "id": "LaZfxlWp0gew"
      },
      "source": [
        "### RASTERIO - 1 BAND IMAGE\n",
        "Used to clip the mask_reclass.tif into smaller images. It creates a folder named \"labels1\" and stores all the 160 clipped images inside."
      ]
    },
    {
      "cell_type": "code",
      "execution_count": null,
      "metadata": {
        "id": "8YPoXFmR0j3Y"
      },
      "outputs": [],
      "source": [
        "# Specify the directory path\n",
        "directory = '/content/drive/MyDrive/AAA/'\n",
        "\n",
        "# Create a folder named \"labels1\" if it doesn't exist\n",
        "folder_name = \"labels1\"\n",
        "folder_path = os.path.join(directory, folder_name)\n",
        "if os.path.exists(folder_path):\n",
        "    shutil.rmtree(folder_path)  # Delete the folder and its contents\n",
        "\n",
        "os.makedirs(folder_path)  # Create the folder\n",
        "\n",
        "# Open the input raster file\n",
        "with rasterio.open('/content/drive/MyDrive/AAA/mask_reclass.tif') as src:\n",
        "\n",
        "    # Calculate the height and width of the sub-rasters\n",
        "    height = src.height // 20  # Divide the raster into 4 rows\n",
        "    width = src.width // 8  # Divide the raster into 8 columns\n",
        "\n",
        "    # Loop through each sub-raster and clip the data\n",
        "    for i in range(20):\n",
        "        for j in range(8):\n",
        "            # Define the window to clip the sub-raster\n",
        "            ymin = i * height\n",
        "            ymax = (i + 1) * height\n",
        "            xmin = j * width\n",
        "            xmax = (j + 1) * width\n",
        "            window = Window.from_slices((ymin, ymax), (xmin, xmax))\n",
        "\n",
        "            # Read the data within the window\n",
        "            clipped_data = src.read(window=window)\n",
        "\n",
        "            # Update the metadata for the clipped data\n",
        "            clipped_meta = src.meta.copy()\n",
        "            clipped_meta.update({\n",
        "                'height': window.height,\n",
        "                'width': window.width,\n",
        "                'transform': src.window_transform(window)\n",
        "            })\n",
        "\n",
        "            # Write the clipped data to a new raster file\n",
        "            # with rasterio.open(f'sub_raster_{i}_{j}.tif', 'w', **clipped_meta) as dst:\n",
        "            output_file = os.path.join(directory,folder_name, f'image_{i}_{j}_mask1.png')\n",
        "            with rasterio.open(output_file, 'w', **clipped_meta) as dst:\n",
        "                 dst.write(clipped_data)\n",
        "\n",
        "  # converts to 8 bits AFTER re-scaling bands\n",
        "def s255(arr):\n",
        "    arr_std = (arr - np.min(arr)) / (np.max(arr) - np.min(arr)) * 255\n",
        "    # Convert the standardized array to integer values\n",
        "    arr_std = arr_std.astype(np.uint8)\n",
        "    return arr_std"
      ]
    },
    {
      "cell_type": "markdown",
      "metadata": {
        "id": "VYgt2Si60nR1"
      },
      "source": [
        "### RASTERIO - 3 BANDS IMAGE\n",
        "Used to clip the 3bands_clipped_tif.tif into smaller images. It creates a folder named \"images\" and stores all the 160 clipped images inside."
      ]
    },
    {
      "cell_type": "code",
      "execution_count": null,
      "metadata": {
        "id": "VQ8aoOwb0puE"
      },
      "outputs": [],
      "source": [
        "# Specify the directory path\n",
        "directory = '/content/drive/MyDrive/AAA/'\n",
        "\n",
        "# Create a folder named \"images\" if it already doesn't exist\n",
        "folder_name = \"images\"\n",
        "folder_path = os.path.join(directory, folder_name)\n",
        "if os.path.exists(folder_path):\n",
        "    shutil.rmtree(folder_path)  # Delete the folder and its contents\n",
        "\n",
        "os.makedirs(folder_path)  # Create the folder\n",
        "\n",
        "# Multi bandas\n",
        "# Open the input raster file\n",
        "with rasterio.open('/content/drive/MyDrive/AAA/3bands_clipped_tif.tif') as src:\n",
        "\n",
        "    # Calculate the height and width of the sub-rasters\n",
        "    nHeight=20\n",
        "    nWidth=8\n",
        "    height = src.height // nHeight  # Divide the raster into 58 rows\n",
        "    width = src.width // nWidth  # Divide the raster into 23 columns\n",
        "\n",
        "    # Loop through each sub-raster and clip the data\n",
        "    for i in range(nHeight):\n",
        "        for j in range(nWidth):\n",
        "            # Define the window to clip the sub-raster\n",
        "            ymin = i * height\n",
        "            ymax = (i + 1) * height\n",
        "            xmin = j * width\n",
        "            xmax = (j + 1) * width\n",
        "\n",
        "            window = Window.from_slices((ymin, ymax), (xmin, xmax))\n",
        "\n",
        "            # Read the data within the window\n",
        "            clipped_data_1 = s255(src.read(1, window=window))\n",
        "            clipped_data_2 = s255(src.read(2, window=window))\n",
        "            clipped_data_3 = s255(src.read(3, window=window))\n",
        "\n",
        "            rgb_image = np.stack([clipped_data_1, clipped_data_2, clipped_data_3], axis=2)\n",
        "\n",
        "\n",
        "            # Convert the image array to a PIL Image\n",
        "            image = Image.fromarray(rgb_image,mode='RGB')\n",
        "\n",
        "            # Save the PIL Image as a PNG file\n",
        "\n",
        "            output_file = os.path.join(directory, folder_name, f'image_{i}_{j}.png')\n",
        "            image.save(output_file)"
      ]
    },
    {
      "cell_type": "markdown",
      "metadata": {
        "id": "yBLXEwnS0s_k"
      },
      "source": [
        "## IMAGE SEGMENTATION\n",
        "Uses images and labels created in the previous code, as well as a list of labels in the mask (greenhouse, not greenhouse)"
      ]
    },
    {
      "cell_type": "code",
      "source": [
        "# Define paths\n",
        "path = Path('/content/drive/MyDrive/AAA')\n",
        "image_folder = path/'images'\n",
        "mask_folder = path/'labels1'\n",
        "\n",
        "# Create DataBlock\n",
        "def get_items(path):\n",
        "    image_files = get_image_files(image_folder)\n",
        "    return image_files\n",
        "\n",
        "def get_mask_fn(image_file):\n",
        "    return mask_folder / f'{image_file.stem}_mask1.png'\n",
        "\n",
        "codes = ['greenhouse', 'not greenhouse']  # Labels in the mask\n",
        "\n",
        "items = get_items(path)\n",
        "\n",
        "# Create a stratified split of the indices for training and test set\n",
        "train_idx, test_idx = RandomSplitter(valid_pct=0.2, seed=42)(items)\n",
        "train_items = [items[i] for i in train_idx]\n",
        "test_items = [items[i] for i in test_idx]\n",
        "\n",
        "# Write the training set items to a txt file\n",
        "with open('training_set.txt', 'w') as f:\n",
        "    for item in train_items:\n",
        "        f.write(str(item) + '\\n')\n",
        "\n",
        "# Write the test set items to a txt file\n",
        "with open('test_set.txt', 'w') as f:\n",
        "    for item in test_items:\n",
        "        f.write(str(item) + '\\n')\n",
        "\n",
        "print(\"Paths of training and test sets have been stored in 'training_set.txt' and 'test_set.txt' respectively.\")\n"
      ],
      "metadata": {
        "colab": {
          "base_uri": "https://localhost:8080/"
        },
        "id": "Tscy25dqBJhO",
        "outputId": "d57ba983-1861-4a73-e5bd-6f887e4fd579"
      },
      "execution_count": null,
      "outputs": [
        {
          "output_type": "stream",
          "name": "stdout",
          "text": [
            "Paths of training and test sets have been stored in 'training_set.txt' and 'test_set.txt' respectively.\n"
          ]
        }
      ]
    },
    {
      "cell_type": "code",
      "execution_count": null,
      "metadata": {
        "id": "R-v-Y1ms0ssg"
      },
      "outputs": [],
      "source": [
        "# Define paths\n",
        "path = Path('/content/drive/MyDrive/AAA')\n",
        "image_folder = path/'images'\n",
        "mask_folder = path/'labels1'\n",
        "\n",
        "# Create DataBlock\n",
        "def get_items(path):\n",
        "    image_files = get_image_files(image_folder)\n",
        "    return image_files\n",
        "\n",
        "def get_mask_fn(image_file):\n",
        "    return mask_folder / f'{image_file.stem}_mask1.png'\n",
        "\n",
        "codes = ['greenhouse', 'not greenhouse']  # Labels in the mask\n",
        "\n",
        "dblock = DataBlock(blocks=(ImageBlock, MaskBlock(codes)),\n",
        "                   get_items=get_items,\n",
        "                   get_y=get_mask_fn,\n",
        "                   splitter=RandomSplitter(valid_pct=0.2, seed=42))\n",
        "\n",
        "# Create DataLoaders\n",
        "dls = dblock.dataloaders(path, bs=8)"
      ]
    },
    {
      "cell_type": "markdown",
      "metadata": {
        "id": "dc_9AZLMTf9R"
      },
      "source": [
        "Train the model"
      ]
    },
    {
      "cell_type": "code",
      "execution_count": null,
      "metadata": {
        "colab": {
          "base_uri": "https://localhost:8080/",
          "height": 1000
        },
        "id": "AnuEk6F_1HX3",
        "outputId": "a0292c1e-21b4-4a26-ba2d-153f07331180"
      },
      "outputs": [
        {
          "output_type": "display_data",
          "data": {
            "text/plain": [
              "<IPython.core.display.HTML object>"
            ],
            "text/html": [
              "\n",
              "<style>\n",
              "    /* Turns off some styling */\n",
              "    progress {\n",
              "        /* gets rid of default border in Firefox and Opera. */\n",
              "        border: none;\n",
              "        /* Needs to be in here for Safari polyfill so background images work as expected. */\n",
              "        background-size: auto;\n",
              "    }\n",
              "    progress:not([value]), progress:not([value])::-webkit-progress-bar {\n",
              "        background: repeating-linear-gradient(45deg, #7e7e7e, #7e7e7e 10px, #5c5c5c 10px, #5c5c5c 20px);\n",
              "    }\n",
              "    .progress-bar-interrupted, .progress-bar-interrupted::-webkit-progress-bar {\n",
              "        background: #F44336;\n",
              "    }\n",
              "</style>\n"
            ]
          },
          "metadata": {}
        },
        {
          "output_type": "display_data",
          "data": {
            "text/plain": [
              "<IPython.core.display.HTML object>"
            ],
            "text/html": [
              "<table border=\"1\" class=\"dataframe\">\n",
              "  <thead>\n",
              "    <tr style=\"text-align: left;\">\n",
              "      <th>epoch</th>\n",
              "      <th>train_loss</th>\n",
              "      <th>valid_loss</th>\n",
              "      <th>time</th>\n",
              "    </tr>\n",
              "  </thead>\n",
              "  <tbody>\n",
              "    <tr>\n",
              "      <td>0</td>\n",
              "      <td>0.538907</td>\n",
              "      <td>0.436896</td>\n",
              "      <td>00:41</td>\n",
              "    </tr>\n",
              "  </tbody>\n",
              "</table>"
            ]
          },
          "metadata": {}
        },
        {
          "output_type": "display_data",
          "data": {
            "text/plain": [
              "<IPython.core.display.HTML object>"
            ],
            "text/html": [
              "\n",
              "<style>\n",
              "    /* Turns off some styling */\n",
              "    progress {\n",
              "        /* gets rid of default border in Firefox and Opera. */\n",
              "        border: none;\n",
              "        /* Needs to be in here for Safari polyfill so background images work as expected. */\n",
              "        background-size: auto;\n",
              "    }\n",
              "    progress:not([value]), progress:not([value])::-webkit-progress-bar {\n",
              "        background: repeating-linear-gradient(45deg, #7e7e7e, #7e7e7e 10px, #5c5c5c 10px, #5c5c5c 20px);\n",
              "    }\n",
              "    .progress-bar-interrupted, .progress-bar-interrupted::-webkit-progress-bar {\n",
              "        background: #F44336;\n",
              "    }\n",
              "</style>\n"
            ]
          },
          "metadata": {}
        },
        {
          "output_type": "display_data",
          "data": {
            "text/plain": [
              "<IPython.core.display.HTML object>"
            ],
            "text/html": [
              "<table border=\"1\" class=\"dataframe\">\n",
              "  <thead>\n",
              "    <tr style=\"text-align: left;\">\n",
              "      <th>epoch</th>\n",
              "      <th>train_loss</th>\n",
              "      <th>valid_loss</th>\n",
              "      <th>time</th>\n",
              "    </tr>\n",
              "  </thead>\n",
              "  <tbody>\n",
              "    <tr>\n",
              "      <td>0</td>\n",
              "      <td>0.365107</td>\n",
              "      <td>0.326574</td>\n",
              "      <td>00:49</td>\n",
              "    </tr>\n",
              "    <tr>\n",
              "      <td>1</td>\n",
              "      <td>0.363203</td>\n",
              "      <td>0.301564</td>\n",
              "      <td>00:48</td>\n",
              "    </tr>\n",
              "    <tr>\n",
              "      <td>2</td>\n",
              "      <td>0.348043</td>\n",
              "      <td>0.282044</td>\n",
              "      <td>00:47</td>\n",
              "    </tr>\n",
              "    <tr>\n",
              "      <td>3</td>\n",
              "      <td>0.342452</td>\n",
              "      <td>0.260407</td>\n",
              "      <td>00:48</td>\n",
              "    </tr>\n",
              "    <tr>\n",
              "      <td>4</td>\n",
              "      <td>0.324236</td>\n",
              "      <td>0.397437</td>\n",
              "      <td>00:47</td>\n",
              "    </tr>\n",
              "    <tr>\n",
              "      <td>5</td>\n",
              "      <td>0.303548</td>\n",
              "      <td>0.215320</td>\n",
              "      <td>00:50</td>\n",
              "    </tr>\n",
              "    <tr>\n",
              "      <td>6</td>\n",
              "      <td>0.277012</td>\n",
              "      <td>0.263596</td>\n",
              "      <td>00:47</td>\n",
              "    </tr>\n",
              "    <tr>\n",
              "      <td>7</td>\n",
              "      <td>0.263750</td>\n",
              "      <td>0.339181</td>\n",
              "      <td>00:48</td>\n",
              "    </tr>\n",
              "    <tr>\n",
              "      <td>8</td>\n",
              "      <td>0.244258</td>\n",
              "      <td>0.218599</td>\n",
              "      <td>00:47</td>\n",
              "    </tr>\n",
              "    <tr>\n",
              "      <td>9</td>\n",
              "      <td>0.225209</td>\n",
              "      <td>0.274064</td>\n",
              "      <td>00:48</td>\n",
              "    </tr>\n",
              "    <tr>\n",
              "      <td>10</td>\n",
              "      <td>0.210864</td>\n",
              "      <td>0.236203</td>\n",
              "      <td>00:49</td>\n",
              "    </tr>\n",
              "    <tr>\n",
              "      <td>11</td>\n",
              "      <td>0.190821</td>\n",
              "      <td>0.242544</td>\n",
              "      <td>00:48</td>\n",
              "    </tr>\n",
              "    <tr>\n",
              "      <td>12</td>\n",
              "      <td>0.174412</td>\n",
              "      <td>0.309690</td>\n",
              "      <td>00:49</td>\n",
              "    </tr>\n",
              "    <tr>\n",
              "      <td>13</td>\n",
              "      <td>0.155562</td>\n",
              "      <td>0.274734</td>\n",
              "      <td>00:51</td>\n",
              "    </tr>\n",
              "    <tr>\n",
              "      <td>14</td>\n",
              "      <td>0.168677</td>\n",
              "      <td>0.299082</td>\n",
              "      <td>00:47</td>\n",
              "    </tr>\n",
              "    <tr>\n",
              "      <td>15</td>\n",
              "      <td>0.166911</td>\n",
              "      <td>0.257041</td>\n",
              "      <td>00:50</td>\n",
              "    </tr>\n",
              "    <tr>\n",
              "      <td>16</td>\n",
              "      <td>0.153432</td>\n",
              "      <td>0.263779</td>\n",
              "      <td>00:48</td>\n",
              "    </tr>\n",
              "    <tr>\n",
              "      <td>17</td>\n",
              "      <td>0.133763</td>\n",
              "      <td>0.299082</td>\n",
              "      <td>00:49</td>\n",
              "    </tr>\n",
              "    <tr>\n",
              "      <td>18</td>\n",
              "      <td>0.115488</td>\n",
              "      <td>0.346220</td>\n",
              "      <td>00:47</td>\n",
              "    </tr>\n",
              "    <tr>\n",
              "      <td>19</td>\n",
              "      <td>0.100310</td>\n",
              "      <td>0.366739</td>\n",
              "      <td>00:48</td>\n",
              "    </tr>\n",
              "    <tr>\n",
              "      <td>20</td>\n",
              "      <td>0.088140</td>\n",
              "      <td>0.374670</td>\n",
              "      <td>00:49</td>\n",
              "    </tr>\n",
              "    <tr>\n",
              "      <td>21</td>\n",
              "      <td>0.077632</td>\n",
              "      <td>0.374515</td>\n",
              "      <td>00:48</td>\n",
              "    </tr>\n",
              "    <tr>\n",
              "      <td>22</td>\n",
              "      <td>0.068730</td>\n",
              "      <td>0.429457</td>\n",
              "      <td>00:48</td>\n",
              "    </tr>\n",
              "    <tr>\n",
              "      <td>23</td>\n",
              "      <td>0.061187</td>\n",
              "      <td>0.453035</td>\n",
              "      <td>00:51</td>\n",
              "    </tr>\n",
              "    <tr>\n",
              "      <td>24</td>\n",
              "      <td>0.054786</td>\n",
              "      <td>0.466740</td>\n",
              "      <td>00:48</td>\n",
              "    </tr>\n",
              "    <tr>\n",
              "      <td>25</td>\n",
              "      <td>0.049812</td>\n",
              "      <td>0.458666</td>\n",
              "      <td>00:52</td>\n",
              "    </tr>\n",
              "    <tr>\n",
              "      <td>26</td>\n",
              "      <td>0.045732</td>\n",
              "      <td>0.492720</td>\n",
              "      <td>00:50</td>\n",
              "    </tr>\n",
              "    <tr>\n",
              "      <td>27</td>\n",
              "      <td>0.042354</td>\n",
              "      <td>0.539762</td>\n",
              "      <td>00:49</td>\n",
              "    </tr>\n",
              "    <tr>\n",
              "      <td>28</td>\n",
              "      <td>0.039357</td>\n",
              "      <td>0.534594</td>\n",
              "      <td>00:50</td>\n",
              "    </tr>\n",
              "    <tr>\n",
              "      <td>29</td>\n",
              "      <td>0.036708</td>\n",
              "      <td>0.515539</td>\n",
              "      <td>00:51</td>\n",
              "    </tr>\n",
              "    <tr>\n",
              "      <td>30</td>\n",
              "      <td>0.034148</td>\n",
              "      <td>0.539992</td>\n",
              "      <td>00:50</td>\n",
              "    </tr>\n",
              "    <tr>\n",
              "      <td>31</td>\n",
              "      <td>0.031947</td>\n",
              "      <td>0.554416</td>\n",
              "      <td>00:52</td>\n",
              "    </tr>\n",
              "    <tr>\n",
              "      <td>32</td>\n",
              "      <td>0.030084</td>\n",
              "      <td>0.566296</td>\n",
              "      <td>00:51</td>\n",
              "    </tr>\n",
              "    <tr>\n",
              "      <td>33</td>\n",
              "      <td>0.028562</td>\n",
              "      <td>0.606668</td>\n",
              "      <td>00:53</td>\n",
              "    </tr>\n",
              "    <tr>\n",
              "      <td>34</td>\n",
              "      <td>0.027374</td>\n",
              "      <td>0.600033</td>\n",
              "      <td>00:53</td>\n",
              "    </tr>\n",
              "    <tr>\n",
              "      <td>35</td>\n",
              "      <td>0.026542</td>\n",
              "      <td>0.596317</td>\n",
              "      <td>00:54</td>\n",
              "    </tr>\n",
              "    <tr>\n",
              "      <td>36</td>\n",
              "      <td>0.025537</td>\n",
              "      <td>0.602435</td>\n",
              "      <td>00:53</td>\n",
              "    </tr>\n",
              "    <tr>\n",
              "      <td>37</td>\n",
              "      <td>0.024893</td>\n",
              "      <td>0.611599</td>\n",
              "      <td>00:54</td>\n",
              "    </tr>\n",
              "    <tr>\n",
              "      <td>38</td>\n",
              "      <td>0.024200</td>\n",
              "      <td>0.610290</td>\n",
              "      <td>00:53</td>\n",
              "    </tr>\n",
              "    <tr>\n",
              "      <td>39</td>\n",
              "      <td>0.023761</td>\n",
              "      <td>0.613802</td>\n",
              "      <td>00:54</td>\n",
              "    </tr>\n",
              "  </tbody>\n",
              "</table>"
            ]
          },
          "metadata": {}
        },
        {
          "output_type": "display_data",
          "data": {
            "text/plain": [
              "<IPython.core.display.HTML object>"
            ],
            "text/html": [
              "\n",
              "<style>\n",
              "    /* Turns off some styling */\n",
              "    progress {\n",
              "        /* gets rid of default border in Firefox and Opera. */\n",
              "        border: none;\n",
              "        /* Needs to be in here for Safari polyfill so background images work as expected. */\n",
              "        background-size: auto;\n",
              "    }\n",
              "    progress:not([value]), progress:not([value])::-webkit-progress-bar {\n",
              "        background: repeating-linear-gradient(45deg, #7e7e7e, #7e7e7e 10px, #5c5c5c 10px, #5c5c5c 20px);\n",
              "    }\n",
              "    .progress-bar-interrupted, .progress-bar-interrupted::-webkit-progress-bar {\n",
              "        background: #F44336;\n",
              "    }\n",
              "</style>\n"
            ]
          },
          "metadata": {}
        },
        {
          "output_type": "display_data",
          "data": {
            "text/plain": [
              "<IPython.core.display.HTML object>"
            ],
            "text/html": []
          },
          "metadata": {}
        },
        {
          "output_type": "execute_result",
          "data": {
            "text/plain": [
              "<Axes: >"
            ]
          },
          "metadata": {},
          "execution_count": 73
        },
        {
          "output_type": "display_data",
          "data": {
            "text/plain": [
              "<Figure size 100x100 with 1 Axes>"
            ],
            "image/png": "[encoded data removed]"
          },
          "metadata": {}
        },
        {
          "output_type": "display_data",
          "data": {
            "text/plain": [
              "<Figure size 100x100 with 1 Axes>"
            ],
            "image/png": "[encoded data removed]"
          },
          "metadata": {}
        }
      ],
      "source": [
        "# Define U-Net model\n",
        "learn = unet_learner(dls, resnet34)\n",
        "\n",
        "# Train the model\n",
        "# In the following line of code, adjust the number of epochs to see different results\n",
        "learn.fine_tune(40)\n",
        "\n",
        "# Perform inference on test images\n",
        "test_dl = dls.test_dl(get_image_files(image_folder))\n",
        "preds = learn.get_preds(dl=test_dl)\n",
        "\n",
        "# Display sample predictions\n",
        "sample_idx = 0\n",
        "sample_image_path = list(test_dl.items)[sample_idx]\n",
        "sample_image = PILImage.create(sample_image_path)\n",
        "sample_pred = preds[0][sample_idx].argmax(dim=0).numpy()\n",
        "\n",
        "sample_image.show()\n",
        "TensorImage(sample_pred).show(cmap='tab20')\n"
      ]
    },
    {
      "cell_type": "code",
      "execution_count": null,
      "metadata": {
        "id": "8kusbC-hTf9S",
        "outputId": "8ba983dd-64ee-4279-8a90-5b2b3ff7b805",
        "colab": {
          "base_uri": "https://localhost:8080/",
          "height": 17
        }
      },
      "outputs": [
        {
          "output_type": "display_data",
          "data": {
            "text/plain": [
              "<IPython.core.display.HTML object>"
            ],
            "text/html": [
              "\n",
              "<style>\n",
              "    /* Turns off some styling */\n",
              "    progress {\n",
              "        /* gets rid of default border in Firefox and Opera. */\n",
              "        border: none;\n",
              "        /* Needs to be in here for Safari polyfill so background images work as expected. */\n",
              "        background-size: auto;\n",
              "    }\n",
              "    progress:not([value]), progress:not([value])::-webkit-progress-bar {\n",
              "        background: repeating-linear-gradient(45deg, #7e7e7e, #7e7e7e 10px, #5c5c5c 10px, #5c5c5c 20px);\n",
              "    }\n",
              "    .progress-bar-interrupted, .progress-bar-interrupted::-webkit-progress-bar {\n",
              "        background: #F44336;\n",
              "    }\n",
              "</style>\n"
            ]
          },
          "metadata": {}
        },
        {
          "output_type": "display_data",
          "data": {
            "text/plain": [
              "<IPython.core.display.HTML object>"
            ],
            "text/html": []
          },
          "metadata": {}
        }
      ],
      "source": [
        "# Perform inference on test images\n",
        "test_dl = dls.test_dl(get_image_files(image_folder))\n",
        "preds = learn.get_preds(dl=test_dl)[0]"
      ]
    },
    {
      "cell_type": "code",
      "source": [
        "# Define the function to extract the row and column number from the test image file name\n",
        "def get_row_column_from_filename(filename):\n",
        "    filename = os.path.basename(filename)\n",
        "    parts = filename.split('_')\n",
        "    row = int(parts[1])\n",
        "    column = int(parts[2].split('.')[0])\n",
        "    return row, column"
      ],
      "metadata": {
        "id": "LeaFHcWDYBAD"
      },
      "execution_count": null,
      "outputs": []
    },
    {
      "cell_type": "code",
      "source": [
        "# Save the predicted mask images according to their row and column number\n",
        "for idx, pred in enumerate(preds):\n",
        "    # Get the row and column number from the test image file name\n",
        "    sample_image_path = list(test_dl.items)[idx]\n",
        "    row, column = get_row_column_from_filename(sample_image_path)\n",
        "\n",
        "    # Create a folder for each row if it doesn't exist\n",
        "    row_folder = os.path.join(mask_folder, f'row_{row}')\n",
        "    os.makedirs(row_folder, exist_ok=True)\n",
        "\n",
        "    # Create a filename for the predicted mask image\n",
        "    mask_filename = f'image_{row}_{column}_mask1.png'\n",
        "    mask_filepath = os.path.join(row_folder, mask_filename)\n",
        "\n",
        "    # Convert the predicted mask to a PIL Image\n",
        "    sample_pred = pred.argmax(dim=0).numpy()\n",
        "    mask_image = Image.fromarray((sample_pred * 255).astype(np.uint8))\n",
        "\n",
        "    # Save the predicted mask image\n",
        "    mask_image.save(mask_filepath)"
      ],
      "metadata": {
        "id": "cAbX4obmYDmR"
      },
      "execution_count": null,
      "outputs": []
    },
    {
      "cell_type": "code",
      "source": [
        "# Open the input raster file to calculate width and height\n",
        "with rasterio.open('/content/drive/MyDrive/AAA/mask_reclass.tif') as src:\n",
        "    # Calculate the height and width of the sub-rasters\n",
        "    height = src.height // 20  # Divide the raster into 4 rows\n",
        "    width = src.width // 8  # Divide the raster into 8 columns"
      ],
      "metadata": {
        "id": "GhpFiYDfCPku"
      },
      "execution_count": null,
      "outputs": []
    },
    {
      "cell_type": "code",
      "source": [
        "# Merge all predicted mask images according to their row and column\n",
        "rows, columns = 20, 8  # Number of rows and columns in the grid\n",
        "merged_width = width * columns\n",
        "merged_height = height * rows\n",
        "merged_image = Image.new('RGB', (merged_width, merged_height))\n",
        "\n",
        "# Loop through each row and column to merge the images\n",
        "for i in range(rows):\n",
        "    for j in range(columns):\n",
        "        # Load the predicted mask image\n",
        "        mask_file = os.path.join(mask_folder, f'row_{i}', f'image_{i}_{j}_mask1.png')\n",
        "        mask_image = Image.open(mask_file)\n",
        "\n",
        "        # Define the position to paste the mask image in the merged image\n",
        "        x_offset = j * width\n",
        "        y_offset = i * height\n",
        "\n",
        "        # Paste the mask image in the merged image\n",
        "        merged_image.paste(mask_image, (x_offset, y_offset))\n",
        "\n",
        "# Save the merged image\n",
        "merged_output_file = os.path.join(mask_folder, 'merged_predicted_masks_50.png')\n",
        "merged_image.save(merged_output_file)\n"
      ],
      "metadata": {
        "id": "1PquCs1MYc8F"
      },
      "execution_count": null,
      "outputs": []
    },
    {
      "cell_type": "code",
      "execution_count": null,
      "metadata": {
        "colab": {
          "base_uri": "https://localhost:8080/",
          "height": 1000
        },
        "id": "vCcKmM9x1KDc",
        "outputId": "a6e823e6-5a27-4b12-9d11-e8d6d5879c3c"
      },
      "outputs": [
        {
          "output_type": "display_data",
          "data": {
            "text/plain": [
              "<Figure size 1000x2000 with 10 Axes>"
            ],
            "image/png": "[encoded data removed]"
          },
          "metadata": {}
        }
      ],
      "source": [
        "\n",
        "# Display sample predictions\n",
        "sample_indices = [0, 1, 2, 3, 4]\n",
        "\n",
        "# Define the number of columns\n",
        "fig, axes = plt.subplots(len(sample_indices), 2, figsize=(10, 20))\n",
        "\n",
        "for i, idx in enumerate(sample_indices):\n",
        "    sample_image_path = list(test_dl.items)[idx]\n",
        "    sample_image = PILImage.create(sample_image_path)\n",
        "    sample_pred = preds[idx].argmax(dim=0).numpy()\n",
        "# image of satelite agregate\n",
        "    axes[i, 0].imshow(sample_image)\n",
        "    axes[i, 0].set_title('Image')\n",
        "    axes[i, 0].axis('off')\n",
        "# image of predicted mask\n",
        "    axes[i, 1].imshow(sample_pred, cmap='tab20')\n",
        "    axes[i, 1].set_title('Predicted Mask')\n",
        "    axes[i, 1].axis('off')\n",
        "\n",
        "plt.tight_layout()\n",
        "plt.show()"
      ]
    },
    {
      "cell_type": "markdown",
      "metadata": {
        "id": "SApI_EqVTf9S"
      },
      "source": [
        "## Confusion Matrix for training and test"
      ]
    },
    {
      "cell_type": "code",
      "source": [
        "import numpy as np\n",
        "from sklearn.metrics import confusion_matrix\n",
        "\n",
        "# Perform inference on the test set\n",
        "preds, _ = learn.get_preds(dl=dls.valid)\n",
        "\n",
        "# Convert the predicted masks to a numpy array\n",
        "predicted_masks = preds.argmax(dim=1).numpy()\n",
        "\n",
        "# Get the ground truth masks for the test set\n",
        "true_masks = [y for _, y in dls.valid]\n",
        "\n",
        "# Convert the list of masks to a numpy array\n",
        "true_masks = torch.cat(true_masks).numpy()\n",
        "\n",
        "# Flatten the masks to be 1D arrays\n",
        "true_masks_flat = true_masks.ravel()\n",
        "predicted_masks_flat = predicted_masks.ravel()\n",
        "\n",
        "# Calculate the confusion matrix for the test set\n",
        "conf_matrix = confusion_matrix(true_masks_flat, predicted_masks_flat)\n",
        "\n",
        "print(\"Confusion Matrix for the Test Set:\")\n",
        "print(conf_matrix)\n",
        "\n",
        "\n"
      ],
      "metadata": {
        "id": "FHrdGk5RZElp",
        "outputId": "20b54c20-860f-47d9-b86d-42a02fbf423c",
        "colab": {
          "base_uri": "https://localhost:8080/",
          "height": 69
        }
      },
      "execution_count": null,
      "outputs": [
        {
          "output_type": "display_data",
          "data": {
            "text/plain": [
              "<IPython.core.display.HTML object>"
            ],
            "text/html": [
              "\n",
              "<style>\n",
              "    /* Turns off some styling */\n",
              "    progress {\n",
              "        /* gets rid of default border in Firefox and Opera. */\n",
              "        border: none;\n",
              "        /* Needs to be in here for Safari polyfill so background images work as expected. */\n",
              "        background-size: auto;\n",
              "    }\n",
              "    progress:not([value]), progress:not([value])::-webkit-progress-bar {\n",
              "        background: repeating-linear-gradient(45deg, #7e7e7e, #7e7e7e 10px, #5c5c5c 10px, #5c5c5c 20px);\n",
              "    }\n",
              "    .progress-bar-interrupted, .progress-bar-interrupted::-webkit-progress-bar {\n",
              "        background: #F44336;\n",
              "    }\n",
              "</style>\n"
            ]
          },
          "metadata": {}
        },
        {
          "output_type": "display_data",
          "data": {
            "text/plain": [
              "<IPython.core.display.HTML object>"
            ],
            "text/html": []
          },
          "metadata": {}
        },
        {
          "output_type": "stream",
          "name": "stdout",
          "text": [
            "Confusion Matrix for the Test Set:\n",
            "[[91825  4954]\n",
            " [ 4714  4299]]\n"
          ]
        }
      ]
    },
    {
      "cell_type": "code",
      "source": [
        "# Perform inference on the training set\n",
        "preds, _ = learn.get_preds(dl=dls.train)\n",
        "\n",
        "# Convert the predicted masks to a numpy array\n",
        "predicted_masks = preds.argmax(dim=1).numpy()\n",
        "\n",
        "# Get the ground truth masks for the training set\n",
        "true_masks = [y for _, y in dls.train]\n",
        "\n",
        "# Convert the list of masks to a numpy array\n",
        "true_masks = torch.cat(true_masks).numpy()\n",
        "\n",
        "# Flatten the masks to be 1D arrays\n",
        "true_masks_flat = true_masks.ravel()\n",
        "predicted_masks_flat = predicted_masks.ravel()\n",
        "\n",
        "# Calculate the confusion matrix for the training set\n",
        "conf_matrix = confusion_matrix(true_masks_flat, predicted_masks_flat)\n",
        "\n",
        "print(\"Confusion Matrix for the Training Set:\")\n",
        "print(conf_matrix)\n"
      ],
      "metadata": {
        "id": "VSlzZxiAZ952",
        "outputId": "07b1f42e-2aca-4c91-f380-10380389785d",
        "colab": {
          "base_uri": "https://localhost:8080/",
          "height": 69
        }
      },
      "execution_count": null,
      "outputs": [
        {
          "output_type": "display_data",
          "data": {
            "text/plain": [
              "<IPython.core.display.HTML object>"
            ],
            "text/html": [
              "\n",
              "<style>\n",
              "    /* Turns off some styling */\n",
              "    progress {\n",
              "        /* gets rid of default border in Firefox and Opera. */\n",
              "        border: none;\n",
              "        /* Needs to be in here for Safari polyfill so background images work as expected. */\n",
              "        background-size: auto;\n",
              "    }\n",
              "    progress:not([value]), progress:not([value])::-webkit-progress-bar {\n",
              "        background: repeating-linear-gradient(45deg, #7e7e7e, #7e7e7e 10px, #5c5c5c 10px, #5c5c5c 20px);\n",
              "    }\n",
              "    .progress-bar-interrupted, .progress-bar-interrupted::-webkit-progress-bar {\n",
              "        background: #F44336;\n",
              "    }\n",
              "</style>\n"
            ]
          },
          "metadata": {}
        },
        {
          "output_type": "display_data",
          "data": {
            "text/plain": [
              "<IPython.core.display.HTML object>"
            ],
            "text/html": []
          },
          "metadata": {}
        },
        {
          "output_type": "stream",
          "name": "stdout",
          "text": [
            "Confusion Matrix for the Training Set:\n",
            "[[307519  52811]\n",
            " [ 51367  11471]]\n"
          ]
        }
      ]
    },
    {
      "cell_type": "code",
      "source": [
        "\n",
        "# Plot the confusion matrix\n",
        "plt.imshow(conf_matrix, interpolation='nearest', cmap=plt.cm.Blues)\n",
        "plt.title('Confusion Matrix for the Training Set')\n",
        "plt.colorbar()\n",
        "tick_marks = np.arange(len(target_names))\n",
        "plt.xticks(tick_marks, target_names, rotation=45)\n",
        "plt.yticks(tick_marks, target_names)\n",
        "plt.xlabel('Predicted label')\n",
        "plt.ylabel('True label')\n",
        "\n",
        "# Fill in confusion matrix with values\n",
        "thresh = conf_matrix.max() / 2.\n",
        "for i, j in np.ndindex(conf_matrix.shape):\n",
        "    plt.text(j, i, format(conf_matrix[i, j], 'd'),\n",
        "             horizontalalignment='center',\n",
        "             color='white' if conf_matrix[i, j] > thresh else 'black')\n",
        "\n",
        "plt.tight_layout()\n",
        "plt.show()"
      ],
      "metadata": {
        "id": "-eqXYgxUa_TS",
        "outputId": "0a47950b-b882-4f76-f2ae-01964e41c170",
        "colab": {
          "base_uri": "https://localhost:8080/",
          "height": 487
        }
      },
      "execution_count": null,
      "outputs": [
        {
          "output_type": "display_data",
          "data": {
            "text/plain": [
              "<Figure size 640x480 with 2 Axes>"
            ],
            "image/png": "[encoded data removed]"
          },
          "metadata": {}
        }
      ]
    },
    {
      "cell_type": "markdown",
      "source": [
        "## Model Accuracy for training and test"
      ],
      "metadata": {
        "id": "cNiv9d0jmuZ4"
      }
    },
    {
      "cell_type": "code",
      "source": [
        "# Perform inference on the training set\n",
        "preds, _ = learn.get_preds(dl=dls.train)\n",
        "\n",
        "# Convert the predicted masks to a numpy array\n",
        "predicted_masks = preds.argmax(dim=1).numpy()\n",
        "\n",
        "# Get the ground truth masks for the training set\n",
        "true_masks = [y for _, y in dls.train]\n",
        "\n",
        "# Convert the list of masks to a numpy array\n",
        "true_masks = torch.cat(true_masks).numpy()\n",
        "\n",
        "# Flatten the masks to be 1D arrays\n",
        "true_masks_flat = true_masks.ravel()\n",
        "predicted_masks_flat = predicted_masks.ravel()\n",
        "\n",
        "# Calculate the total number of pixels\n",
        "total_pixels = len(true_masks_flat)\n",
        "\n",
        "# Calculate the number of correctly predicted pixels (True Positives + True Negatives)\n",
        "correct_pixels = np.sum(true_masks_flat == predicted_masks_flat)\n",
        "\n",
        "# Calculate the model accuracy\n",
        "accuracy = correct_pixels / total_pixels\n",
        "\n",
        "print(\"Model Accuracy for the Training Set: {:.2f}%\".format(accuracy * 100))\n"
      ],
      "metadata": {
        "id": "I_sDsReAmaPI",
        "outputId": "d94477a8-0c1d-4bbb-ea99-0d970ff06738",
        "colab": {
          "base_uri": "https://localhost:8080/",
          "height": 34
        }
      },
      "execution_count": null,
      "outputs": [
        {
          "output_type": "display_data",
          "data": {
            "text/plain": [
              "<IPython.core.display.HTML object>"
            ],
            "text/html": [
              "\n",
              "<style>\n",
              "    /* Turns off some styling */\n",
              "    progress {\n",
              "        /* gets rid of default border in Firefox and Opera. */\n",
              "        border: none;\n",
              "        /* Needs to be in here for Safari polyfill so background images work as expected. */\n",
              "        background-size: auto;\n",
              "    }\n",
              "    progress:not([value]), progress:not([value])::-webkit-progress-bar {\n",
              "        background: repeating-linear-gradient(45deg, #7e7e7e, #7e7e7e 10px, #5c5c5c 10px, #5c5c5c 20px);\n",
              "    }\n",
              "    .progress-bar-interrupted, .progress-bar-interrupted::-webkit-progress-bar {\n",
              "        background: #F44336;\n",
              "    }\n",
              "</style>\n"
            ]
          },
          "metadata": {}
        },
        {
          "output_type": "display_data",
          "data": {
            "text/plain": [
              "<IPython.core.display.HTML object>"
            ],
            "text/html": []
          },
          "metadata": {}
        },
        {
          "output_type": "stream",
          "name": "stdout",
          "text": [
            "Model Accuracy for the Training Set: 74.55%\n"
          ]
        }
      ]
    },
    {
      "cell_type": "code",
      "source": [
        "# Perform inference on the test set\n",
        "preds, _ = learn.get_preds(dl=dls.valid)\n",
        "\n",
        "# Convert the predicted masks to a numpy array\n",
        "predicted_masks = preds.argmax(dim=1).numpy()\n",
        "\n",
        "# Get the ground truth masks for the test set\n",
        "true_masks = [y for _, y in dls.valid]\n",
        "\n",
        "# Convert the list of masks to a numpy array\n",
        "true_masks = torch.cat(true_masks).numpy()\n",
        "\n",
        "# Flatten the masks to be 1D arrays\n",
        "true_masks_flat = true_masks.ravel()\n",
        "predicted_masks_flat = predicted_masks.ravel()\n",
        "\n",
        "# Calculate the total number of pixels\n",
        "total_pixels = len(true_masks_flat)\n",
        "\n",
        "# Calculate the number of correctly predicted pixels (True Positives + True Negatives)\n",
        "correct_pixels = np.sum(true_masks_flat == predicted_masks_flat)\n",
        "\n",
        "# Calculate the model accuracy\n",
        "accuracy = correct_pixels / total_pixels\n",
        "\n",
        "print(\"Model Accuracy for the Test Set: {:.2f}%\".format(accuracy * 100))\n"
      ],
      "metadata": {
        "id": "koJIcOk1mnMI",
        "outputId": "168778bc-80f4-4451-fcc5-3b1b59339fb1",
        "colab": {
          "base_uri": "https://localhost:8080/",
          "height": 34
        }
      },
      "execution_count": null,
      "outputs": [
        {
          "output_type": "display_data",
          "data": {
            "text/plain": [
              "<IPython.core.display.HTML object>"
            ],
            "text/html": [
              "\n",
              "<style>\n",
              "    /* Turns off some styling */\n",
              "    progress {\n",
              "        /* gets rid of default border in Firefox and Opera. */\n",
              "        border: none;\n",
              "        /* Needs to be in here for Safari polyfill so background images work as expected. */\n",
              "        background-size: auto;\n",
              "    }\n",
              "    progress:not([value]), progress:not([value])::-webkit-progress-bar {\n",
              "        background: repeating-linear-gradient(45deg, #7e7e7e, #7e7e7e 10px, #5c5c5c 10px, #5c5c5c 20px);\n",
              "    }\n",
              "    .progress-bar-interrupted, .progress-bar-interrupted::-webkit-progress-bar {\n",
              "        background: #F44336;\n",
              "    }\n",
              "</style>\n"
            ]
          },
          "metadata": {}
        },
        {
          "output_type": "display_data",
          "data": {
            "text/plain": [
              "<IPython.core.display.HTML object>"
            ],
            "text/html": []
          },
          "metadata": {}
        },
        {
          "output_type": "stream",
          "name": "stdout",
          "text": [
            "Model Accuracy for the Test Set: 90.86%\n"
          ]
        }
      ]
    },
    {
      "cell_type": "code",
      "source": [
        "# Calculate and print the classification report\n",
        "target_names = ['not greenhouse', 'greenhouse']\n",
        "report = classification_report(true_masks_flat, predicted_masks_flat, target_names=target_names)\n",
        "print(\"\\nClassification Report for the Training Set:\")\n",
        "print(report)"
      ],
      "metadata": {
        "id": "wIYyM6cmaNlt",
        "outputId": "c415549b-4394-4212-b7fe-fae93138c739",
        "colab": {
          "base_uri": "https://localhost:8080/"
        }
      },
      "execution_count": null,
      "outputs": [
        {
          "output_type": "stream",
          "name": "stdout",
          "text": [
            "\n",
            "Classification Report for the Training Set:\n",
            "                precision    recall  f1-score   support\n",
            "\n",
            "not greenhouse       0.95      0.95      0.95     96779\n",
            "    greenhouse       0.46      0.48      0.47      9013\n",
            "\n",
            "      accuracy                           0.91    105792\n",
            "     macro avg       0.71      0.71      0.71    105792\n",
            "  weighted avg       0.91      0.91      0.91    105792\n",
            "\n"
          ]
        }
      ]
    },
    {
      "cell_type": "markdown",
      "metadata": {
        "id": "5WXHa2BtTf9T"
      },
      "source": [
        "Show Classification Report - Precision, Recall and F1-score"
      ]
    },
    {
      "cell_type": "code",
      "execution_count": null,
      "metadata": {
        "colab": {
          "base_uri": "https://localhost:8080/"
        },
        "id": "KYr_yNK51TFA",
        "outputId": "a5cf5f4c-af46-466f-ba92-6b64ac9d7079"
      },
      "outputs": [
        {
          "name": "stdout",
          "output_type": "stream",
          "text": [
            "AUC: 0.8142366306456084\n"
          ]
        }
      ],
      "source": [
        "# Compute the AUC score\n",
        "auc_score = roc_auc_score(true_labels, pred_labels)\n",
        "print(\"AUC:\", auc_score)\n"
      ]
    }
  ],
  "metadata": {
    "colab": {
      "provenance": [],
      "include_colab_link": true
    },
    "kernelspec": {
      "display_name": "Python 3",
      "name": "python3"
    },
    "language_info": {
      "name": "python"
    }
  },
  "nbformat": 4,
  "nbformat_minor": 0
}