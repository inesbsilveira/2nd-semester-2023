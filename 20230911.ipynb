{
  "nbformat": 4,
  "nbformat_minor": 0,
  "metadata": {
    "colab": {
      "provenance": [],
      "authorship_tag": "ABX9TyPbzVb8v1D91s8tLdP1IP2Z",
      "include_colab_link": true
    },
    "kernelspec": {
      "name": "python3",
      "display_name": "Python 3"
    },
    "language_info": {
      "name": "python"
    }
  },
  "cells": [
    {
      "cell_type": "markdown",
      "metadata": {
        "id": "view-in-github",
        "colab_type": "text"
      },
      "source": [
        "<a href=\"https://colab.research.google.com/github/inesbsilveira/2nd-semester-2023/blob/main/20230911.ipynb\" target=\"_parent\"><img src=\"https://colab.research.google.com/assets/colab-badge.svg\" alt=\"Open In Colab\"/></a>"
      ]
    },
    {
      "cell_type": "code",
      "source": [
        "!pip install rasterio\n",
        "\n",
        "import rasterio\n",
        "from rasterio.windows import Window\n",
        "import os\n",
        "import shutil\n",
        "import numpy as np\n",
        "from PIL import Image\n",
        "\n",
        "from fastai.vision.all import *\n",
        "from sklearn.metrics import confusion_matrix\n",
        "\n",
        "from sklearn.metrics import classification_report\n",
        "from sklearn.metrics import roc_auc_score"
      ],
      "metadata": {
        "colab": {
          "base_uri": "https://localhost:8080/"
        },
        "id": "DOcNQUzsEFwq",
        "outputId": "e144bb89-a0ef-42a6-f1e3-f268ba8cf2fb"
      },
      "execution_count": 5,
      "outputs": [
        {
          "output_type": "stream",
          "name": "stdout",
          "text": [
            "Requirement already satisfied: rasterio in /usr/local/lib/python3.10/dist-packages (1.3.8)\n",
            "Requirement already satisfied: affine in /usr/local/lib/python3.10/dist-packages (from rasterio) (2.4.0)\n",
            "Requirement already satisfied: attrs in /usr/local/lib/python3.10/dist-packages (from rasterio) (23.1.0)\n",
            "Requirement already satisfied: certifi in /usr/local/lib/python3.10/dist-packages (from rasterio) (2023.7.22)\n",
            "Requirement already satisfied: click>=4.0 in /usr/local/lib/python3.10/dist-packages (from rasterio) (8.1.7)\n",
            "Requirement already satisfied: cligj>=0.5 in /usr/local/lib/python3.10/dist-packages (from rasterio) (0.7.2)\n",
            "Requirement already satisfied: numpy>=1.18 in /usr/local/lib/python3.10/dist-packages (from rasterio) (1.23.5)\n",
            "Requirement already satisfied: snuggs>=1.4.1 in /usr/local/lib/python3.10/dist-packages (from rasterio) (1.4.7)\n",
            "Requirement already satisfied: click-plugins in /usr/local/lib/python3.10/dist-packages (from rasterio) (1.1.1)\n",
            "Requirement already satisfied: setuptools in /usr/local/lib/python3.10/dist-packages (from rasterio) (67.7.2)\n",
            "Requirement already satisfied: pyparsing>=2.1.6 in /usr/local/lib/python3.10/dist-packages (from snuggs>=1.4.1->rasterio) (3.1.1)\n"
          ]
        }
      ]
    },
    {
      "cell_type": "code",
      "source": [
        "from google.colab import drive\n",
        "drive.mount('/content/drive')"
      ],
      "metadata": {
        "colab": {
          "base_uri": "https://localhost:8080/"
        },
        "id": "n5DIbWKuDiiO",
        "outputId": "408c6cad-13a6-4a43-e8fd-26bf62458372"
      },
      "execution_count": 3,
      "outputs": [
        {
          "output_type": "stream",
          "name": "stdout",
          "text": [
            "Mounted at /content/drive\n"
          ]
        }
      ]
    },
    {
      "cell_type": "markdown",
      "source": [
        "Constants and Parameters"
      ],
      "metadata": {
        "id": "VFba3tsUG1x0"
      }
    },
    {
      "cell_type": "code",
      "source": [
        "user='I' # escolher 'M' ou 'I'\n",
        "N_epochs=20\n",
        "target_names = ['not greenhouse', 'greenhouse']\n",
        "Nrows,Ncols = 20, 8 # número de blocos a usar 20*8=160"
      ],
      "metadata": {
        "id": "qfSdTQ8WEKbO"
      },
      "execution_count": 6,
      "outputs": []
    },
    {
      "cell_type": "markdown",
      "source": [
        "Paths and folders"
      ],
      "metadata": {
        "id": "B7gkiSJXG8Bf"
      }
    },
    {
      "cell_type": "code",
      "source": [
        "# Specify the directory path\n",
        "if user == 'M':\n",
        "    path = '/content/drive/MyDrive/inv_proj/S2change_DGT/Estufas_Alentejo'\n",
        "else:\n",
        "    path = '/content/drive/MyDrive/AAA/'\n",
        "\n",
        "# Function to create a folder if it doesn't exist\n",
        "def create_folder(folder_path):\n",
        "    if os.path.exists(folder_path):\n",
        "        shutil.rmtree(folder_path)  # Delete the folder and its contents\n",
        "    os.makedirs(folder_path)  # Create the folder\n",
        "\n",
        "# Create \"labels\" folder\n",
        "folder_name = \"labels\"\n",
        "folder_path = os.path.join(path, folder_name)\n",
        "create_folder(folder_path)\n",
        "\n",
        "# Create \"images\" folder\n",
        "folder_name = \"images\"\n",
        "folder_path = os.path.join(path, folder_name)\n",
        "create_folder(folder_path)\n",
        "\n",
        "# Create \"predicted\" folder\n",
        "folder_name = \"predicted\"\n",
        "folder_path = os.path.join(path, folder_name)\n",
        "create_folder(folder_path)"
      ],
      "metadata": {
        "id": "vF3CmOQqGblf"
      },
      "execution_count": 7,
      "outputs": []
    },
    {
      "cell_type": "markdown",
      "source": [
        "Functions"
      ],
      "metadata": {
        "id": "TlWmrMogHAlB"
      }
    },
    {
      "cell_type": "code",
      "source": [
        "def clip_raster_to_subrasters(path, Nrows, Ncols):\n",
        "    with rasterio.open(path / 'mask_3763_reclass.tif') as src:\n",
        "        height = src.height // Nrows\n",
        "        width = src.width // Ncols\n",
        "\n",
        "        for i in range(Nrows):\n",
        "            for j in range(Ncols):\n",
        "                ymin = i * height\n",
        "                ymax = (i + 1) * height\n",
        "                xmin = j * width\n",
        "                xmax = (j + 1) * width\n",
        "                window = Window.from_slices((ymin, ymax), (xmin, xmax))\n",
        "\n",
        "                clipped_data = src.read(window=window)\n",
        "                clipped_meta = src.meta.copy()\n",
        "                clipped_meta.update({\n",
        "                    'height': window.height,\n",
        "                    'width': window.width,\n",
        "                    'transform': src.window_transform(window)\n",
        "                })\n",
        "\n",
        "                output_file = path / 'labels' / f'image_{i}_{j}_mask.png'\n",
        "                with rasterio.open(output_file, 'w', **clipped_meta) as dst:\n",
        "                    dst.write(clipped_data)\n",
        "\n",
        "def rescale_to_8bits(arr):\n",
        "    arr_std = (arr - np.min(arr)) / (np.max(arr) - np.min(arr)) * 255\n",
        "    arr_std = arr_std.astype(np.uint8)\n",
        "    return arr_std"
      ],
      "metadata": {
        "id": "UcRQURFaEShL"
      },
      "execution_count": 8,
      "outputs": []
    },
    {
      "cell_type": "code",
      "source": [
        "def create_image_dataset(path, Nrows, Ncols):\n",
        "    with rasterio.open(path / '3bands_clipped_tif.tif') as src:\n",
        "        height = src.height // Nrows\n",
        "        width = src.width // Ncols\n",
        "\n",
        "        for i in range(Nrows):\n",
        "            for j in range(Ncols):\n",
        "                ymin = i * height\n",
        "                ymax = (i + 1) * height\n",
        "                xmin = j * width\n",
        "                xmax = (j + 1) * width\n",
        "                window = Window.from_slices((ymin, ymax), (xmin, xmax))\n",
        "\n",
        "                clipped_data_1 = rescale_to_8bits(src.read(1, window=window))\n",
        "                clipped_data_2 = rescale_to_8bits(src.read(2, window=window))\n",
        "                clipped_data_3 = rescale_to_8bits(src.read(3, window=window))\n",
        "\n",
        "                rgb_image = np.stack([clipped_data_1, clipped_data_2, clipped_data_3], axis=2)\n",
        "                image = Image.fromarray(rgb_image, mode='RGB')\n",
        "\n",
        "                output_file = path / 'images' / f'image_{i}_{j}.png'\n",
        "                image.save(output_file)"
      ],
      "metadata": {
        "id": "MX5pVegTEVEB"
      },
      "execution_count": 9,
      "outputs": []
    },
    {
      "cell_type": "markdown",
      "source": [
        "DataBlock and Dataloaders"
      ],
      "metadata": {
        "id": "BpRfa8PuLUZj"
      }
    },
    {
      "cell_type": "code",
      "source": [
        "def create_datablock_and_dataloaders(path):\n",
        "    def get_items(path):\n",
        "        image_files = get_image_files(path / 'images')\n",
        "        return image_files\n",
        "\n",
        "    def get_mask_fn(image_file):\n",
        "        return path / 'labels' / f'{image_file.stem}_mask.png'\n",
        "\n",
        "    items = get_items(path)\n",
        "\n",
        "    dblock = DataBlock(blocks=(ImageBlock, MaskBlock(target_names)),\n",
        "                       get_items=get_items,\n",
        "                       get_y=get_mask_fn,\n",
        "                       splitter=RandomSplitter(valid_pct=0.2, seed=42))\n",
        "\n",
        "    dls = dblock.dataloaders(path, bs=8)\n",
        "    return dls"
      ],
      "metadata": {
        "id": "6216gxsdEdjs"
      },
      "execution_count": 10,
      "outputs": []
    },
    {
      "cell_type": "code",
      "source": [
        "def train_model(dls, N_epochs):\n",
        "    learn = unet_learner(dls, resnet34)\n",
        "    learn.fine_tune(N_epochs)\n",
        "    return learn"
      ],
      "metadata": {
        "id": "ZCQZ0TCYEdWT"
      },
      "execution_count": 11,
      "outputs": []
    },
    {
      "cell_type": "code",
      "source": [
        "def perform_inference(learn, path):\n",
        "    test_dl = dls.test_dl(get_image_files(path / 'images'))\n",
        "    preds = learn.get_preds(dl=test_dl)\n",
        "    return preds"
      ],
      "metadata": {
        "id": "zbxpwO4DEhkC"
      },
      "execution_count": 12,
      "outputs": []
    },
    {
      "cell_type": "code",
      "source": [
        "def save_predicted_masks(preds, path):\n",
        "    for idx, pred in enumerate(preds[0]):\n",
        "        sample_image_path = list(test_dl.items)[idx]\n",
        "        row, column = get_row_column_from_filename(sample_image_path)\n",
        "\n",
        "        row_folder = path / 'predicted' / f'row_{row}'\n",
        "        os.makedirs(row_folder, exist_ok=True)\n",
        "\n",
        "        mask_filename = f'image_{row}_{column}_pred.png'\n",
        "        mask_filepath = row_folder / mask_filename\n",
        "\n",
        "        sample_pred = pred.argmax(dim=0).numpy()\n",
        "        mask_image = Image.fromarray((sample_pred * 255).astype(np.uint8))\n",
        "        mask_image.save(mask_filepath)"
      ],
      "metadata": {
        "id": "viRHbjLlEjfy"
      },
      "execution_count": 13,
      "outputs": []
    },
    {
      "cell_type": "code",
      "source": [
        "def get_row_column_from_filename(filename):\n",
        "    filename = os.path.basename(filename)\n",
        "    parts = filename.split('_')\n",
        "    row = int(parts[1])\n",
        "    column = int(parts[2].split('.')[0])\n",
        "    return row, column"
      ],
      "metadata": {
        "id": "VQJUPe1TFNJ6"
      },
      "execution_count": 14,
      "outputs": []
    },
    {
      "cell_type": "code",
      "source": [
        "def merge_predicted_masks(path, Nrows, Ncols):\n",
        "    rows, columns = Nrows, Ncols\n",
        "    with rasterio.open(path / 'mask_3763_reclass.tif') as src:\n",
        "        height = src.height // rows\n",
        "        width = src.width // columns\n",
        "        merged_width = width * columns\n",
        "        merged_height = height * rows\n",
        "        merged_image = Image.new('RGB', (merged_width, merged_height))\n",
        "\n",
        "        for i in range(rows):\n",
        "            for j in range(columns):\n",
        "                mask_file = path / 'predicted' / f'row_{i}' / f'image_{i}_{j}_pred.png'\n",
        "                mask_image = Image.open(mask_file)\n",
        "\n",
        "                x_offset = j * width\n",
        "                y_offset = i * height\n",
        "\n",
        "                merged_image.paste(mask_image, (x_offset, y_offset))\n",
        "\n",
        "        merged_output_file = path / 'predicted' / 'merged_predicted_masks_20.png'\n",
        "        merged_image.save(merged_output_file)\n"
      ],
      "metadata": {
        "id": "WLnRTxH7FN2D"
      },
      "execution_count": 15,
      "outputs": []
    },
    {
      "cell_type": "code",
      "source": [
        "def main (user, N_epochs, Nrows, Ncols):\n",
        "  clip_raster_to_subrasters(path)"
      ],
      "metadata": {
        "id": "NaaMpqHOJJja"
      },
      "execution_count": null,
      "outputs": []
    }
  ]
}