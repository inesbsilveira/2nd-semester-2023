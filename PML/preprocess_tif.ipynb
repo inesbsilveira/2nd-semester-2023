{
 "cells": [
  {
   "cell_type": "code",
   "execution_count": 3,
   "metadata": {},
   "outputs": [],
   "source": [
    "import tifffile\n",
    "\n",
    "# Load the TIF file\n",
    "mask_path = \"mask.tif\"\n",
    "mask = tifffile.imread(mask_path)\n",
    "\n",
    "# Perform basic validation\n",
    "if mask is None:\n",
    "    print(\"Failed to load the mask file.\")\n",
    "    # Handle the error accordingly\n",
    "\n",
    "height, width = mask.shape\n",
    "expected_width = 461\n",
    "expected_height = 1174\n",
    "expected_dtype = mask.dtype\n",
    "\n",
    "if width != expected_width or height != expected_height:\n",
    "    print(f\"The mask dimensions are not as expected. Expected ({expected_width}, {expected_height}), but got ({width}, {height}).\")\n",
    "    # Handle the error accordingly\n",
    "\n",
    "if mask.dtype != expected_dtype:\n",
    "    print(f\"The mask data type is not as expected. Expected {expected_dtype}, but got {mask.dtype}.\")\n",
    "    # Handle the error accordingly\n",
    "\n",
    "# At this point, the mask has been loaded"
   ]
  },
  {
   "cell_type": "code",
   "execution_count": 9,
   "metadata": {},
   "outputs": [
    {
     "name": "stdout",
     "output_type": "stream",
     "text": [
      "Masked image is None. Please check the mask or image paths.\n"
     ]
    }
   ],
   "source": [
    "import cv2\n",
    "import numpy as np\n",
    "from skimage import segmentation\n",
    "\n",
    "# Step 2: Load the mask\n",
    "mask_path = r\"C:\\Users\\Utilizador\\OneDrive\\Ambiente de Trabalho\\GreenDS\\2nd-semester-2023\\PML\\mask.tif\"\n",
    "mask = cv2.imread(mask_path, cv2.IMREAD_GRAYSCALE)\n",
    "\n",
    "# Step 3: Load the image to segment\n",
    "image_path = \"3bands_clipped_tif.tif\"  # Replace with your image path\n",
    "image = cv2.imread(image_path)\n",
    "\n",
    "# Step 4: Apply the mask\n",
    "masked_image = cv2.bitwise_and(image, image, mask=mask)\n",
    "\n",
    "# Step 5: Perform image segmentation\n",
    "if masked_image is not None:\n",
    "    # Convert the masked image to floating-point format\n",
    "    masked_image = masked_image.astype(np.float32) / 255.0\n",
    "\n",
    "    segments = segmentation.felzenszwalb(masked_image, scale=100, sigma=0.5, min_size=200)\n",
    "\n",
    "    # Step 6: Post-process the segmentation result (if necessary)\n",
    "    # Example: Applying color map to the segmented regions\n",
    "    segmented_image = np.zeros_like(image)\n",
    "    for label in np.unique(segments):\n",
    "        segmented_image[segments == label] = np.random.randint(0, 255, size=3)\n",
    "\n",
    "    # Step 7: Analyze or utilize the segmentation result\n",
    "    # Example: Display the original image and segmented regions side by side\n",
    "    result = np.hstack((image, segmented_image))\n",
    "    cv2.imshow(\"Image and Segmentation Result\", result)\n",
    "    cv2.waitKey(0)\n",
    "    cv2.destroyAllWindows()\n",
    "else:\n",
    "    print(\"Masked image is None. Please check the mask or image paths.\")\n",
    "\n"
   ]
  }
 ],
 "metadata": {
  "kernelspec": {
   "display_name": "Python 3",
   "language": "python",
   "name": "python3"
  },
  "language_info": {
   "codemirror_mode": {
    "name": "ipython",
    "version": 3
   },
   "file_extension": ".py",
   "mimetype": "text/x-python",
   "name": "python",
   "nbconvert_exporter": "python",
   "pygments_lexer": "ipython3",
   "version": "3.11.2"
  },
  "orig_nbformat": 4
 },
 "nbformat": 4,
 "nbformat_minor": 2
}
