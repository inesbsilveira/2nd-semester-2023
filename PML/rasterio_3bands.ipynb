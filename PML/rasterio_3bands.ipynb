{
 "cells": [
  {
   "cell_type": "code",
   "execution_count": 6,
   "metadata": {},
   "outputs": [],
   "source": [
    "import numpy as np\n",
    "from PIL import Image\n",
    "import rasterio\n",
    "from rasterio.windows import Window\n",
    "import os"
   ]
  },
  {
   "cell_type": "code",
   "execution_count": 8,
   "metadata": {},
   "outputs": [],
   "source": [
    "# converts to 8 bits AFTER re-scaling bands\n",
    "def s255(arr):\n",
    "    arr_std = (arr - np.min(arr)) / (np.max(arr) - np.min(arr)) * 255\n",
    "    # Convert the standardized array to integer values\n",
    "    arr_std = arr_std.astype(np.uint8)\n",
    "    return arr_std\n",
    "\n",
    "\n",
    "# Create a folder named \"images\" if it doesn't exist\n",
    "folder_name = \"images\"\n",
    "if not os.path.exists(folder_name):\n",
    "    os.makedirs(folder_name)\n",
    "\n",
    "# Multi bandas\n",
    "# Open the input raster file\n",
    "with rasterio.open(r'3bands_clipped_tif.tif') as src:\n",
    "\n",
    "    # Calculate the height and width of the sub-rasters\n",
    "    nHeight=20\n",
    "    nWidth=8\n",
    "    height = src.height // nHeight  # Divide the raster into 58 rows\n",
    "    width = src.width // nWidth  # Divide the raster into 23 columns\n",
    "\n",
    "    # Loop through each sub-raster and clip the data\n",
    "    for i in range(nHeight):\n",
    "        for j in range(nWidth):\n",
    "            # Define the window to clip the sub-raster\n",
    "            ymin = i * height\n",
    "            ymax = (i + 1) * height\n",
    "            xmin = j * width\n",
    "            xmax = (j + 1) * width\n",
    "            #print(ymin, ymax,xmin, xmax)\n",
    "            window = Window.from_slices((ymin, ymax), (xmin, xmax))\n",
    "\n",
    "            # Read the data within the window\n",
    "            clipped_data_1 = s255(src.read(1, window=window))\n",
    "            clipped_data_2 = s255(src.read(2, window=window))\n",
    "            clipped_data_3 = s255(src.read(3, window=window))\n",
    "            #clipped_data = src.read().astype(np.uint8)\n",
    "            #print(clipped_data_1.shape)\n",
    "            #print('clipped_data.shape', clipped_data.shape)\n",
    "            # Stack the bands to create an RGB image array\n",
    "            rgb_image = np.stack([clipped_data_1, clipped_data_2, clipped_data_3], axis=2)\n",
    "            #rgb_image = np.stack([clipped_data_2, clipped_data_2, clipped_data_2], axis=2)\n",
    "            #print('rgb_image.shape', rgb_image.shape)\n",
    "            #rgb_image = clipped_data\n",
    "            #print(rgb_image)\n",
    "\n",
    "            # Convert the image array to a PIL Image\n",
    "            image = Image.fromarray(rgb_image,mode='RGB')\n",
    "\n",
    "            # Save the PIL Image as a PNG file\n",
    "            #output_file = f'image_{i}_{j}.png'\n",
    "            #image.save(output_file) \n",
    "            output_file = os.path.join(folder_name, f'image_{i}_{j}.png')\n",
    "            image.save(output_file)"
   ]
  }
 ],
 "metadata": {
  "kernelspec": {
   "display_name": "Python 3",
   "language": "python",
   "name": "python3"
  },
  "language_info": {
   "codemirror_mode": {
    "name": "ipython",
    "version": 3
   },
   "file_extension": ".py",
   "mimetype": "text/x-python",
   "name": "python",
   "nbconvert_exporter": "python",
   "pygments_lexer": "ipython3",
   "version": "3.11.2"
  },
  "orig_nbformat": 4
 },
 "nbformat": 4,
 "nbformat_minor": 2
}
