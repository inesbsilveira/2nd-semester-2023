{
 "cells": [
  {
   "cell_type": "code",
   "execution_count": 1,
   "metadata": {},
   "outputs": [],
   "source": [
    "import os\n",
    "\n",
    "def write_png_file_names(directories, output_file):\n",
    "    with open(output_file, 'w') as file:\n",
    "        for directory in directories:\n",
    "            for filename in os.listdir(directory):\n",
    "                if filename.endswith('.png'):\n",
    "                    file.write(filename + '\\n')\n",
    "\n",
    "# Specify the directory paths where your PNG files are located\n",
    "directory_paths = [\n",
    "    r'C:\\Users\\Utilizador\\OneDrive\\Ambiente de Trabalho\\GreenDS\\2nd-semester-2023\\PML\\images',\n",
    "    r'C:\\Users\\Utilizador\\OneDrive\\Ambiente de Trabalho\\GreenDS\\2nd-semester-2023\\PML\\labels1'\n",
    "]\n",
    "\n",
    "# Specify the output text file path\n",
    "output_file_path = r'C:\\Users\\Utilizador\\OneDrive\\Ambiente de Trabalho\\GreenDS\\2nd-semester-2023\\PML\\valid1.txt'\n",
    "\n",
    "write_png_file_names(directory_paths, output_file_path)"
   ]
  }
 ],
 "metadata": {
  "kernelspec": {
   "display_name": "Python 3",
   "language": "python",
   "name": "python3"
  },
  "language_info": {
   "codemirror_mode": {
    "name": "ipython",
    "version": 3
   },
   "file_extension": ".py",
   "mimetype": "text/x-python",
   "name": "python",
   "nbconvert_exporter": "python",
   "pygments_lexer": "ipython3",
   "version": "3.11.2"
  },
  "orig_nbformat": 4
 },
 "nbformat": 4,
 "nbformat_minor": 2
}
