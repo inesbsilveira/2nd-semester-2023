{
  "nbformat": 4,
  "nbformat_minor": 0,
  "metadata": {
    "colab": {
      "provenance": [],
      "authorship_tag": "ABX9TyNLMrsH2TOtM6iiJAXVw+6m",
      "include_colab_link": true
    },
    "kernelspec": {
      "name": "python3",
      "display_name": "Python 3"
    },
    "language_info": {
      "name": "python"
    }
  },
  "cells": [
    {
      "cell_type": "markdown",
      "metadata": {
        "id": "view-in-github",
        "colab_type": "text"
      },
      "source": [
        "<a href=\"https://colab.research.google.com/github/inesbsilveira/2nd-semester-2023/blob/main/20230919_IS_MC_image_segmentation.ipynb\" target=\"_parent\"><img src=\"https://colab.research.google.com/assets/colab-badge.svg\" alt=\"Open In Colab\"/></a>"
      ]
    },
    {
      "cell_type": "code",
      "execution_count": 1,
      "metadata": {
        "id": "OduyU9nw0P7o",
        "outputId": "03931e94-c5bb-4eb2-c4f8-0012237fa4d4",
        "colab": {
          "base_uri": "https://localhost:8080/"
        }
      },
      "outputs": [
        {
          "output_type": "stream",
          "name": "stdout",
          "text": [
            "Collecting rasterio\n",
            "  Downloading rasterio-1.3.8-cp310-cp310-manylinux_2_17_x86_64.manylinux2014_x86_64.whl (21.3 MB)\n",
            "\u001b[2K     \u001b[90m━━━━━━━━━━━━━━━━━━━━━━━━━━━━━━━━━━━━━━━━\u001b[0m \u001b[32m21.3/21.3 MB\u001b[0m \u001b[31m63.5 MB/s\u001b[0m eta \u001b[36m0:00:00\u001b[0m\n",
            "\u001b[?25hCollecting affine (from rasterio)\n",
            "  Downloading affine-2.4.0-py3-none-any.whl (15 kB)\n",
            "Requirement already satisfied: attrs in /usr/local/lib/python3.10/dist-packages (from rasterio) (23.1.0)\n",
            "Requirement already satisfied: certifi in /usr/local/lib/python3.10/dist-packages (from rasterio) (2023.7.22)\n",
            "Requirement already satisfied: click>=4.0 in /usr/local/lib/python3.10/dist-packages (from rasterio) (8.1.7)\n",
            "Requirement already satisfied: cligj>=0.5 in /usr/local/lib/python3.10/dist-packages (from rasterio) (0.7.2)\n",
            "Requirement already satisfied: numpy>=1.18 in /usr/local/lib/python3.10/dist-packages (from rasterio) (1.23.5)\n",
            "Collecting snuggs>=1.4.1 (from rasterio)\n",
            "  Downloading snuggs-1.4.7-py3-none-any.whl (5.4 kB)\n",
            "Requirement already satisfied: click-plugins in /usr/local/lib/python3.10/dist-packages (from rasterio) (1.1.1)\n",
            "Requirement already satisfied: setuptools in /usr/local/lib/python3.10/dist-packages (from rasterio) (67.7.2)\n",
            "Requirement already satisfied: pyparsing>=2.1.6 in /usr/local/lib/python3.10/dist-packages (from snuggs>=1.4.1->rasterio) (3.1.1)\n",
            "Installing collected packages: snuggs, affine, rasterio\n",
            "Successfully installed affine-2.4.0 rasterio-1.3.8 snuggs-1.4.7\n"
          ]
        }
      ],
      "source": [
        "!pip install rasterio"
      ]
    },
    {
      "cell_type": "code",
      "source": [
        "import rasterio\n",
        "from rasterio.windows import Window\n",
        "import os\n",
        "import shutil\n",
        "import numpy as np\n",
        "from PIL import Image\n",
        "from fastai.vision.all import *\n",
        "from sklearn.metrics import classification_report, roc_auc_score, precision_score, confusion_matrix, ConfusionMatrixDisplay\n",
        "from sklearn.model_selection import KFold\n",
        "import matplotlib.pyplot as plt"
      ],
      "metadata": {
        "id": "sakoF1ln0VTZ"
      },
      "execution_count": 2,
      "outputs": []
    },
    {
      "cell_type": "code",
      "source": [
        "from google.colab import drive\n",
        "drive.mount('/content/drive')"
      ],
      "metadata": {
        "colab": {
          "base_uri": "https://localhost:8080/"
        },
        "id": "0tUNND6M0YhP",
        "outputId": "833382df-db51-4c42-db57-c3d995b1e268"
      },
      "execution_count": 3,
      "outputs": [
        {
          "output_type": "stream",
          "name": "stdout",
          "text": [
            "Mounted at /content/drive\n"
          ]
        }
      ]
    },
    {
      "cell_type": "code",
      "source": [
        "user='I' # escolher 'M' ou 'I'\n",
        "N_epochs=13\n",
        "target_names = ['greenhouse', 'not greenhouse']\n",
        "Nrows,Ncols = 20, 8 # número de blocos a usar 20*8=160"
      ],
      "metadata": {
        "id": "o6ETvT3E2anV"
      },
      "execution_count": 4,
      "outputs": []
    },
    {
      "cell_type": "code",
      "source": [
        "# Specify the directory path\n",
        "if user=='M':\n",
        "  directory = '/content/drive/MyDrive/inv_proj/S2change_DGT/Estufas_Alentejo'\n",
        "else:\n",
        "  directory = '/content/drive/MyDrive/AAA/'\n",
        "\n",
        "path=Path(directory)\n",
        "image_folder_name = \"images\"\n",
        "label_folder_name = \"labels\"\n",
        "predicted_folder_name = \"predicted\"\n",
        "image_folder = os.path.join(directory, image_folder_name)\n",
        "label_folder = os.path.join(directory, label_folder_name)\n",
        "predicted_folder = os.path.join(directory, predicted_folder_name)"
      ],
      "metadata": {
        "id": "N8XRKFTv0eMr"
      },
      "execution_count": 5,
      "outputs": []
    },
    {
      "cell_type": "markdown",
      "source": [
        "Functions"
      ],
      "metadata": {
        "id": "uaj9hWTw03I9"
      }
    },
    {
      "cell_type": "code",
      "source": [
        "def clip_raster_and_rescale(input_file, output_folder, Nrows, Ncols):\n",
        "    with rasterio.open(input_file) as src:\n",
        "        height = src.height // Nrows\n",
        "        width = src.width // Ncols\n",
        "        Nbands = src.count  # Get the number of bands in the input file\n",
        "\n",
        "        for i in range(Nrows):\n",
        "            for j in range(Ncols):\n",
        "                ymin = i * height\n",
        "                ymax = (i + 1) * height\n",
        "                xmin = j * width\n",
        "                xmax = (j + 1) * width\n",
        "                window = Window.from_slices((ymin, ymax), (xmin, xmax))\n",
        "\n",
        "                if Nbands == 1:\n",
        "                    clipped_data = src.read(window=window)\n",
        "                    clipped_meta = src.meta.copy()\n",
        "                    clipped_meta.update({\n",
        "                        'height': window.height,\n",
        "                        'width': window.width,\n",
        "                        'transform': src.window_transform(window)\n",
        "                })\n",
        "                    output_file = os.path.join(output_folder, f'image_{i}_{j}_mask.png')\n",
        "                    with rasterio.open(output_file, 'w', **clipped_meta) as dst:\n",
        "                        dst.write(clipped_data)\n",
        "                elif Nbands == 3:\n",
        "                    clipped_data_1 = rescale_to_8bits(src.read(1, window=window))\n",
        "                    clipped_data_2 = rescale_to_8bits(src.read(2, window=window))\n",
        "                    clipped_data_3 = rescale_to_8bits(src.read(3, window=window))\n",
        "                    rgb_image = np.stack([clipped_data_1, clipped_data_2, clipped_data_3], axis=2)\n",
        "                    image = Image.fromarray(rgb_image, mode='RGB')\n",
        "                    output_file = os.path.join(output_folder, f'image_{i}_{j}.png')\n",
        "                    image.save(output_file)\n",
        "                else:\n",
        "                    raise ValueError(\"Input file must have 1 or 3 bands.\")\n",
        "\n",
        "        return height, width"
      ],
      "metadata": {
        "id": "be_Oxa60Y6Nh"
      },
      "execution_count": 16,
      "outputs": []
    },
    {
      "cell_type": "code",
      "source": [
        "def rescale_to_8bits(arr):\n",
        "    arr_std = (arr - np.min(arr)) / (np.max(arr) - np.min(arr)) * 255\n",
        "    arr_std = arr_std.astype(np.uint8)\n",
        "    return arr_std"
      ],
      "metadata": {
        "id": "mwjpUJst1hl0"
      },
      "execution_count": 7,
      "outputs": []
    },
    {
      "cell_type": "code",
      "source": [
        "# Define the function to extract the row and column number from the test image file name\n",
        "def get_row_column_from_filename(filename):\n",
        "    filename = os.path.basename(filename)\n",
        "    parts = filename.split('_')\n",
        "    row = int(parts[1])\n",
        "    column = int(parts[2].split('.')[0])\n",
        "    return row, column"
      ],
      "metadata": {
        "id": "vZl3fLcu4jCz"
      },
      "execution_count": 8,
      "outputs": []
    },
    {
      "cell_type": "code",
      "source": [
        "# Create DataBlock\n",
        "def get_items(image_folder):\n",
        "    image_files = get_image_files(image_folder)\n",
        "    return image_files\n",
        "\n",
        "def get_mask_fn(image_file):\n",
        "    #return mask_folder / f'{image_file.stem}_mask.png'\n",
        "    return os.path.join(label_folder, f'{image_file.stem}_mask.png')"
      ],
      "metadata": {
        "id": "8nGEV9Zo4mef"
      },
      "execution_count": 9,
      "outputs": []
    },
    {
      "cell_type": "code",
      "source": [
        "# Create predicted mask for each of the blocks\n",
        "# Save the predicted mask images (png) according to their row and column number\n",
        "def create_predited_mask(image_folder,learn,predicted_folder):\n",
        "  test_dl = dls.test_dl(get_image_files(image_folder)) # usa todas as 160 imagens em image_folder, treino e validação\n",
        "  preds = learn.get_preds(dl=test_dl)[0]\n",
        "  for idx, pred in enumerate(preds):\n",
        "      # Get the row and column number from the test image file name\n",
        "      sample_image_path = list(test_dl.items)[idx]\n",
        "      row, column = get_row_column_from_filename(sample_image_path)\n",
        "\n",
        "      # Create a folder for each row if it doesn't exist\n",
        "      row_folder = os.path.join(predicted_folder, f'row_{row}')\n",
        "      os.makedirs(row_folder, exist_ok=True)\n",
        "\n",
        "      # Create a filename for the predicted mask image\n",
        "      predicted_filename = f'image_{row}_{column}_predicted.png'\n",
        "      predicted_filepath = os.path.join(row_folder, predicted_filename)\n",
        "\n",
        "      # Convert the predicted mask to a PIL Image\n",
        "      sample_pred = pred.argmax(dim=0).numpy()\n",
        "      predicted_image = Image.fromarray((sample_pred * 255).astype(np.uint8))\n",
        "\n",
        "      # Save the predicted mask image\n",
        "      predicted_image.save(predicted_filepath)"
      ],
      "metadata": {
        "id": "qE88US3ycpEJ"
      },
      "execution_count": 10,
      "outputs": []
    },
    {
      "cell_type": "code",
      "source": [
        "# Merge all predicted mask images according to their row and column\n",
        "def merge_blocks (input_folder, output_filename, Nrows, Ncols, width, height):\n",
        "  rows, columns = Nrows,Ncols # 20, 8  # Number of rows and columns in the grid\n",
        "  merged_width = width * columns\n",
        "  merged_height = height * rows\n",
        "  merged_image = Image.new('RGB', (merged_width, merged_height))\n",
        "\n",
        "  # Loop through each row and column to merge the images\n",
        "  for i in range(rows):\n",
        "      for j in range(columns):\n",
        "         # Load the predicted mask image\n",
        "         predicted_file = os.path.join(input_folder, f'row_{i}', f'image_{i}_{j}_predicted.png')\n",
        "         predicted_image = Image.open(predicted_file)\n",
        "\n",
        "         # Define the position to paste the mask image in the merged image\n",
        "         x_offset = j * width\n",
        "         y_offset = i * height\n",
        "\n",
        "         # Paste the mask image in the merged image\n",
        "         merged_image.paste(predicted_image, (x_offset, y_offset))\n",
        "\n",
        "  # Save the merged image\n",
        "  merged_output_file = os.path.join(input_folder, output_filename)\n",
        "  merged_image.save(merged_output_file)"
      ],
      "metadata": {
        "id": "SfezUfst0892"
      },
      "execution_count": 37,
      "outputs": []
    },
    {
      "cell_type": "code",
      "source": [
        "# Calculate pixel-wise errors and store them in a dictionary\n",
        "\n",
        "def pixel_wise_errors (test_file_names, label_folder, predicted_folder, image_folder):\n",
        "  errors = {}\n",
        "  for file_name in test_file_names:\n",
        "      # Load the ground truth mask for the sample from the \"labels\" folder\n",
        "      row, column = get_row_column_from_filename(file_name)\n",
        "      mask_file = os.path.join(label_folder, f'image_{row}_{column}_mask.png')\n",
        "      true_mask = np.array(Image.open(mask_file))\n",
        "\n",
        "      # Load the predicted mask for the sample from the \"predicted\" folder\n",
        "      predicted_file = os.path.join(predicted_folder, f'row_{row}', f'image_{row}_{column}_predicted.png')\n",
        "      pred_mask = np.array(Image.open(predicted_file))\n",
        "\n",
        "      # Calculate the pixel-wise error between the true mask and predicted mask\n",
        "      error = np.sum(np.abs(true_mask - pred_mask))\n",
        "      errors[file_name] = error\n",
        "\n",
        "  # Sort the blocks by error in descending order\n",
        "  sorted_errors = {k: v for k, v in sorted(errors.items(), key=lambda item: item[1], reverse=True)}\n",
        "\n",
        "  # Get the file names of the blocks with the highest errors\n",
        "  top_5_blocks = list(sorted_errors.keys())[:5]\n",
        "\n",
        "  # Display the top 5 blocks with the highest errors\n",
        "  num_columns = 4\n",
        "\n",
        "  fig, axes = plt.subplots(len(top_5_blocks), num_columns, figsize=(20, 5 * len(top_5_blocks)))\n",
        "\n",
        "  for i, file_name in enumerate(top_5_blocks):\n",
        "      sample_image_path = os.path.join(image_folder, file_name)\n",
        "      sample_image = PILImage.create(sample_image_path)\n",
        "\n",
        "      # Load the ground truth mask for the sample from the \"labels1\" folder\n",
        "      row, column = get_row_column_from_filename(file_name)\n",
        "      mask_file = os.path.join(label_folder, f'image_{row}_{column}_mask.png')\n",
        "      true_mask = np.array(Image.open(mask_file))\n",
        "\n",
        "      # Load the predicted mask for the sample from the \"predicted\" folder\n",
        "      predicted_file = os.path.join(predicted_folder, f'row_{row}', f'image_{row}_{column}_predicted.png')\n",
        "      pred_mask = np.array(Image.open(predicted_file))\n",
        "\n",
        "      # Display the satellite aggregate image with file name as title\n",
        "      axes[i, 0].imshow(sample_image)\n",
        "      # Add the line below to set the title\n",
        "      axes[i, 0].set_title(str(file_name) + \" (Error: \" + str(errors[file_name]) + \")\")\n",
        "      #axes[i, 0].set_title(file_name + \" (Error: \" + str(errors[file_name]) + \")\")\n",
        "      axes[i, 0].axis('off')\n",
        "\n",
        "      # Display the true mask\n",
        "      axes[i, 1].imshow(true_mask, cmap='gray')\n",
        "      axes[i, 1].set_title('True Mask')\n",
        "      axes[i, 1].axis('off')\n",
        "\n",
        "      # Display the predicted mask\n",
        "      axes[i, 2].imshow(pred_mask, cmap='tab20')\n",
        "      axes[i, 2].set_title('Predicted Mask')\n",
        "      axes[i, 2].axis('off')\n",
        "\n",
        "      # Display the difference between true and predicted masks\n",
        "      difference_mask = true_mask - pred_mask\n",
        "      axes[i, 3].imshow(difference_mask, cmap='coolwarm', vmin=-1, vmax=1)\n",
        "      axes[i, 3].set_title('Difference')\n",
        "      axes[i, 3].axis('off')\n",
        "\n",
        "  plt.tight_layout()\n",
        "  plt.show()"
      ],
      "metadata": {
        "id": "nZ7OeLALFd3Z"
      },
      "execution_count": 41,
      "outputs": []
    },
    {
      "cell_type": "code",
      "source": [
        "def display_images(directory, image_folder, label_folder, predicted_folder, preds):\n",
        "    preds = learn.get_preds(dl=dls.valid)[0]\n",
        "    # Display sample predictions using file names of test_set\n",
        "    sample_files = [Path(file_path).name for file_path in test_file_names]\n",
        "\n",
        "    # Slice the sample_files list to include only the first 6 samples\n",
        "    sample_files = sample_files[:6]\n",
        "\n",
        "    # Define the number of columns (including both true and predicted masks)\n",
        "    num_columns = 3\n",
        "\n",
        "    fig, axes = plt.subplots(len(sample_files), num_columns, figsize=(15, 5 * len(sample_files)))\n",
        "\n",
        "    for i, file_name in enumerate(sample_files):\n",
        "        sample_image_path = os.path.join(image_folder, file_name)\n",
        "        sample_image = PILImage.create(sample_image_path)\n",
        "        sample_pred = preds[i].argmax(dim=0).numpy()\n",
        "\n",
        "        # Load the ground truth mask for the sample from the \"labels\" folder\n",
        "        row, column = get_row_column_from_filename(file_name)\n",
        "        mask_file = os.path.join(label_folder, f'image_{row}_{column}_mask.png')\n",
        "        true_mask = np.array(Image.open(mask_file))\n",
        "\n",
        "        # Load the predicted mask for the sample from the \"predicted\" folder\n",
        "        predicted_file = os.path.join(predicted_folder, f'row_{row}', f'image_{row}_{column}_predicted.png')\n",
        "        pred_mask = np.array(Image.open(predicted_file))\n",
        "\n",
        "        # image of satellite aggregate\n",
        "        axes[i, 0].imshow(sample_image)\n",
        "        axes[i, 0].set_title('Image')\n",
        "        axes[i, 0].axis('off')\n",
        "\n",
        "        # image of true mask\n",
        "        axes[i, 1].imshow(true_mask, cmap='gray')\n",
        "        axes[i, 1].set_title(file_name + \" True mask\")\n",
        "        axes[i, 1].axis('off')\n",
        "\n",
        "        # image of predicted mask\n",
        "        axes[i, 2].imshow(pred_mask, cmap='tab20')\n",
        "        axes[i, 2].set_title(file_name + \" Predicted mask\")\n",
        "        axes[i, 2].axis('off')\n",
        "\n",
        "    plt.tight_layout()\n",
        "    plt.show()\n"
      ],
      "metadata": {
        "id": "0oYnc5oM5wsP"
      },
      "execution_count": 66,
      "outputs": []
    },
    {
      "cell_type": "code",
      "source": [
        "def model_accuracy(true_masks_flat, predicted_masks_flat):\n",
        "    # Calculate the total number of pixels\n",
        "    total_pixels = len(true_masks_flat)\n",
        "\n",
        "    # Calculate the number of correctly predicted pixels (True Positives + True Negatives)\n",
        "    correct_pixels = np.sum(true_masks_flat == predicted_masks_flat)\n",
        "\n",
        "    # Calculate the model accuracy\n",
        "    accuracy = correct_pixels / total_pixels\n",
        "\n",
        "    return accuracy"
      ],
      "metadata": {
        "id": "wfNAskwSLdP-"
      },
      "execution_count": 81,
      "outputs": []
    },
    {
      "cell_type": "markdown",
      "source": [
        "Main Execution"
      ],
      "metadata": {
        "id": "-mtbNEyy13EK"
      }
    },
    {
      "cell_type": "code",
      "source": [
        "# Clip and rescale label images\n",
        "clip_raster_and_rescale(os.path.join(directory, 'mask_3763_reclass.tif'), label_folder, Nrows, Ncols)\n",
        "\n",
        "# Clip and rescale image bands\n",
        "height, width = clip_raster_and_rescale(os.path.join(directory, '3bands_clipped_tif.tif'), image_folder, Nrows, Ncols)\n"
      ],
      "metadata": {
        "id": "bbh6Po2i11FR"
      },
      "execution_count": 17,
      "outputs": []
    },
    {
      "cell_type": "code",
      "source": [
        "# Create DataBlock\n",
        "items = get_items(image_folder)\n",
        "dblock = DataBlock(blocks=(ImageBlock, MaskBlock(target_names)),\n",
        "                   get_items=get_items,\n",
        "                   get_y=get_mask_fn,\n",
        "                   splitter=RandomSplitter(valid_pct=0.2, seed=42))\n",
        "\n",
        "# Create DataLoaders\n",
        "dls = dblock.dataloaders(image_folder, bs=8)"
      ],
      "metadata": {
        "id": "Xh01DHoP151G"
      },
      "execution_count": 18,
      "outputs": []
    },
    {
      "cell_type": "code",
      "source": [
        "# Extract file names of the training dataset\n",
        "train_file_names = dls.train_ds.items\n",
        "print(train_file_names)\n",
        "# Extract file names of the test dataset\n",
        "test_file_names = dls.valid_ds.items\n",
        "print(test_file_names)"
      ],
      "metadata": {
        "id": "lr-63mj-wGN7",
        "outputId": "d4444293-f2cf-4810-995e-32f5efe8aa8f",
        "colab": {
          "base_uri": "https://localhost:8080/"
        }
      },
      "execution_count": 22,
      "outputs": [
        {
          "output_type": "stream",
          "name": "stdout",
          "text": [
            "[Path('/content/drive/MyDrive/AAA/images/image_4_2.png'), Path('/content/drive/MyDrive/AAA/images/image_17_5.png'), Path('/content/drive/MyDrive/AAA/images/image_6_0.png'), Path('/content/drive/MyDrive/AAA/images/image_12_5.png'), Path('/content/drive/MyDrive/AAA/images/image_14_5.png'), Path('/content/drive/MyDrive/AAA/images/image_8_5.png'), Path('/content/drive/MyDrive/AAA/images/image_12_4.png'), Path('/content/drive/MyDrive/AAA/images/image_18_0.png'), Path('/content/drive/MyDrive/AAA/images/image_18_7.png'), Path('/content/drive/MyDrive/AAA/images/image_11_5.png'), Path('/content/drive/MyDrive/AAA/images/image_3_3.png'), Path('/content/drive/MyDrive/AAA/images/image_6_4.png'), Path('/content/drive/MyDrive/AAA/images/image_17_0.png'), Path('/content/drive/MyDrive/AAA/images/image_10_3.png'), Path('/content/drive/MyDrive/AAA/images/image_17_6.png'), Path('/content/drive/MyDrive/AAA/images/image_10_5.png'), Path('/content/drive/MyDrive/AAA/images/image_3_7.png'), Path('/content/drive/MyDrive/AAA/images/image_10_1.png'), Path('/content/drive/MyDrive/AAA/images/image_13_2.png'), Path('/content/drive/MyDrive/AAA/images/image_10_7.png'), Path('/content/drive/MyDrive/AAA/images/image_18_3.png'), Path('/content/drive/MyDrive/AAA/images/image_8_6.png'), Path('/content/drive/MyDrive/AAA/images/image_14_0.png'), Path('/content/drive/MyDrive/AAA/images/image_13_7.png'), Path('/content/drive/MyDrive/AAA/images/image_1_5.png'), Path('/content/drive/MyDrive/AAA/images/image_4_0.png'), Path('/content/drive/MyDrive/AAA/images/image_4_7.png'), Path('/content/drive/MyDrive/AAA/images/image_2_2.png'), Path('/content/drive/MyDrive/AAA/images/image_6_3.png'), Path('/content/drive/MyDrive/AAA/images/image_5_2.png'), Path('/content/drive/MyDrive/AAA/images/image_9_1.png'), Path('/content/drive/MyDrive/AAA/images/image_13_1.png'), Path('/content/drive/MyDrive/AAA/images/image_15_6.png'), Path('/content/drive/MyDrive/AAA/images/image_0_6.png'), Path('/content/drive/MyDrive/AAA/images/image_19_0.png'), Path('/content/drive/MyDrive/AAA/images/image_13_3.png'), Path('/content/drive/MyDrive/AAA/images/image_3_4.png'), Path('/content/drive/MyDrive/AAA/images/image_3_0.png'), Path('/content/drive/MyDrive/AAA/images/image_14_6.png'), Path('/content/drive/MyDrive/AAA/images/image_16_1.png'), Path('/content/drive/MyDrive/AAA/images/image_7_5.png'), Path('/content/drive/MyDrive/AAA/images/image_2_4.png'), Path('/content/drive/MyDrive/AAA/images/image_11_6.png'), Path('/content/drive/MyDrive/AAA/images/image_1_1.png'), Path('/content/drive/MyDrive/AAA/images/image_0_4.png'), Path('/content/drive/MyDrive/AAA/images/image_13_6.png'), Path('/content/drive/MyDrive/AAA/images/image_2_0.png'), Path('/content/drive/MyDrive/AAA/images/image_6_6.png'), Path('/content/drive/MyDrive/AAA/images/image_7_3.png'), Path('/content/drive/MyDrive/AAA/images/image_8_2.png'), Path('/content/drive/MyDrive/AAA/images/image_18_1.png'), Path('/content/drive/MyDrive/AAA/images/image_17_4.png'), Path('/content/drive/MyDrive/AAA/images/image_13_0.png'), Path('/content/drive/MyDrive/AAA/images/image_9_2.png'), Path('/content/drive/MyDrive/AAA/images/image_8_7.png'), Path('/content/drive/MyDrive/AAA/images/image_9_0.png'), Path('/content/drive/MyDrive/AAA/images/image_15_0.png'), Path('/content/drive/MyDrive/AAA/images/image_12_6.png'), Path('/content/drive/MyDrive/AAA/images/image_7_7.png'), Path('/content/drive/MyDrive/AAA/images/image_11_2.png'), Path('/content/drive/MyDrive/AAA/images/image_0_1.png'), Path('/content/drive/MyDrive/AAA/images/image_9_6.png'), Path('/content/drive/MyDrive/AAA/images/image_8_4.png'), Path('/content/drive/MyDrive/AAA/images/image_15_5.png'), Path('/content/drive/MyDrive/AAA/images/image_0_3.png'), Path('/content/drive/MyDrive/AAA/images/image_9_3.png'), Path('/content/drive/MyDrive/AAA/images/image_15_1.png'), Path('/content/drive/MyDrive/AAA/images/image_1_4.png'), Path('/content/drive/MyDrive/AAA/images/image_13_4.png'), Path('/content/drive/MyDrive/AAA/images/image_11_1.png'), Path('/content/drive/MyDrive/AAA/images/image_16_5.png'), Path('/content/drive/MyDrive/AAA/images/image_16_3.png'), Path('/content/drive/MyDrive/AAA/images/image_2_5.png'), Path('/content/drive/MyDrive/AAA/images/image_9_4.png'), Path('/content/drive/MyDrive/AAA/images/image_5_0.png'), Path('/content/drive/MyDrive/AAA/images/image_14_3.png'), Path('/content/drive/MyDrive/AAA/images/image_1_6.png'), Path('/content/drive/MyDrive/AAA/images/image_9_7.png'), Path('/content/drive/MyDrive/AAA/images/image_10_0.png'), Path('/content/drive/MyDrive/AAA/images/image_6_2.png'), Path('/content/drive/MyDrive/AAA/images/image_3_6.png'), Path('/content/drive/MyDrive/AAA/images/image_2_1.png'), Path('/content/drive/MyDrive/AAA/images/image_12_0.png'), Path('/content/drive/MyDrive/AAA/images/image_15_2.png'), Path('/content/drive/MyDrive/AAA/images/image_19_4.png'), Path('/content/drive/MyDrive/AAA/images/image_1_3.png'), Path('/content/drive/MyDrive/AAA/images/image_8_0.png'), Path('/content/drive/MyDrive/AAA/images/image_17_3.png'), Path('/content/drive/MyDrive/AAA/images/image_10_4.png'), Path('/content/drive/MyDrive/AAA/images/image_11_7.png'), Path('/content/drive/MyDrive/AAA/images/image_0_2.png'), Path('/content/drive/MyDrive/AAA/images/image_2_6.png'), Path('/content/drive/MyDrive/AAA/images/image_6_5.png'), Path('/content/drive/MyDrive/AAA/images/image_17_7.png'), Path('/content/drive/MyDrive/AAA/images/image_16_0.png'), Path('/content/drive/MyDrive/AAA/images/image_18_5.png'), Path('/content/drive/MyDrive/AAA/images/image_3_1.png'), Path('/content/drive/MyDrive/AAA/images/image_6_1.png'), Path('/content/drive/MyDrive/AAA/images/image_3_5.png'), Path('/content/drive/MyDrive/AAA/images/image_17_1.png'), Path('/content/drive/MyDrive/AAA/images/image_18_4.png'), Path('/content/drive/MyDrive/AAA/images/image_19_1.png'), Path('/content/drive/MyDrive/AAA/images/image_0_0.png'), Path('/content/drive/MyDrive/AAA/images/image_2_3.png'), Path('/content/drive/MyDrive/AAA/images/image_4_1.png'), Path('/content/drive/MyDrive/AAA/images/image_19_7.png'), Path('/content/drive/MyDrive/AAA/images/image_4_4.png'), Path('/content/drive/MyDrive/AAA/images/image_5_6.png'), Path('/content/drive/MyDrive/AAA/images/image_11_0.png'), Path('/content/drive/MyDrive/AAA/images/image_11_3.png'), Path('/content/drive/MyDrive/AAA/images/image_15_7.png'), Path('/content/drive/MyDrive/AAA/images/image_19_6.png'), Path('/content/drive/MyDrive/AAA/images/image_14_1.png'), Path('/content/drive/MyDrive/AAA/images/image_18_6.png'), Path('/content/drive/MyDrive/AAA/images/image_10_6.png'), Path('/content/drive/MyDrive/AAA/images/image_7_2.png'), Path('/content/drive/MyDrive/AAA/images/image_18_2.png'), Path('/content/drive/MyDrive/AAA/images/image_7_6.png'), Path('/content/drive/MyDrive/AAA/images/image_17_2.png'), Path('/content/drive/MyDrive/AAA/images/image_5_1.png'), Path('/content/drive/MyDrive/AAA/images/image_4_6.png'), Path('/content/drive/MyDrive/AAA/images/image_16_2.png'), Path('/content/drive/MyDrive/AAA/images/image_19_2.png'), Path('/content/drive/MyDrive/AAA/images/image_1_7.png'), Path('/content/drive/MyDrive/AAA/images/image_8_3.png'), Path('/content/drive/MyDrive/AAA/images/image_19_5.png'), Path('/content/drive/MyDrive/AAA/images/image_5_3.png'), Path('/content/drive/MyDrive/AAA/images/image_7_4.png')]\n",
            "[Path('/content/drive/MyDrive/AAA/images/image_3_2.png'), Path('/content/drive/MyDrive/AAA/images/image_13_5.png'), Path('/content/drive/MyDrive/AAA/images/image_7_1.png'), Path('/content/drive/MyDrive/AAA/images/image_11_4.png'), Path('/content/drive/MyDrive/AAA/images/image_14_7.png'), Path('/content/drive/MyDrive/AAA/images/image_1_2.png'), Path('/content/drive/MyDrive/AAA/images/image_6_7.png'), Path('/content/drive/MyDrive/AAA/images/image_5_5.png'), Path('/content/drive/MyDrive/AAA/images/image_19_3.png'), Path('/content/drive/MyDrive/AAA/images/image_1_0.png'), Path('/content/drive/MyDrive/AAA/images/image_15_3.png'), Path('/content/drive/MyDrive/AAA/images/image_0_5.png'), Path('/content/drive/MyDrive/AAA/images/image_16_7.png'), Path('/content/drive/MyDrive/AAA/images/image_14_4.png'), Path('/content/drive/MyDrive/AAA/images/image_7_0.png'), Path('/content/drive/MyDrive/AAA/images/image_9_5.png'), Path('/content/drive/MyDrive/AAA/images/image_2_7.png'), Path('/content/drive/MyDrive/AAA/images/image_12_2.png'), Path('/content/drive/MyDrive/AAA/images/image_16_4.png'), Path('/content/drive/MyDrive/AAA/images/image_12_7.png'), Path('/content/drive/MyDrive/AAA/images/image_16_6.png'), Path('/content/drive/MyDrive/AAA/images/image_8_1.png'), Path('/content/drive/MyDrive/AAA/images/image_14_2.png'), Path('/content/drive/MyDrive/AAA/images/image_4_3.png'), Path('/content/drive/MyDrive/AAA/images/image_12_3.png'), Path('/content/drive/MyDrive/AAA/images/image_0_7.png'), Path('/content/drive/MyDrive/AAA/images/image_15_4.png'), Path('/content/drive/MyDrive/AAA/images/image_4_5.png'), Path('/content/drive/MyDrive/AAA/images/image_5_4.png'), Path('/content/drive/MyDrive/AAA/images/image_12_1.png'), Path('/content/drive/MyDrive/AAA/images/image_5_7.png'), Path('/content/drive/MyDrive/AAA/images/image_10_2.png')]\n"
          ]
        }
      ]
    },
    {
      "cell_type": "code",
      "source": [
        "# Define U-Net model\n",
        "learn = unet_learner(dls, resnet34)\n",
        "learn.fit_one_cycle(12, 3e-3, wd=1e-2)\n",
        "learn.unfreeze()\n",
        "learn.fit_one_cycle(12, slice(1e-5, 1e-3), wd=1e-2)\n",
        "\n",
        "# Train the model\n",
        "learn.fine_tune(N_epochs)"
      ],
      "metadata": {
        "id": "4IOZNJs634yD"
      },
      "execution_count": null,
      "outputs": []
    },
    {
      "cell_type": "code",
      "source": [
        "# Perform inference on test images\n",
        "test_dl = dls.test_dl(get_image_files(image_folder)) # usa todas as 160 imagens em image_folder, treino e validação\n",
        "preds = learn.get_preds(dl=test_dl)\n",
        "print(preds[0].shape, preds[1])\n",
        "\n",
        "# Display sample predictions\n",
        "sample_idx = 0\n",
        "sample_image_path = list(test_dl.items)[sample_idx]\n",
        "sample_image = PILImage.create(sample_image_path)\n",
        "sample_pred = preds[0][sample_idx].argmax(dim=0).numpy()\n",
        "\n",
        "sample_image.show()\n",
        "TensorImage(sample_pred).show(cmap='tab20')"
      ],
      "metadata": {
        "id": "N0GMFc5XH0mz"
      },
      "execution_count": null,
      "outputs": []
    },
    {
      "cell_type": "code",
      "source": [
        "# Save the predicted mask images (png) according to their row and column number\n",
        "create_predited_mask(image_folder, learn, predicted_folder)"
      ],
      "metadata": {
        "id": "Xy7wt7tCWKgr"
      },
      "execution_count": null,
      "outputs": []
    },
    {
      "cell_type": "code",
      "source": [
        "# fazer mosaico dos blocos\n",
        "merge_blocks(predicted_folder,'merge_predicted_13_1909.png', Nrows, Ncols, width, height)"
      ],
      "metadata": {
        "id": "A92-jgOJWZmg"
      },
      "execution_count": 38,
      "outputs": []
    },
    {
      "cell_type": "code",
      "source": [
        "#\n",
        "display_images(directory, image_folder, label_folder, predicted_folder, preds)"
      ],
      "metadata": {
        "id": "QJQ9D43r50hu"
      },
      "execution_count": null,
      "outputs": []
    },
    {
      "cell_type": "code",
      "source": [
        "#\n",
        "pixel_wise_errors(test_file_names, label_folder, predicted_folder, image_folder)"
      ],
      "metadata": {
        "id": "QmKTh_NL4QY_"
      },
      "execution_count": null,
      "outputs": []
    },
    {
      "cell_type": "code",
      "source": [
        "# Perform inference on the test set\n",
        "preds, _ = learn.get_preds(dl=dls.valid)\n",
        "\n",
        "# Convert the predicted masks to a numpy array\n",
        "predicted_masks = preds.argmax(dim=1).numpy()\n",
        "\n",
        "# Get the ground truth masks for the test set\n",
        "true_masks = [y for _, y in dls.valid]\n",
        "\n",
        "# Convert the list of true masks to a numpy array\n",
        "true_masks = torch.cat(true_masks).cpu().numpy()\n",
        "\n",
        "# Flatten the masks to be 1D arrays\n",
        "true_masks_flat = true_masks.ravel()\n",
        "predicted_masks_flat = predicted_masks.ravel()\n",
        "\n",
        "# Calculate the confusion matrix for the test set\n",
        "conf_matrix = confusion_matrix(true_masks_flat, predicted_masks_flat)\n",
        "\n",
        "print(\"Confusion Matrix for the Test Set:\")\n",
        "print(conf_matrix)\n"
      ],
      "metadata": {
        "id": "L4pF_-AoFhHM",
        "outputId": "134643d9-b6f2-4379-adee-d58d5e1a2b8b",
        "colab": {
          "base_uri": "https://localhost:8080/",
          "height": 71
        }
      },
      "execution_count": 68,
      "outputs": [
        {
          "output_type": "display_data",
          "data": {
            "text/plain": [
              "<IPython.core.display.HTML object>"
            ],
            "text/html": [
              "\n",
              "<style>\n",
              "    /* Turns off some styling */\n",
              "    progress {\n",
              "        /* gets rid of default border in Firefox and Opera. */\n",
              "        border: none;\n",
              "        /* Needs to be in here for Safari polyfill so background images work as expected. */\n",
              "        background-size: auto;\n",
              "    }\n",
              "    progress:not([value]), progress:not([value])::-webkit-progress-bar {\n",
              "        background: repeating-linear-gradient(45deg, #7e7e7e, #7e7e7e 10px, #5c5c5c 10px, #5c5c5c 20px);\n",
              "    }\n",
              "    .progress-bar-interrupted, .progress-bar-interrupted::-webkit-progress-bar {\n",
              "        background: #F44336;\n",
              "    }\n",
              "</style>\n"
            ]
          },
          "metadata": {}
        },
        {
          "output_type": "display_data",
          "data": {
            "text/plain": [
              "<IPython.core.display.HTML object>"
            ],
            "text/html": []
          },
          "metadata": {}
        },
        {
          "output_type": "stream",
          "name": "stdout",
          "text": [
            "Confusion Matrix for the Test Set:\n",
            "[[92798  1878]\n",
            " [ 3796  7320]]\n"
          ]
        }
      ]
    },
    {
      "cell_type": "code",
      "source": [
        "accuracy = model_accuracy(true_masks_flat, predicted_masks_flat)\n",
        "print(\"Model Accuracy for the Test Set: {:.2f}%\".format(accuracy * 100))"
      ],
      "metadata": {
        "id": "qBSGOu2fLkGs",
        "outputId": "0367c0d7-abf4-4549-c9d1-d315b1886a8b",
        "colab": {
          "base_uri": "https://localhost:8080/"
        }
      },
      "execution_count": 82,
      "outputs": [
        {
          "output_type": "stream",
          "name": "stdout",
          "text": [
            "Model Accuracy for the Test Set: 94.64%\n"
          ]
        }
      ]
    },
    {
      "cell_type": "code",
      "source": [
        "# Calculate and print the classification report\n",
        "report = classification_report(true_masks_flat, predicted_masks_flat, target_names=target_names)\n",
        "print(\"\\nClassification Report for the Test Set:\")\n",
        "print(report)"
      ],
      "metadata": {
        "id": "to6LPRUMFmJv"
      },
      "execution_count": null,
      "outputs": []
    },
    {
      "cell_type": "code",
      "source": [
        "# Load the ground truth TIFF mask and predicted PNG mask\n",
        "with rasterio.open(os.path.join(directory, 'mask_3763_reclass.tif')) as tiff_mask:\n",
        "    ground_truth_mask = tiff_mask.read(1)  # Assuming it's a one-band TIFF\n",
        "\n",
        "# Load the predicted PNG mask\n",
        "predicted_mask = Image.open(os.path.join(predicted_folder, 'merged_predicted_masks_20_1309.png'))\n",
        "# Convert the predicted mask to grayscale\n",
        "predicted_mask = predicted_mask.convert('L')\n",
        "# Resize the predicted mask to match the dimensions of the ground truth mask\n",
        "predicted_mask = predicted_mask.resize(ground_truth_mask.shape[::-1], Image.ANTIALIAS)\n",
        "# Convert to a NumPy array\n",
        "predicted_mask = np.array(predicted_mask)\n",
        "\n",
        "# Save the merged image\n",
        "#resized_output_file = os.path.join(predicted_folder, 'resized_predicted_masks_20_1309.png')\n",
        "#predicted_mask.save(resized_output_file)"
      ],
      "metadata": {
        "id": "6cmc-TN3FaMY",
        "outputId": "18ca6c8b-1040-4190-c6a0-57fba726fbed",
        "colab": {
          "base_uri": "https://localhost:8080/"
        }
      },
      "execution_count": 71,
      "outputs": [
        {
          "output_type": "stream",
          "name": "stderr",
          "text": [
            "<ipython-input-71-f63f9d999a5f>:10: DeprecationWarning: ANTIALIAS is deprecated and will be removed in Pillow 10 (2023-07-01). Use LANCZOS or Resampling.LANCZOS instead.\n",
            "  predicted_mask = predicted_mask.resize(ground_truth_mask.shape[::-1], Image.ANTIALIAS)\n"
          ]
        }
      ]
    },
    {
      "cell_type": "code",
      "source": [
        "# Create an aligned predicted mask with the same values as the ground truth mask\n",
        "aligned_predicted_mask = np.array(predicted_mask)\n",
        "\n",
        "# Identify commission errors (false positives)\n",
        "commission_errors = (aligned_predicted_mask == 1) & (ground_truth_mask == 0)\n",
        "\n",
        "# Identify omission errors (false negatives)\n",
        "omission_errors = (aligned_predicted_mask == 0) & (ground_truth_mask == 1)\n",
        "\n",
        "# Create a merged image for visualization\n",
        "merged_image = np.zeros((ground_truth_mask.shape[0], ground_truth_mask.shape[1], 3), dtype=np.uint8)\n",
        "\n",
        "# Mark correct identifications in green\n",
        "correct_identifications = (aligned_predicted_mask == ground_truth_mask)\n",
        "merged_image[correct_identifications] = [0, 255, 0]  # Green color\n",
        "\n",
        "# Mark commission errors (false positives) in yellow\n",
        "merged_image[commission_errors] = [255, 255, 0]  # Yellow color\n",
        "\n",
        "# Mark omission errors (false negatives) in red\n",
        "merged_image[omission_errors] = [255, 0, 0]  # Red color\n",
        "\n",
        "# Display the merged image\n",
        "plt.figure(figsize=(8, 6))\n",
        "plt.imshow(merged_image)\n",
        "plt.axis('off')\n",
        "plt.title('Merged Image with Correct Identifications (Green), Commission (Yellow), and Omission (Red) Errors')\n",
        "plt.show()\n",
        "\n",
        "# Save the merged image\n",
        "merged_output_file = os.path.join(predicted_folder, 'comission_omission.png')\n",
        "plt.imsave(merged_output_file, merged_image)"
      ],
      "metadata": {
        "id": "4gc-nNdmMiqV",
        "outputId": "54c62351-a9cd-4d9e-dfc3-6b8fc38be4b7",
        "colab": {
          "base_uri": "https://localhost:8080/",
          "height": 521
        }
      },
      "execution_count": 72,
      "outputs": [
        {
          "output_type": "display_data",
          "data": {
            "text/plain": [
              "<Figure size 800x600 with 1 Axes>"
            ],
            "image/png": "[encoded data removed]"
          },
          "metadata": {}
        }
      ]
    }
  ]
}