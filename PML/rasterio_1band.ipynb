{
 "cells": [
  {
   "cell_type": "code",
   "execution_count": 2,
   "metadata": {},
   "outputs": [],
   "source": [
    "import rasterio\n",
    "from rasterio.windows import Window\n",
    "import os\n",
    "\n",
    "# Create a folder named \"images\" if it doesn't exist\n",
    "folder_name = \"labels\"\n",
    "if not os.path.exists(folder_name):\n",
    "    os.makedirs(folder_name)\n",
    "\n",
    "# Open the input raster file\n",
    "with rasterio.open('mask.tif') as src:\n",
    "\n",
    "    # Calculate the height and width of the sub-rasters\n",
    "    height = src.height // 20  # Divide the raster into 4 rows\n",
    "    width = src.width // 8  # Divide the raster into 8 columns\n",
    "\n",
    "    # Loop through each sub-raster and clip the data\n",
    "    for i in range(20):\n",
    "        for j in range(8):\n",
    "            # Define the window to clip the sub-raster\n",
    "            ymin = i * height\n",
    "            ymax = (i + 1) * height\n",
    "            xmin = j * width\n",
    "            xmax = (j + 1) * width\n",
    "            window = Window.from_slices((ymin, ymax), (xmin, xmax))\n",
    "\n",
    "            # Read the data within the window\n",
    "            clipped_data = src.read(window=window)\n",
    "\n",
    "            # Update the metadata for the clipped data\n",
    "            clipped_meta = src.meta.copy()\n",
    "            clipped_meta.update({\n",
    "                'height': window.height,\n",
    "                'width': window.width,\n",
    "                'transform': src.window_transform(window)\n",
    "            })\n",
    "\n",
    "            # Write the clipped data to a new raster file\n",
    "            # with rasterio.open(f'sub_raster_{i}_{j}.tif', 'w', **clipped_meta) as dst:\n",
    "            #     dst.write(clipped_data)\n",
    "            output_file = os.path.join(folder_name, f'image_{i}_{j}_mask.png')\n",
    "            with rasterio.open(output_file, 'w', **clipped_meta) as dst:\n",
    "                 dst.write(clipped_data)"
   ]
  }
 ],
 "metadata": {
  "kernelspec": {
   "display_name": "Python 3",
   "language": "python",
   "name": "python3"
  },
  "language_info": {
   "codemirror_mode": {
    "name": "ipython",
    "version": 3
   },
   "file_extension": ".py",
   "mimetype": "text/x-python",
   "name": "python",
   "nbconvert_exporter": "python",
   "pygments_lexer": "ipython3",
   "version": "3.11.2"
  },
  "orig_nbformat": 4
 },
 "nbformat": 4,
 "nbformat_minor": 2
}
