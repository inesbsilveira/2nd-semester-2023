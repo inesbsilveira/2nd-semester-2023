{
 "cells": [
  {
   "cell_type": "code",
   "execution_count": null,
   "metadata": {},
   "outputs": [],
   "source": [
    "import numpy as np\n",
    "from PIL import Image\n",
    "import rasterio\n",
    "from rasterio.windows import Window"
   ]
  },
  {
   "cell_type": "code",
   "execution_count": null,
   "metadata": {},
   "outputs": [],
   "source": [
    "# Multi bandas\n",
    "# Open the input raster file\n",
    "with rasterio.open(r'PML\\3bands_clipped_tif.tif') as src:\n",
    "\n",
    "    # Calculate the height and width of the sub-rasters\n",
    "    height = src.height // 10  # Divide the raster into 58 rows\n",
    "    width = src.width // 4  # Divide the raster into 23 columns\n",
    "\n",
    "    # Loop through each sub-raster and clip the data\n",
    "    for i in range(10):\n",
    "        for j in range(4):\n",
    "            # Define the window to clip the sub-raster\n",
    "            ymin = i * height\n",
    "            ymax = (i + 1) * height\n",
    "            xmin = j * width\n",
    "            xmax = (j + 1) * width\n",
    "            window = Window.from_slices((ymin, ymax), (xmin, xmax))\n",
    "\n",
    "            # Read the data within the window\n",
    "            clipped_data_1 = src.read(1, window=window).astype(np.uint8)\n",
    "            clipped_data_2 = src.read(2, window=window).astype(np.uint8)\n",
    "            clipped_data_3 = src.read(3, window=window).astype(np.uint8)\n",
    "            # Stack the bands to create an RGB image array\n",
    "            rgb_image = np.stack([clipped_data_1, clipped_data_2, clipped_data_3], axis=2)\n",
    "            #print(rgb_image)\n",
    "\n",
    "            # Convert the image array to a PIL Image\n",
    "            image = Image.fromarray(rgb_image)\n",
    "\n",
    "            # Save the PIL Image as a PNG file\n",
    "            output_file = f'image_{i}_{j}.png'\n",
    "            image.save(output_file) \n",
    "            break"
   ]
  }
 ],
 "metadata": {
  "language_info": {
   "name": "python"
  },
  "orig_nbformat": 4
 },
 "nbformat": 4,
 "nbformat_minor": 2
}
