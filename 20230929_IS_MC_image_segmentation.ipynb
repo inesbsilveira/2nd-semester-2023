{
  "nbformat": 4,
  "nbformat_minor": 0,
  "metadata": {
    "colab": {
      "provenance": [],
      "toc_visible": true,
      "authorship_tag": "ABX9TyPvC/DDia05LYQfIVcxtum4",
      "include_colab_link": true
    },
    "kernelspec": {
      "name": "python3",
      "display_name": "Python 3"
    },
    "language_info": {
      "name": "python"
    }
  },
  "cells": [
    {
      "cell_type": "markdown",
      "metadata": {
        "id": "view-in-github",
        "colab_type": "text"
      },
      "source": [
        "<a href=\"https://colab.research.google.com/github/inesbsilveira/2nd-semester-2023/blob/main/20230929_IS_MC_image_segmentation.ipynb\" target=\"_parent\"><img src=\"https://colab.research.google.com/assets/colab-badge.svg\" alt=\"Open In Colab\"/></a>"
      ]
    },
    {
      "cell_type": "markdown",
      "source": [
        "# **Imports, parameters and variables**"
      ],
      "metadata": {
        "id": "2JwOqe_75_P2"
      }
    },
    {
      "cell_type": "code",
      "execution_count": 32,
      "metadata": {
        "id": "OduyU9nw0P7o",
        "outputId": "2fa3a78a-160f-4669-98ad-7ce409bfa690",
        "colab": {
          "base_uri": "https://localhost:8080/"
        }
      },
      "outputs": [
        {
          "output_type": "stream",
          "name": "stdout",
          "text": [
            "Requirement already satisfied: rasterio in /usr/local/lib/python3.10/dist-packages (1.3.8)\n",
            "Requirement already satisfied: affine in /usr/local/lib/python3.10/dist-packages (from rasterio) (2.4.0)\n",
            "Requirement already satisfied: attrs in /usr/local/lib/python3.10/dist-packages (from rasterio) (23.1.0)\n",
            "Requirement already satisfied: certifi in /usr/local/lib/python3.10/dist-packages (from rasterio) (2023.7.22)\n",
            "Requirement already satisfied: click>=4.0 in /usr/local/lib/python3.10/dist-packages (from rasterio) (8.1.7)\n",
            "Requirement already satisfied: cligj>=0.5 in /usr/local/lib/python3.10/dist-packages (from rasterio) (0.7.2)\n",
            "Requirement already satisfied: numpy>=1.18 in /usr/local/lib/python3.10/dist-packages (from rasterio) (1.23.5)\n",
            "Requirement already satisfied: snuggs>=1.4.1 in /usr/local/lib/python3.10/dist-packages (from rasterio) (1.4.7)\n",
            "Requirement already satisfied: click-plugins in /usr/local/lib/python3.10/dist-packages (from rasterio) (1.1.1)\n",
            "Requirement already satisfied: setuptools in /usr/local/lib/python3.10/dist-packages (from rasterio) (67.7.2)\n",
            "Requirement already satisfied: pyparsing>=2.1.6 in /usr/local/lib/python3.10/dist-packages (from snuggs>=1.4.1->rasterio) (3.1.1)\n"
          ]
        }
      ],
      "source": [
        "!pip install rasterio"
      ]
    },
    {
      "cell_type": "code",
      "source": [
        "import rasterio\n",
        "from rasterio.windows import Window\n",
        "import os\n",
        "import shutil\n",
        "import numpy as np\n",
        "from PIL import Image\n",
        "from fastai.vision.all import *\n",
        "from sklearn.metrics import classification_report, roc_auc_score, precision_score, confusion_matrix, ConfusionMatrixDisplay\n",
        "from sklearn.model_selection import KFold\n",
        "import matplotlib.pyplot as plt\n",
        "import tifffile as tiff\n",
        "import matplotlib.image as mpimg\n",
        "from rasterio.windows import from_bounds"
      ],
      "metadata": {
        "id": "sakoF1ln0VTZ"
      },
      "execution_count": 76,
      "outputs": []
    },
    {
      "cell_type": "code",
      "source": [
        "from google.colab import drive\n",
        "drive.mount('/content/drive')"
      ],
      "metadata": {
        "colab": {
          "base_uri": "https://localhost:8080/"
        },
        "id": "0tUNND6M0YhP",
        "outputId": "5c189bbc-5ada-4125-e658-d183587ebf3b"
      },
      "execution_count": 34,
      "outputs": [
        {
          "output_type": "stream",
          "name": "stdout",
          "text": [
            "Drive already mounted at /content/drive; to attempt to forcibly remount, call drive.mount(\"/content/drive\", force_remount=True).\n"
          ]
        }
      ]
    },
    {
      "cell_type": "code",
      "source": [
        "user='I' # escolher 'M' ou 'I'\n",
        "N_epochs=20\n",
        "target_names = ['not greenhouse', 'greenhouse']\n",
        "Nrows,Ncols = 20, 8 # número de blocos a usar 20*8=160\n",
        "model_name = 'model_20epochs.pkl'\n",
        "new_model_name = 'model_20epochs.pkl'\n",
        "train_model = False"
      ],
      "metadata": {
        "id": "o6ETvT3E2anV"
      },
      "execution_count": 66,
      "outputs": []
    },
    {
      "cell_type": "code",
      "source": [
        "# Specify the directory path\n",
        "if user=='M':\n",
        "  directory = '/content/drive/MyDrive/inv_proj/S2change_DGT/Estufas_Alentejo'\n",
        "else:\n",
        "  directory = '/content/drive/MyDrive/AAA/'\n",
        "\n",
        "path=Path(directory)\n",
        "image_folder_name = \"images\"\n",
        "label_folder_name = \"labels\"\n",
        "predicted_folder_name = \"predicted\"\n",
        "image_folder = os.path.join(directory, image_folder_name)\n",
        "os.makedirs(image_folder, exist_ok=True)\n",
        "label_folder = os.path.join(directory, label_folder_name)\n",
        "os.makedirs(label_folder, exist_ok=True)\n",
        "predicted_folder = os.path.join(directory, predicted_folder_name)\n",
        "os.makedirs(predicted_folder, exist_ok=True)"
      ],
      "metadata": {
        "id": "N8XRKFTv0eMr"
      },
      "execution_count": 36,
      "outputs": []
    },
    {
      "cell_type": "markdown",
      "source": [
        "# **Functions**"
      ],
      "metadata": {
        "id": "7WgSqKAD6T3k"
      }
    },
    {
      "cell_type": "markdown",
      "source": [
        "## Clip and saturate tiff files"
      ],
      "metadata": {
        "id": "k8u0oJfn6d22"
      }
    },
    {
      "cell_type": "code",
      "source": [
        "def clip_tiff_by_extent(input_file, output_file, extent):\n",
        "    # Open the input GeoTIFF file\n",
        "    with rasterio.open(input_file) as src:\n",
        "        # Create a window representing the desired extent\n",
        "        window = from_bounds(*extent, transform=src.transform)\n",
        "\n",
        "        # Read the data within the window\n",
        "        clipped_data = src.read(window=window)\n",
        "\n",
        "        # Update the transform to reflect the new window\n",
        "        new_transform = src.window_transform(window)\n",
        "\n",
        "        # Create a new GeoTIFF file with the clipped data\n",
        "        with rasterio.open(\n",
        "            output_file,\n",
        "            'w',\n",
        "            driver='GTiff',\n",
        "            width=window.width,\n",
        "            height=window.height,\n",
        "            count=src.count,\n",
        "            dtype=clipped_data.dtype,\n",
        "            crs=src.crs,\n",
        "            transform=new_transform\n",
        "        ) as dst:\n",
        "            dst.write(clipped_data)"
      ],
      "metadata": {
        "id": "5HBhF93ank-M"
      },
      "execution_count": 75,
      "outputs": []
    },
    {
      "cell_type": "code",
      "source": [
        "def recalculate_array(arr, bigmin, bigmax):\n",
        "    # Saturate values below bigmin to bigmin and above bigmax to bigmax\n",
        "    saturated_arr = np.clip(arr, bigmin, bigmax)\n",
        "    return saturated_arr"
      ],
      "metadata": {
        "id": "TJ3Re9ZNrnQn"
      },
      "execution_count": 82,
      "outputs": []
    },
    {
      "cell_type": "code",
      "source": [
        "\n",
        "def satu_tiff(input_file, output_file):\n",
        "    with rasterio.open(input_file) as src:\n",
        "        # Get the number of bands in the input GeoTIFF\n",
        "        num_bands = src.count\n",
        "\n",
        "        # Initialize an empty list to store the saturated bands\n",
        "        saturated_bands = []\n",
        "\n",
        "        for band_idx in range(1, num_bands + 1):\n",
        "            # Read the band into a NumPy array\n",
        "            band = src.read(band_idx)\n",
        "\n",
        "            # Calculate bigmin and bigmax for the current band based on percentiles or other criteria\n",
        "            bigmin = np.percentile(band, 1)  # 1st percentile\n",
        "            bigmax = np.percentile(band, 99)  # 99th percentile\n",
        "\n",
        "            # Recalculate the array values for the current band\n",
        "            saturated_band = recalculate_array(band, bigmin, bigmax)\n",
        "\n",
        "            # Append the saturated band to the list\n",
        "            saturated_bands.append(saturated_band)\n",
        "\n",
        "        # Create a new GeoTIFF file with the saturated bands\n",
        "        with rasterio.open(\n",
        "            output_file,\n",
        "            'w',\n",
        "            driver='GTiff',\n",
        "            width=src.width,\n",
        "            height=src.height,\n",
        "            count=num_bands,\n",
        "            dtype=saturated_bands[0].dtype,\n",
        "            crs=src.crs,\n",
        "            transform=src.transform\n",
        "        ) as dst:\n",
        "            for band_idx, band in enumerate(saturated_bands, start=1):\n",
        "                dst.write(band, band_idx)"
      ],
      "metadata": {
        "id": "Wsf1zIHoqpl1"
      },
      "execution_count": 105,
      "outputs": []
    },
    {
      "cell_type": "markdown",
      "source": [
        "## Calculate indexes - NDVI, RPGI, albedo"
      ],
      "metadata": {
        "id": "mEnGanR48nGY"
      }
    },
    {
      "cell_type": "code",
      "source": [
        "def calculate_ndvi(red_file, nir_file, output_file):\n",
        "    # Open the Red, Green, NIR, and Blue band GeoTIFF files\n",
        "    with rasterio.open(red_file) as red_src, rasterio.open(nir_file) as nir_src:\n",
        "\n",
        "        # Read the Red and NIR bands\n",
        "        red_band = red_src.read(1)\n",
        "        nir_band = nir_src.read(1)\n",
        "\n",
        "        # Calculate NDVI\n",
        "        with np.errstate(divide='ignore', invalid='ignore'):\n",
        "            # Ignore division by zero and invalid (e.g., NaN) results\n",
        "            ndvi = np.where(\n",
        "                (nir_band + red_band) == 0,\n",
        "                0.0,  # Set NDVI to 0 where the denominator is 0\n",
        "                (nir_band - red_band) / (nir_band + red_band)\n",
        "            )\n",
        "\n",
        "        # Create a new GeoTIFF file with the NDVI band\n",
        "        with rasterio.open(\n",
        "            output_file,\n",
        "            'w',\n",
        "            driver='GTiff',\n",
        "            width=red_src.width,\n",
        "            height=red_src.height,\n",
        "            count=1,\n",
        "            dtype=ndvi.dtype,\n",
        "            crs=red_src.crs,\n",
        "            transform=red_src.transform\n",
        "        ) as dst:\n",
        "            dst.write(ndvi, 1)"
      ],
      "metadata": {
        "id": "vrq7BaOX-zYL"
      },
      "execution_count": 130,
      "outputs": []
    },
    {
      "cell_type": "code",
      "source": [
        "def calculate_rpgi(blue_file, green_file, nir_file, output_file):\n",
        "    # Open the Red, Green, NIR, and Blue band GeoTIFF files\n",
        "    with rasterio.open(blue_file) as blue_src, rasterio.open(nir_file) as nir_src, rasterio.open(green_file) as green_src:\n",
        "\n",
        "        # Read the Blue, Green, and NIR bands\n",
        "        blue_band = blue_src.read(1)\n",
        "        green_band = green_src.read(1)\n",
        "        nir_band = nir_src.read(1)\n",
        "\n",
        "        # Calculate RPGI\n",
        "        with np.errstate(divide='ignore', invalid='ignore'):\n",
        "            rpgi = (blue_band) / (1 - np.mean(blue_band + green_band + nir_band))\n",
        "\n",
        "        # Create a new GeoTIFF file with the NDVI band\n",
        "        with rasterio.open(\n",
        "            output_file,\n",
        "            'w',\n",
        "            driver='GTiff',\n",
        "            width=blue_src.width,\n",
        "            height=blue_src.height,\n",
        "            count=1,\n",
        "            dtype=rpgi.dtype,\n",
        "            crs=blue_src.crs,\n",
        "            transform=blue_src.transform\n",
        "        ) as dst:\n",
        "            dst.write(rpgi, 1)"
      ],
      "metadata": {
        "id": "3AOe-V5wSzZ2"
      },
      "execution_count": 146,
      "outputs": []
    },
    {
      "cell_type": "code",
      "source": [
        "def calculate_albedo(blue_file, green_file, red_file, output_file):\n",
        "    # Open the Red, Green, NIR, and Blue band GeoTIFF files\n",
        "    with rasterio.open(blue_file) as blue_src, rasterio.open(red_file) as red_src, rasterio.open(green_file) as green_src:\n",
        "\n",
        "        # Read the Red, Green and Blue bands\n",
        "        blue_band = blue_src.read(1)\n",
        "        green_band = green_src.read(1)\n",
        "        red_band = red_src.read(1)\n",
        "\n",
        "        # Calculate albedo\n",
        "        albedo = blue_band + green_band + red_band\n",
        "\n",
        "        # Create a new GeoTIFF file with the NDVI band\n",
        "        with rasterio.open(\n",
        "            output_file,\n",
        "            'w',\n",
        "            driver='GTiff',\n",
        "            width=blue_src.width,\n",
        "            height=blue_src.height,\n",
        "            count=1,\n",
        "            dtype=albedo.dtype,\n",
        "            crs=blue_src.crs,\n",
        "            transform=blue_src.transform\n",
        "        ) as dst:\n",
        "            dst.write(albedo, 1)"
      ],
      "metadata": {
        "id": "b3LQ30-dX9OQ"
      },
      "execution_count": 148,
      "outputs": []
    },
    {
      "cell_type": "code",
      "source": [
        "def calculate_ndvi_rpgi_albedo(ndvi_file, rpgi_file, albedo_file, output_file):\n",
        "    # Open the Red, Green, NIR, and Blue band GeoTIFF files\n",
        "    with rasterio.open(ndvi_file) as ndvi_src, rasterio.open(rpgi_file) as rpgi_src, rasterio.open(albedo_file) as albedo_src:\n",
        "        # Read the NDVI, RPGI, and Albedo bands\n",
        "        ndvi_band = ndvi_src.read(1)\n",
        "        rpgi_band = rpgi_src.read(1)\n",
        "        albedo_band = albedo_src.read(1)\n",
        "\n",
        "        # Create a new GeoTIFF file with multiple bands\n",
        "        with rasterio.open(\n",
        "            output_file,\n",
        "            'w',\n",
        "            driver='GTiff',\n",
        "            width=ndvi_src.width,\n",
        "            height=ndvi_src.height,\n",
        "            count=3,  # Set the count to the number of input bands (NDVI, RPGI, Albedo)\n",
        "            dtype=ndvi_band.dtype,  # Use the data type of the input bands\n",
        "            crs=ndvi_src.crs,\n",
        "            transform=ndvi_src.transform\n",
        "        ) as dst:\n",
        "            # Write each band to the output GeoTIFF\n",
        "            dst.write(ndvi_band, 1)\n",
        "            dst.write(rpgi_band, 2)\n",
        "            dst.write(albedo_band, 3)"
      ],
      "metadata": {
        "id": "reeXeIoUfSEf"
      },
      "execution_count": 163,
      "outputs": []
    },
    {
      "cell_type": "markdown",
      "source": [
        "## Display and convert pixel values"
      ],
      "metadata": {
        "id": "RmiJthx57LWp"
      }
    },
    {
      "cell_type": "code",
      "source": [
        "# Display unique values and their datatype in a tif file. output is a list of unique values, datatype and a numpy array\n",
        "def display_unique_values_tiff_file (input_file):\n",
        "  # Open the TIFF file\n",
        "  with rasterio.open(input_file, 'r') as src:\n",
        "      # Read the data as a NumPy array\n",
        "      tiff_array = src.read(1)  # Assuming it's a single-band TIFF\n",
        "\n",
        "      # Find unique values in the NumPy array\n",
        "      unique_values = np.unique(tiff_array)\n",
        "\n",
        "      # Get the data type of the TIFF file\n",
        "      data_type = src.dtypes[0]\n",
        "\n",
        "  # Display the data type\n",
        "  print(f\"Data Type: {data_type}\")\n",
        "\n",
        "  # Display the unique values\n",
        "  print(\"Unique Values:\")\n",
        "  for value in unique_values:\n",
        "      print(value)\n",
        "\n",
        "  # Print the data in the NumPy array\n",
        "  print(tiff_array)"
      ],
      "metadata": {
        "id": "IvDBToyEE_YW"
      },
      "execution_count": 37,
      "outputs": []
    },
    {
      "cell_type": "code",
      "source": [
        "# Display unique values and their datatype in a PNG image. output is a list of unique values, datatype and a numpy array\n",
        "def display_unique_values_and_datatype(input_file):\n",
        "    # Open the PNG image\n",
        "    img = Image.open(input_file)\n",
        "\n",
        "    # Convert the image to a NumPy array\n",
        "    png_array = np.array(img)\n",
        "\n",
        "    # Find unique values in the NumPy array\n",
        "    unique_values = np.unique(png_array)\n",
        "\n",
        "    # Get the data type of the PNG image\n",
        "    data_type = png_array.dtype\n",
        "\n",
        "    # Display the data type\n",
        "    print(f\"Data Type: {data_type}\")\n",
        "\n",
        "    # Display the unique values\n",
        "    print(\"Unique Values:\")\n",
        "    for value in unique_values:\n",
        "        print(value)\n",
        "\n",
        "    # Print the data in the NumPy array\n",
        "    print(png_array)"
      ],
      "metadata": {
        "id": "uyc-QiWU-mrT"
      },
      "execution_count": 38,
      "outputs": []
    },
    {
      "cell_type": "code",
      "source": [
        "# Replace NODATA values with 0 in a tiff file and convert the datatype. this function requires the the value assigned to nodata values\n",
        "def convert_nodata_values (nodata_value, input_file,output_file):\n",
        "  # Open the input TIFF file\n",
        "  with rasterio.open(input_file, 'r') as src:\n",
        "      # Read the data as a NumPy array\n",
        "      data = src.read(1)\n",
        "\n",
        "      # Replace NoData values with 0\n",
        "      data[data == nodata_value] = 0\n",
        "\n",
        "      # Create a new TIFF file for writing\n",
        "      with rasterio.open(\n",
        "          output_file,\n",
        "          'w',\n",
        "          driver='GTiff',\n",
        "          width=src.width,\n",
        "          height=src.height,\n",
        "          count=1,\n",
        "          dtype=rasterio.uint8,  # Adjust data type as needed\n",
        "          crs=src.crs,\n",
        "          transform=src.transform,\n",
        "      ) as dst:\n",
        "          # Write the modified data to the new TIFF file\n",
        "          dst.write(data, 1)\n",
        "\n",
        "  print(f\"NoData values converted to 0\")\n"
      ],
      "metadata": {
        "id": "u8JagWb4GByG"
      },
      "execution_count": 39,
      "outputs": []
    },
    {
      "cell_type": "code",
      "source": [
        "# Display a TIFF file. input should be a tiff file\n",
        "def display_tiff_file (input_file):\n",
        "  # Load and display the TIFF image\n",
        "  img = mpimg.imread(input_file)\n",
        "  plt.imshow(img, cmap='gray')  # Use 'gray' colormap for binary images\n",
        "  plt.axis('off')  # Turn off axis labels and ticks\n",
        "  plt.show()\n"
      ],
      "metadata": {
        "id": "mF5nLWJnB1Im"
      },
      "execution_count": 85,
      "outputs": []
    },
    {
      "cell_type": "markdown",
      "source": [
        "## Clip and rescale tiff files"
      ],
      "metadata": {
        "id": "NHhfZu8j7Seq"
      }
    },
    {
      "cell_type": "code",
      "source": [
        "# Function to clip and rescale tif files and save png images in a folder\n",
        "# Input files are tiff files with 1 or 3 bands, output_folder is the folder where the png images are going to be stored. Nrows and Ncols are defined above\n",
        "def clip_raster_and_rescale(input_file, output_folder, Nrows, Ncols):\n",
        "    with rasterio.open(input_file) as src:\n",
        "        height = src.height // Nrows\n",
        "        width = src.width // Ncols\n",
        "        Nbands = src.count  # Get the number of bands in the input file\n",
        "\n",
        "        for i in range(Nrows):\n",
        "            for j in range(Ncols):\n",
        "                ymin = i * height\n",
        "                ymax = (i + 1) * height\n",
        "                xmin = j * width\n",
        "                xmax = (j + 1) * width\n",
        "                window = Window.from_slices((ymin, ymax), (xmin, xmax))\n",
        "\n",
        "                if Nbands == 1:\n",
        "                    clipped_data = src.read(window=window)\n",
        "                    clipped_meta = src.meta.copy()\n",
        "                    clipped_meta.update({\n",
        "                        'height': window.height,\n",
        "                        'width': window.width,\n",
        "                        'transform': src.window_transform(window)\n",
        "                })\n",
        "                    output_file = os.path.join(output_folder, f'image_{i}_{j}_mask.png')\n",
        "                    with rasterio.open(output_file, 'w', **clipped_meta) as dst:\n",
        "                        dst.write(clipped_data)\n",
        "                elif Nbands == 3:\n",
        "                    clipped_data_1 = rescale_to_8bits(src.read(1, window=window), bigmin, bigmax)\n",
        "                    clipped_data_2 = rescale_to_8bits(src.read(2, window=window), bigmin, bigmax)\n",
        "                    clipped_data_3 = rescale_to_8bits(src.read(3, window=window), bigmin, bigmax)\n",
        "                    rgb_image = np.stack([clipped_data_1, clipped_data_2, clipped_data_3], axis=2)\n",
        "                    image = Image.fromarray(rgb_image, mode='RGB')\n",
        "                    output_file = os.path.join(output_folder, f'image_{i}_{j}.png')\n",
        "                    image.save(output_file)\n",
        "                else:\n",
        "                    raise ValueError(\"Input file must have 1 or 3 bands.\")\n",
        "\n",
        "        return height, width"
      ],
      "metadata": {
        "id": "be_Oxa60Y6Nh"
      },
      "execution_count": 41,
      "outputs": []
    },
    {
      "cell_type": "code",
      "source": [
        "# Calculate the values for bigmin and bigmax for a 3 bands image. These values will be used to rescale the image to 8bits, considering the min and max values\n",
        "def calculate_bigmin_bigmax (input_file):\n",
        "  # Load the TIFF image\n",
        "  image = tiff.imread(input_file)\n",
        "\n",
        "  # Calculate bigmin and bigmax based on percentiles or other criteria\n",
        "  bigmin = np.percentile(image, 1)  # 1st percentile\n",
        "  bigmax = np.percentile(image, 99)  # 99th percentile\n",
        "  #print(\"bigmin:\", bigmin)\n",
        "  #print(\"bigmax:\", bigmax)\n",
        "\n",
        "  return bigmin, bigmax"
      ],
      "metadata": {
        "id": "LBUsUhzRlx-A"
      },
      "execution_count": 42,
      "outputs": []
    },
    {
      "cell_type": "code",
      "source": [
        "# Function to rescale an RGB tif to 8 bits\n",
        "def rescale_to_8bits(arr, bigmin, bigmax):\n",
        "  # Clip values to the specified range [bigmin, bigmax]\n",
        "  arr = np.clip(arr, bigmin, bigmax)\n",
        "  # Scale the values to the 0-255 range\n",
        "  arr_scaled = (arr - bigmin) / (bigmax - bigmin) * 255\n",
        "  # Convert to 8-bit unsigned integer\n",
        "  arr_std = arr_scaled.astype(np.uint8)\n",
        "\n",
        "  return arr_std"
      ],
      "metadata": {
        "id": "wGLbneBbghgm"
      },
      "execution_count": 43,
      "outputs": []
    },
    {
      "cell_type": "code",
      "source": [
        "# Define the function to extract the row and column number from image file name\n",
        "def get_row_column_from_filename(filename):\n",
        "    filename = os.path.basename(filename)\n",
        "    parts = filename.split('_')\n",
        "    row = int(parts[1])\n",
        "    column = int(parts[2].split('.')[0])\n",
        "    return row, column"
      ],
      "metadata": {
        "id": "vZl3fLcu4jCz"
      },
      "execution_count": 44,
      "outputs": []
    },
    {
      "cell_type": "code",
      "source": [
        "# Get the clipped blocks from a image_folder\n",
        "def get_items(image_folder):\n",
        "    image_files = get_image_files(image_folder)\n",
        "    return image_files\n",
        "\n",
        "def get_mask_fn(image_file):\n",
        "    #return mask_folder / f'{image_file.stem}_mask.png'\n",
        "    return os.path.join(label_folder, f'{image_file.stem}_mask.png')"
      ],
      "metadata": {
        "id": "8nGEV9Zo4mef"
      },
      "execution_count": 45,
      "outputs": []
    },
    {
      "cell_type": "code",
      "source": [
        "# Display sample of predictions\n",
        "def sample_preds (preds, sample_idx):\n",
        "  # Display sample predictions\n",
        "  #sample_idx = 0\n",
        "  sample_image_path = list(test_dl.items)[sample_idx]\n",
        "  sample_image = PILImage.create(sample_image_path)\n",
        "  sample_pred = preds[0][sample_idx].argmax(dim=0).numpy()\n",
        "\n",
        "  sample_image.show()\n",
        "  TensorImage(sample_pred).show(cmap='tab20')"
      ],
      "metadata": {
        "id": "vXu1149ntv_E"
      },
      "execution_count": 46,
      "outputs": []
    },
    {
      "cell_type": "markdown",
      "source": [
        "## Save and merge blocks"
      ],
      "metadata": {
        "id": "euU7smUL7gK7"
      }
    },
    {
      "cell_type": "code",
      "source": [
        "# Create predicted mask for each of the blocks\n",
        "# Save the predicted mask images (png) according to their row and column number\n",
        "def create_predited_mask(image_folder,learn,predicted_folder):\n",
        "  test_dl = dls.test_dl(get_image_files(image_folder)) # usa todas as 160 imagens em image_folder, treino e validação\n",
        "  preds = learn.get_preds(dl=test_dl)[0]\n",
        "  for idx, pred in enumerate(preds):\n",
        "      # Get the row and column number from the test image file name\n",
        "      sample_image_path = list(test_dl.items)[idx]\n",
        "      row, column = get_row_column_from_filename(sample_image_path)\n",
        "\n",
        "      # Create a folder for each row if it doesn't exist\n",
        "      folder = os.path.join(predicted_folder)\n",
        "      os.makedirs(folder, exist_ok=True)\n",
        "\n",
        "      # Create a filename for the predicted mask image\n",
        "      predicted_filename = f'image_{row}_{column}_predicted.png'\n",
        "      predicted_filepath = os.path.join(folder, predicted_filename)\n",
        "\n",
        "      # Convert the predicted mask to a PIL Image\n",
        "      sample_pred = pred.argmax(dim=0).numpy()\n",
        "      predicted_image = Image.fromarray((sample_pred * 255).astype(np.uint8))\n",
        "\n",
        "      # Save the predicted mask image\n",
        "      predicted_image.save(predicted_filepath)"
      ],
      "metadata": {
        "id": "uzDnSpT_Ypc5"
      },
      "execution_count": 47,
      "outputs": []
    },
    {
      "cell_type": "code",
      "source": [
        "# Count the number of bands in a PNG image\n",
        "def count_bands(image_file):\n",
        "    with Image.open(image_file) as img:\n",
        "        return img.mode"
      ],
      "metadata": {
        "id": "WWgdmb4HbRXn"
      },
      "execution_count": 48,
      "outputs": []
    },
    {
      "cell_type": "code",
      "source": [
        "def merge_blocks(input_folder, folder_name, output_filename, Nrows, Ncols, width, height):\n",
        "  if folder_name == 'labels':\n",
        "    # Count the number of bands in the first image to determine the mode\n",
        "    sample_image = os.path.join(input_folder, f'image_0_0_mask.png')\n",
        "    Nbands = len(count_bands(sample_image))\n",
        "  elif folder_name == 'predicted':\n",
        "    sample_image = os.path.join(input_folder, f'image_0_0_predicted.png')\n",
        "    Nbands = len(count_bands(sample_image))\n",
        "  elif folder_name == 'images':\n",
        "    sample_image = os.path.join(input_folder, f'image_0_0.png')\n",
        "    Nbands = len(count_bands(sample_image))\n",
        "\n",
        "  rows, columns = Nrows, Ncols  # Number of rows and columns in the grid\n",
        "  merged_width = width * columns\n",
        "  merged_height = height * rows\n",
        "\n",
        "  if Nbands == 1:\n",
        "      merged_image = Image.new('L', (merged_width, merged_height))  # Use 'L' mode for grayscale images\n",
        "  elif Nbands == 3:\n",
        "      merged_image = Image.new('RGB', (merged_width, merged_height))\n",
        "  else:\n",
        "      raise ValueError(\"Input must have 1 or 3 bands.\")\n",
        "\n",
        "  # Loop through each row and column to merge the images\n",
        "  for i in range(rows):\n",
        "      for j in range(columns):\n",
        "          if folder_name == 'labels':\n",
        "              # Load the label mask image and paste it as is (no conversion needed)\n",
        "              label_file = os.path.join(input_folder, f'image_{i}_{j}_mask.png')\n",
        "              label_image = Image.open(label_file)\n",
        "              merged_image.paste(label_image, (j * width, i * height))\n",
        "          elif folder_name == 'predicted':\n",
        "              # Load the predicted mask image\n",
        "              predicted_file = os.path.join(input_folder, f'image_{i}_{j}_predicted.png')\n",
        "              #predicted_file = os.path.join(input_folder, f'image_{i}_{j}.png')\n",
        "              predicted_image = Image.open(predicted_file)\n",
        "              merged_image.paste(predicted_image, (j * width, i * height))\n",
        "          elif folder_name == 'images':\n",
        "              # Load the predicted mask image\n",
        "              image_file = os.path.join(input_folder, f'image_{i}_{j}.png')\n",
        "              image = Image.open(image_file)\n",
        "              merged_image.paste(image, (j * width, i * height))\n",
        "\n",
        "  # Save the merged image\n",
        "  merged_output_file = os.path.join(directory, output_filename)\n",
        "  merged_image.save(merged_output_file)"
      ],
      "metadata": {
        "id": "041Yk6FubXAj"
      },
      "execution_count": 49,
      "outputs": []
    },
    {
      "cell_type": "markdown",
      "source": [
        "## Display errors and examples"
      ],
      "metadata": {
        "id": "Nfb7vwnL7nDN"
      }
    },
    {
      "cell_type": "code",
      "source": [
        "# Calculate pixel-wise errors and store them in a dictionary\n",
        "# uses the test dataset, and displays the top 5 images where the error is higher (image and respective label, predicted label, and difference between them)\n",
        "def pixel_wise_errors (test_file_names, label_folder, predicted_folder, image_folder):\n",
        "  errors = {}\n",
        "  for file_name in test_file_names:\n",
        "      # Load the ground truth mask for the sample from the \"labels\" folder\n",
        "      row, column = get_row_column_from_filename(file_name)\n",
        "      mask_file = os.path.join(label_folder, f'image_{row}_{column}_mask.png')\n",
        "      true_mask = np.array(Image.open(mask_file))\n",
        "\n",
        "      # Load the predicted mask for the sample from the \"predicted\" folder\n",
        "      predicted_file = os.path.join(predicted_folder, f'image_{row}_{column}_predicted.png')\n",
        "      pred_mask = np.array(Image.open(predicted_file))\n",
        "\n",
        "      # Calculate the pixel-wise error between the true mask and predicted mask\n",
        "      error = np.sum(np.abs(true_mask - pred_mask))\n",
        "      errors[file_name] = error\n",
        "\n",
        "  # Sort the blocks by error in descending order\n",
        "  sorted_errors = {k: v for k, v in sorted(errors.items(), key=lambda item: item[1], reverse=True)}\n",
        "\n",
        "  # Get the file names of the blocks with the highest errors\n",
        "  top_5_blocks = list(sorted_errors.keys())[:5]\n",
        "\n",
        "  # Display the top 5 blocks with the highest errors\n",
        "  num_columns = 4\n",
        "\n",
        "  fig, axes = plt.subplots(len(top_5_blocks), num_columns, figsize=(20, 5 * len(top_5_blocks)))\n",
        "\n",
        "  for i, file_name in enumerate(top_5_blocks):\n",
        "      sample_image_path = os.path.join(image_folder, file_name)\n",
        "      sample_image = PILImage.create(sample_image_path)\n",
        "\n",
        "      # Load the ground truth mask for the sample from the \"labels1\" folder\n",
        "      row, column = get_row_column_from_filename(file_name)\n",
        "      mask_file = os.path.join(label_folder, f'image_{row}_{column}_mask.png')\n",
        "      true_mask = np.array(Image.open(mask_file))\n",
        "\n",
        "      # Load the predicted mask for the sample from the \"predicted\" folder\n",
        "      predicted_file = os.path.join(predicted_folder, f'image_{row}_{column}_predicted.png')\n",
        "      pred_mask = np.array(Image.open(predicted_file))\n",
        "\n",
        "      # Display the satellite aggregate image with file name as title\n",
        "      axes[i, 0].imshow(sample_image)\n",
        "      # Add the line below to set the title\n",
        "      axes[i, 0].set_title(str(file_name) + \" (Error: \" + str(errors[file_name]) + \")\")\n",
        "      #axes[i, 0].set_title(file_name + \" (Error: \" + str(errors[file_name]) + \")\")\n",
        "      axes[i, 0].axis('off')\n",
        "\n",
        "      # Display the true mask\n",
        "      axes[i, 1].imshow(true_mask, cmap='gray')\n",
        "      axes[i, 1].set_title('True Mask')\n",
        "      axes[i, 1].axis('off')\n",
        "\n",
        "      # Display the predicted mask\n",
        "      axes[i, 2].imshow(pred_mask, cmap='tab20')\n",
        "      axes[i, 2].set_title('Predicted Mask')\n",
        "      axes[i, 2].axis('off')\n",
        "\n",
        "      # Display the difference between true and predicted masks\n",
        "      difference_mask = true_mask - pred_mask\n",
        "      axes[i, 3].imshow(difference_mask, cmap='coolwarm', vmin=-1, vmax=1)\n",
        "      axes[i, 3].set_title('Difference')\n",
        "      axes[i, 3].axis('off')\n",
        "\n",
        "  plt.tight_layout()\n",
        "  plt.show()"
      ],
      "metadata": {
        "id": "nZ7OeLALFd3Z"
      },
      "execution_count": 50,
      "outputs": []
    },
    {
      "cell_type": "code",
      "source": [
        "# Displays 6 examples of images and their respective labels and predicted labels\n",
        "def display_images(directory, image_folder, label_folder, predicted_folder, preds):\n",
        "    preds = learn.get_preds(dl=dls.valid)[0]\n",
        "    # Display sample predictions using file names of test_set\n",
        "    sample_files = [Path(file_path).name for file_path in test_file_names]\n",
        "\n",
        "    # Slice the sample_files list to include only the first 6 samples\n",
        "    sample_files = sample_files[:6]\n",
        "\n",
        "    # Define the number of columns (including both true and predicted masks)\n",
        "    num_columns = 3\n",
        "\n",
        "    fig, axes = plt.subplots(len(sample_files), num_columns, figsize=(15, 5 * len(sample_files)))\n",
        "\n",
        "    for i, file_name in enumerate(sample_files):\n",
        "        sample_image_path = os.path.join(image_folder, file_name)\n",
        "        sample_image = PILImage.create(sample_image_path)\n",
        "        sample_pred = preds[i].argmax(dim=0).numpy()\n",
        "\n",
        "        # Load the ground truth mask for the sample from the \"labels\" folder\n",
        "        row, column = get_row_column_from_filename(file_name)\n",
        "        mask_file = os.path.join(label_folder, f'image_{row}_{column}_mask.png')\n",
        "        true_mask = np.array(Image.open(mask_file))\n",
        "\n",
        "        # Load the predicted mask for the sample from the \"predicted\" folder\n",
        "        predicted_file = os.path.join(predicted_folder, f'image_{row}_{column}_predicted.png')\n",
        "        pred_mask = np.array(Image.open(predicted_file))\n",
        "\n",
        "        # image of satellite aggregate\n",
        "        axes[i, 0].imshow(sample_image)\n",
        "        axes[i, 0].set_title('Image')\n",
        "        axes[i, 0].axis('off')\n",
        "\n",
        "        # image of true mask\n",
        "        axes[i, 1].imshow(true_mask, cmap='gray')\n",
        "        axes[i, 1].set_title(file_name + \" True mask\")\n",
        "        axes[i, 1].axis('off')\n",
        "\n",
        "        # image of predicted mask\n",
        "        axes[i, 2].imshow(pred_mask, cmap='tab20')\n",
        "        axes[i, 2].set_title(file_name + \" Predicted mask\")\n",
        "        axes[i, 2].axis('off')\n",
        "\n",
        "    plt.tight_layout()\n",
        "    plt.show()\n"
      ],
      "metadata": {
        "id": "0oYnc5oM5wsP"
      },
      "execution_count": 51,
      "outputs": []
    },
    {
      "cell_type": "markdown",
      "source": [
        "## Model accuracy"
      ],
      "metadata": {
        "id": "iQ_vaMXL715X"
      }
    },
    {
      "cell_type": "code",
      "source": [
        "#Converts the true and predicted mask to flat arrays. These will be used to calculate the confusion matrix\n",
        "def true_and_pred_mask_to_1D_numpy (dls, preds):\n",
        "  true_masks = [y for _, y in dls.valid] # Get the ground truth masks for the test set\n",
        "  true_masks = torch.cat(true_masks).cpu().numpy() # Convert the list of true masks to a numpy array\n",
        "  true_masks_flat = true_masks.ravel() # Flatten the masks to be 1D arrays\n",
        "  predicted_masks = preds.argmax(dim=1).numpy() # Convert the predicted masks to a numpy array\n",
        "  predicted_masks_flat = predicted_masks.ravel() # Flatten the masks to be 1D arrays\n",
        "  return true_masks_flat, predicted_masks_flat"
      ],
      "metadata": {
        "id": "G6nx-R7XxTr8"
      },
      "execution_count": 52,
      "outputs": []
    },
    {
      "cell_type": "code",
      "source": [
        "# Calculate model accuracy on test dataset\n",
        "def model_accuracy(true_masks_flat, predicted_masks_flat):\n",
        "    # Calculate the total number of pixels\n",
        "    total_pixels = len(true_masks_flat)\n",
        "\n",
        "    # Calculate the number of correctly predicted pixels (True Positives + True Negatives)\n",
        "    correct_pixels = np.sum(true_masks_flat == predicted_masks_flat)\n",
        "\n",
        "    # Calculate the model accuracy\n",
        "    accuracy = correct_pixels / total_pixels\n",
        "\n",
        "    return accuracy"
      ],
      "metadata": {
        "id": "wfNAskwSLdP-"
      },
      "execution_count": 53,
      "outputs": []
    },
    {
      "cell_type": "code",
      "source": [
        "# Convert to grayscale and resize the predicted PNG mask to the same size as the label PNG\n",
        "def convert_and_resize_pred_mask (input_folder, output_filename, input_filename):\n",
        "  predicted_mask = Image.open(os.path.join(input_folder, input_filename))# Load the predicted PNG mask\n",
        "  predicted_mask = predicted_mask.convert('L')# Convert the predicted mask to grayscale\n",
        "  predicted_mask = predicted_mask.resize(ground_truth_mask.shape[::-1], Image.ANTIALIAS)# Resize the predicted mask to match the dimensions of the ground truth mask\n",
        "  resized_predicted_mask = np.array(predicted_mask)# Convert to a NumPy array\n",
        "  # Save the merged image\n",
        "  #resized_predicted_mask = os.path.join(directory, output_filename)\n",
        "  #Image.fromarray(resized_predicted_mask).save(resized_predicted_mask)\n",
        "  return resized_predicted_mask"
      ],
      "metadata": {
        "id": "N9g30cB15sgv"
      },
      "execution_count": 54,
      "outputs": []
    },
    {
      "cell_type": "code",
      "source": [
        "# Calculate, store and display the comission and omission errors based on the ground_truth_mask and resized_predicted_mask\n",
        "def comission_omission_erros (ground_truth_mask, resized_predicted_mask, output_folder, output_filename):\n",
        "  aligned_predicted_mask = np.array(resized_predicted_mask)# Create an aligned predicted mask with the same values as the ground truth mask\n",
        "  commission_errors = (aligned_predicted_mask == 1) & (ground_truth_mask == 0)# Identify commission errors (false positives)\n",
        "  omission_errors = (aligned_predicted_mask == 0) & (ground_truth_mask == 1)# Identify omission errors (false negatives)\n",
        "  correct_identifications = (aligned_predicted_mask == ground_truth_mask)# Mark correct identifications in green\n",
        "  merged_image = np.zeros((ground_truth_mask.shape[0], ground_truth_mask.shape[1], 3), dtype=np.uint8)# Create a merged image for visualization\n",
        "  merged_image[correct_identifications] = [0, 255, 0]  # Green color\n",
        "  merged_image[commission_errors] = [255, 255, 0]  # Yellow color # Mark commission errors (false positives) in yellow\n",
        "  merged_image[omission_errors] = [255, 0, 0]  # Red color# Mark omission errors (false negatives) in red\n",
        "\n",
        "  # Display the merged image\n",
        "  plt.figure(figsize=(8, 6))\n",
        "  plt.imshow(merged_image)\n",
        "  plt.axis('off')\n",
        "  plt.title('Merged Image with Correct Identifications (Green), Commission (Yellow), and Omission (Red) Errors')\n",
        "  plt.show()\n",
        "\n",
        "  # Save the merged image\n",
        "  merged_output_file = os.path.join(directory, output_filename)\n",
        "  plt.imsave(merged_output_file, merged_image)"
      ],
      "metadata": {
        "id": "4gc-nNdmMiqV"
      },
      "execution_count": 55,
      "outputs": []
    },
    {
      "cell_type": "markdown",
      "source": [
        "## Display and convert pixel values in PNG images"
      ],
      "metadata": {
        "id": "OlPuhGPH7wWd"
      }
    },
    {
      "cell_type": "code",
      "source": [
        "# function to replace a pixel value in a PNG image. the output is another PNG with the changes pixelvalues\n",
        "def convert_values_png (input_file, output_file, pixelvalue):\n",
        "  # Load the PNG image\n",
        "  #input_file = os.path.join(directory, 'merged_predicted_labels.png')\n",
        "  #output_file = os.path.join(directory, 'merged_predicted_labels_converted.png')\n",
        "  image = Image.open(input_file)\n",
        "\n",
        "  # Convert the image to grayscale (optional, depending on your input)\n",
        "  image = image.convert('L')\n",
        "\n",
        "  # Create a new image to store the modified pixels\n",
        "  new_image = Image.new('L', image.size)\n",
        "\n",
        "  # Iterate over the pixels and replace 255 with 1, leaving other values as 0\n",
        "  for x in range(image.width):\n",
        "      for y in range(image.height):\n",
        "          pixel_value = image.getpixel((x, y))\n",
        "          if pixel_value == pixelvalue:\n",
        "              new_image.putpixel((x, y), 1)\n",
        "          else:\n",
        "              new_image.putpixel((x, y), 0)\n",
        "\n",
        "  # Save the modified image\n",
        "  new_image.save(output_file)\n",
        "\n",
        "  print(\"Image processing complete. Saved as\", output_file)"
      ],
      "metadata": {
        "id": "-CUdRsa8OiEY"
      },
      "execution_count": 56,
      "outputs": []
    },
    {
      "cell_type": "markdown",
      "source": [
        "# **Images Pre-processing**"
      ],
      "metadata": {
        "id": "3cK-gDW-LPAE"
      }
    },
    {
      "cell_type": "markdown",
      "source": [
        "## Clip and saturate tiff files"
      ],
      "metadata": {
        "id": "0MQinlXY96G2"
      }
    },
    {
      "cell_type": "markdown",
      "source": [
        "Clip all the bands (B2,B3,B4,B8) to the same extent. Calculate bigmin and bigmax for each band and saturate accordingly"
      ],
      "metadata": {
        "id": "xaLkRvI_9XhA"
      }
    },
    {
      "cell_type": "code",
      "source": [
        "clip_tiff_by_extent(os.path.join(directory, 'S2A_long_9_lat_38_B2_2022_7_23.tif'), os.path.join(directory, 'S2A_long_9_lat_38_B2_2022_7_23_clipped.tif'), (518260, 4144530, 522870, 4156270))\n",
        "clip_tiff_by_extent(os.path.join(directory, 'S2A_long_9_lat_38_B3_2022_7_23.tif'), os.path.join(directory, 'S2A_long_9_lat_38_B3_2022_7_23_clipped.tif'), (518260, 4144530, 522870, 4156270))\n",
        "clip_tiff_by_extent(os.path.join(directory, 'S2A_long_9_lat_38_B4_2022_7_23.tif'), os.path.join(directory, 'S2A_long_9_lat_38_B4_2022_7_23_clipped.tif'), (518260, 4144530, 522870, 4156270))\n",
        "clip_tiff_by_extent(os.path.join(directory, 'S2A_long_9_lat_38_B8_2022_7_23.tif'), os.path.join(directory, 'S2A_long_9_lat_38_B8_2022_7_23_clipped.tif'), (518260, 4144530, 522870, 4156270))"
      ],
      "metadata": {
        "id": "TGYjpjZinnj7"
      },
      "execution_count": 138,
      "outputs": []
    },
    {
      "cell_type": "code",
      "source": [
        "satu_tiff(os.path.join(directory,'S2A_long_9_lat_38_B2_2022_7_23_clipped.tif'), os.path.join(directory, 'S2A_long_9_lat_38_B2_2022_7_23_saturated.tif'))\n",
        "satu_tiff(os.path.join(directory,'S2A_long_9_lat_38_B3_2022_7_23_clipped.tif'), os.path.join(directory, 'S2A_long_9_lat_38_B3_2022_7_23_saturated.tif'))\n",
        "satu_tiff(os.path.join(directory,'S2A_long_9_lat_38_B4_2022_7_23_clipped.tif'), os.path.join(directory, 'S2A_long_9_lat_38_B4_2022_7_23_saturated.tif'))\n",
        "satu_tiff(os.path.join(directory,'S2A_long_9_lat_38_B8_2022_7_23_clipped.tif'), os.path.join(directory, 'S2A_long_9_lat_38_B8_2022_7_23_saturated.tif'))"
      ],
      "metadata": {
        "id": "49QoE32Kwdw2"
      },
      "execution_count": 139,
      "outputs": []
    },
    {
      "cell_type": "markdown",
      "source": [
        "## NDVI, RPGI and albedo"
      ],
      "metadata": {
        "id": "fMJAO2ir9_dl"
      }
    },
    {
      "cell_type": "code",
      "source": [
        "blue_file= os.path.join(directory,'S2A_long_9_lat_38_B2_2022_7_23_saturated.tif')\n",
        "green_file= os.path.join(directory,'S2A_long_9_lat_38_B3_2022_7_23_saturated.tif')\n",
        "red_file= os.path.join(directory,'S2A_long_9_lat_38_B4_2022_7_23_saturated.tif')\n",
        "nir_file= os.path.join(directory,'S2A_long_9_lat_38_B8_2022_7_23_saturated.tif')"
      ],
      "metadata": {
        "id": "VRu5LvyJ2PvH"
      },
      "execution_count": 140,
      "outputs": []
    },
    {
      "cell_type": "code",
      "source": [
        "calculate_ndvi(red_file, nir_file, os.path.join(directory,'output_ndvi.tif'))"
      ],
      "metadata": {
        "id": "lxvDFceo_MUX"
      },
      "execution_count": 141,
      "outputs": []
    },
    {
      "cell_type": "code",
      "source": [
        "calculate_rpgi(blue_file, green_file, nir_file, os.path.join(directory,'output_rpgi.tif'))"
      ],
      "metadata": {
        "id": "Fh6sMmSVUjSQ"
      },
      "execution_count": 147,
      "outputs": []
    },
    {
      "cell_type": "code",
      "source": [
        "calculate_albedo(blue_file, green_file, red_file, os.path.join(directory,'output_albedo.tif'))"
      ],
      "metadata": {
        "id": "-19wrR3qYpi6"
      },
      "execution_count": 149,
      "outputs": []
    },
    {
      "cell_type": "code",
      "source": [
        "# onde colocar estas variaveis?\n",
        "ndvi_file = os.path.join(directory,'output_ndvi.tif')\n",
        "rpgi_file = os.path.join(directory,'output_rpgi.tif')\n",
        "albedo_file = os.path.join(directory,'output_albedo.tif')"
      ],
      "metadata": {
        "id": "ne8oqxkRdcGw"
      },
      "execution_count": 150,
      "outputs": []
    },
    {
      "cell_type": "code",
      "source": [
        "calculate_ndvi_rpgi_albedo(ndvi_file, rpgi_file, albedo_file, os.path.join(directory, 'output_ndvi_rpgi_albedo.tif'))"
      ],
      "metadata": {
        "id": "rUBk51zy-O9f"
      },
      "execution_count": 164,
      "outputs": []
    },
    {
      "cell_type": "markdown",
      "source": [
        "First, display the unique pixel values and check for the NODATA value.\n",
        "Convert that value into 0 and check the created tiff file"
      ],
      "metadata": {
        "id": "3g5s_uZVPe8l"
      }
    },
    {
      "cell_type": "code",
      "source": [
        "display_unique_values_tiff_file(os.path.join(directory, 'mask_3763_reclass.tif'))"
      ],
      "metadata": {
        "id": "d4YPqIsFfoUv"
      },
      "execution_count": null,
      "outputs": []
    },
    {
      "cell_type": "code",
      "source": [
        "convert_nodata_values (-3.40282e+38, os.path.join(directory, 'mask_3763_reclass.tif'), os.path.join(directory, 'mask_3763_reclass_bin.tif'))"
      ],
      "metadata": {
        "id": "x8kTcmBzdlI0"
      },
      "execution_count": null,
      "outputs": []
    },
    {
      "cell_type": "code",
      "source": [
        "display_unique_values_tiff_file(os.path.join(directory, 'mask_3763_reclass_bin.tif'))"
      ],
      "metadata": {
        "id": "8FhZjcdDe-cO"
      },
      "execution_count": null,
      "outputs": []
    },
    {
      "cell_type": "code",
      "source": [
        "display_tiff_file (os.path.join(directory, 'mask_3763_reclass_bin.tif'))"
      ],
      "metadata": {
        "id": "pWUqnuOGeYNH"
      },
      "execution_count": null,
      "outputs": []
    },
    {
      "cell_type": "code",
      "source": [
        "# Calculate bigmin and bigmax. use this values to convert the RGB image to 8bits\n",
        "bigmin, bigmax = calculate_bigmin_bigmax (os.path.join(directory, '3bands_clipped_tif.tif'))"
      ],
      "metadata": {
        "id": "BDrFy8ginYIJ"
      },
      "execution_count": 61,
      "outputs": []
    },
    {
      "cell_type": "markdown",
      "source": [
        "# **Main Execution**"
      ],
      "metadata": {
        "id": "-mtbNEyy13EK"
      }
    },
    {
      "cell_type": "code",
      "source": [
        "# Clip and rescale label images\n",
        "clip_raster_and_rescale(os.path.join(directory, 'mask_3763_reclass_bin.tif'), label_folder, Nrows, Ncols)\n",
        "\n",
        "# Clip and rescale image bands acording to bigmin and bigmax\n",
        "height, width = clip_raster_and_rescale(os.path.join(directory, '3bands_clipped_tif.tif'), image_folder, Nrows, Ncols)\n"
      ],
      "metadata": {
        "id": "bbh6Po2i11FR",
        "outputId": "6fc60f05-ef04-46b8-ac0d-df504a44fe44",
        "colab": {
          "base_uri": "https://localhost:8080/",
          "height": 443
        }
      },
      "execution_count": 165,
      "outputs": [
        {
          "output_type": "error",
          "ename": "TypeError",
          "evalue": "ignored",
          "traceback": [
            "\u001b[0;31m---------------------------------------------------------------------------\u001b[0m",
            "\u001b[0;31mTypeError\u001b[0m                                 Traceback (most recent call last)",
            "\u001b[0;32m/usr/local/lib/python3.10/dist-packages/numpy/core/fromnumeric.py\u001b[0m in \u001b[0;36m_wrapfunc\u001b[0;34m(obj, method, *args, **kwds)\u001b[0m\n\u001b[1;32m     56\u001b[0m     \u001b[0;32mtry\u001b[0m\u001b[0;34m:\u001b[0m\u001b[0;34m\u001b[0m\u001b[0;34m\u001b[0m\u001b[0m\n\u001b[0;32m---> 57\u001b[0;31m         \u001b[0;32mreturn\u001b[0m \u001b[0mbound\u001b[0m\u001b[0;34m(\u001b[0m\u001b[0;34m*\u001b[0m\u001b[0margs\u001b[0m\u001b[0;34m,\u001b[0m \u001b[0;34m**\u001b[0m\u001b[0mkwds\u001b[0m\u001b[0;34m)\u001b[0m\u001b[0;34m\u001b[0m\u001b[0;34m\u001b[0m\u001b[0m\n\u001b[0m\u001b[1;32m     58\u001b[0m     \u001b[0;32mexcept\u001b[0m \u001b[0mTypeError\u001b[0m\u001b[0;34m:\u001b[0m\u001b[0;34m\u001b[0m\u001b[0;34m\u001b[0m\u001b[0m\n",
            "\u001b[0;32m/usr/local/lib/python3.10/dist-packages/numpy/core/_methods.py\u001b[0m in \u001b[0;36m_clip\u001b[0;34m(a, min, max, out, casting, **kwargs)\u001b[0m\n\u001b[1;32m    159\u001b[0m     \u001b[0;32melse\u001b[0m\u001b[0;34m:\u001b[0m\u001b[0;34m\u001b[0m\u001b[0;34m\u001b[0m\u001b[0m\n\u001b[0;32m--> 160\u001b[0;31m         return _clip_dep_invoke_with_casting(\n\u001b[0m\u001b[1;32m    161\u001b[0m             um.clip, a, min, max, out=out, casting=casting, **kwargs)\n",
            "\u001b[0;32m/usr/local/lib/python3.10/dist-packages/numpy/core/_methods.py\u001b[0m in \u001b[0;36m_clip_dep_invoke_with_casting\u001b[0;34m(ufunc, out, casting, *args, **kwargs)\u001b[0m\n\u001b[1;32m    113\u001b[0m     \u001b[0;32mtry\u001b[0m\u001b[0;34m:\u001b[0m\u001b[0;34m\u001b[0m\u001b[0;34m\u001b[0m\u001b[0m\n\u001b[0;32m--> 114\u001b[0;31m         \u001b[0;32mreturn\u001b[0m \u001b[0mufunc\u001b[0m\u001b[0;34m(\u001b[0m\u001b[0;34m*\u001b[0m\u001b[0margs\u001b[0m\u001b[0;34m,\u001b[0m \u001b[0mout\u001b[0m\u001b[0;34m=\u001b[0m\u001b[0mout\u001b[0m\u001b[0;34m,\u001b[0m \u001b[0;34m**\u001b[0m\u001b[0mkwargs\u001b[0m\u001b[0;34m)\u001b[0m\u001b[0;34m\u001b[0m\u001b[0;34m\u001b[0m\u001b[0m\n\u001b[0m\u001b[1;32m    115\u001b[0m     \u001b[0;32mexcept\u001b[0m \u001b[0m_exceptions\u001b[0m\u001b[0;34m.\u001b[0m\u001b[0m_UFuncOutputCastingError\u001b[0m \u001b[0;32mas\u001b[0m \u001b[0me\u001b[0m\u001b[0;34m:\u001b[0m\u001b[0;34m\u001b[0m\u001b[0;34m\u001b[0m\u001b[0m\n",
            "\u001b[0;31mTypeError\u001b[0m: '>=' not supported between instances of 'float' and 'function'",
            "\nDuring handling of the above exception, another exception occurred:\n",
            "\u001b[0;31mTypeError\u001b[0m                                 Traceback (most recent call last)",
            "\u001b[0;32m<ipython-input-165-a3823c8c7d46>\u001b[0m in \u001b[0;36m<cell line: 5>\u001b[0;34m()\u001b[0m\n\u001b[1;32m      3\u001b[0m \u001b[0;34m\u001b[0m\u001b[0m\n\u001b[1;32m      4\u001b[0m \u001b[0;31m# Clip and rescale image bands acording to bigmin and bigmax\u001b[0m\u001b[0;34m\u001b[0m\u001b[0;34m\u001b[0m\u001b[0m\n\u001b[0;32m----> 5\u001b[0;31m \u001b[0mheight\u001b[0m\u001b[0;34m,\u001b[0m \u001b[0mwidth\u001b[0m \u001b[0;34m=\u001b[0m \u001b[0mclip_raster_and_rescale\u001b[0m\u001b[0;34m(\u001b[0m\u001b[0mos\u001b[0m\u001b[0;34m.\u001b[0m\u001b[0mpath\u001b[0m\u001b[0;34m.\u001b[0m\u001b[0mjoin\u001b[0m\u001b[0;34m(\u001b[0m\u001b[0mdirectory\u001b[0m\u001b[0;34m,\u001b[0m \u001b[0;34m'output_ndvi_rpgi_albedo.tif'\u001b[0m\u001b[0;34m)\u001b[0m\u001b[0;34m,\u001b[0m \u001b[0mimage_folder\u001b[0m\u001b[0;34m,\u001b[0m \u001b[0mNrows\u001b[0m\u001b[0;34m,\u001b[0m \u001b[0mNcols\u001b[0m\u001b[0;34m)\u001b[0m\u001b[0;34m\u001b[0m\u001b[0;34m\u001b[0m\u001b[0m\n\u001b[0m",
            "\u001b[0;32m<ipython-input-41-a385e3df448f>\u001b[0m in \u001b[0;36mclip_raster_and_rescale\u001b[0;34m(input_file, output_folder, Nrows, Ncols)\u001b[0m\n\u001b[1;32m     27\u001b[0m                         \u001b[0mdst\u001b[0m\u001b[0;34m.\u001b[0m\u001b[0mwrite\u001b[0m\u001b[0;34m(\u001b[0m\u001b[0mclipped_data\u001b[0m\u001b[0;34m)\u001b[0m\u001b[0;34m\u001b[0m\u001b[0;34m\u001b[0m\u001b[0m\n\u001b[1;32m     28\u001b[0m                 \u001b[0;32melif\u001b[0m \u001b[0mNbands\u001b[0m \u001b[0;34m==\u001b[0m \u001b[0;36m3\u001b[0m\u001b[0;34m:\u001b[0m\u001b[0;34m\u001b[0m\u001b[0;34m\u001b[0m\u001b[0m\n\u001b[0;32m---> 29\u001b[0;31m                     \u001b[0mclipped_data_1\u001b[0m \u001b[0;34m=\u001b[0m \u001b[0mrescale_to_8bits\u001b[0m\u001b[0;34m(\u001b[0m\u001b[0msrc\u001b[0m\u001b[0;34m.\u001b[0m\u001b[0mread\u001b[0m\u001b[0;34m(\u001b[0m\u001b[0;36m1\u001b[0m\u001b[0;34m,\u001b[0m \u001b[0mwindow\u001b[0m\u001b[0;34m=\u001b[0m\u001b[0mwindow\u001b[0m\u001b[0;34m)\u001b[0m\u001b[0;34m,\u001b[0m \u001b[0mbigmin\u001b[0m\u001b[0;34m,\u001b[0m \u001b[0mbigmax\u001b[0m\u001b[0;34m)\u001b[0m\u001b[0;34m\u001b[0m\u001b[0;34m\u001b[0m\u001b[0m\n\u001b[0m\u001b[1;32m     30\u001b[0m                     \u001b[0mclipped_data_2\u001b[0m \u001b[0;34m=\u001b[0m \u001b[0mrescale_to_8bits\u001b[0m\u001b[0;34m(\u001b[0m\u001b[0msrc\u001b[0m\u001b[0;34m.\u001b[0m\u001b[0mread\u001b[0m\u001b[0;34m(\u001b[0m\u001b[0;36m2\u001b[0m\u001b[0;34m,\u001b[0m \u001b[0mwindow\u001b[0m\u001b[0;34m=\u001b[0m\u001b[0mwindow\u001b[0m\u001b[0;34m)\u001b[0m\u001b[0;34m,\u001b[0m \u001b[0mbigmin\u001b[0m\u001b[0;34m,\u001b[0m \u001b[0mbigmax\u001b[0m\u001b[0;34m)\u001b[0m\u001b[0;34m\u001b[0m\u001b[0;34m\u001b[0m\u001b[0m\n\u001b[1;32m     31\u001b[0m                     \u001b[0mclipped_data_3\u001b[0m \u001b[0;34m=\u001b[0m \u001b[0mrescale_to_8bits\u001b[0m\u001b[0;34m(\u001b[0m\u001b[0msrc\u001b[0m\u001b[0;34m.\u001b[0m\u001b[0mread\u001b[0m\u001b[0;34m(\u001b[0m\u001b[0;36m3\u001b[0m\u001b[0;34m,\u001b[0m \u001b[0mwindow\u001b[0m\u001b[0;34m=\u001b[0m\u001b[0mwindow\u001b[0m\u001b[0;34m)\u001b[0m\u001b[0;34m,\u001b[0m \u001b[0mbigmin\u001b[0m\u001b[0;34m,\u001b[0m \u001b[0mbigmax\u001b[0m\u001b[0;34m)\u001b[0m\u001b[0;34m\u001b[0m\u001b[0;34m\u001b[0m\u001b[0m\n",
            "\u001b[0;32m<ipython-input-43-9b63176c3283>\u001b[0m in \u001b[0;36mrescale_to_8bits\u001b[0;34m(arr, bigmin, bigmax)\u001b[0m\n\u001b[1;32m      2\u001b[0m \u001b[0;32mdef\u001b[0m \u001b[0mrescale_to_8bits\u001b[0m\u001b[0;34m(\u001b[0m\u001b[0marr\u001b[0m\u001b[0;34m,\u001b[0m \u001b[0mbigmin\u001b[0m\u001b[0;34m,\u001b[0m \u001b[0mbigmax\u001b[0m\u001b[0;34m)\u001b[0m\u001b[0;34m:\u001b[0m\u001b[0;34m\u001b[0m\u001b[0;34m\u001b[0m\u001b[0m\n\u001b[1;32m      3\u001b[0m   \u001b[0;31m# Clip values to the specified range [bigmin, bigmax]\u001b[0m\u001b[0;34m\u001b[0m\u001b[0;34m\u001b[0m\u001b[0m\n\u001b[0;32m----> 4\u001b[0;31m   \u001b[0marr\u001b[0m \u001b[0;34m=\u001b[0m \u001b[0mnp\u001b[0m\u001b[0;34m.\u001b[0m\u001b[0mclip\u001b[0m\u001b[0;34m(\u001b[0m\u001b[0marr\u001b[0m\u001b[0;34m,\u001b[0m \u001b[0mbigmin\u001b[0m\u001b[0;34m,\u001b[0m \u001b[0mbigmax\u001b[0m\u001b[0;34m)\u001b[0m\u001b[0;34m\u001b[0m\u001b[0;34m\u001b[0m\u001b[0m\n\u001b[0m\u001b[1;32m      5\u001b[0m   \u001b[0;31m# Scale the values to the 0-255 range\u001b[0m\u001b[0;34m\u001b[0m\u001b[0;34m\u001b[0m\u001b[0m\n\u001b[1;32m      6\u001b[0m   \u001b[0marr_scaled\u001b[0m \u001b[0;34m=\u001b[0m \u001b[0;34m(\u001b[0m\u001b[0marr\u001b[0m \u001b[0;34m-\u001b[0m \u001b[0mbigmin\u001b[0m\u001b[0;34m)\u001b[0m \u001b[0;34m/\u001b[0m \u001b[0;34m(\u001b[0m\u001b[0mbigmax\u001b[0m \u001b[0;34m-\u001b[0m \u001b[0mbigmin\u001b[0m\u001b[0;34m)\u001b[0m \u001b[0;34m*\u001b[0m \u001b[0;36m255\u001b[0m\u001b[0;34m\u001b[0m\u001b[0;34m\u001b[0m\u001b[0m\n",
            "\u001b[0;32m/usr/local/lib/python3.10/dist-packages/numpy/core/overrides.py\u001b[0m in \u001b[0;36mclip\u001b[0;34m(*args, **kwargs)\u001b[0m\n",
            "\u001b[0;32m/usr/local/lib/python3.10/dist-packages/numpy/core/fromnumeric.py\u001b[0m in \u001b[0;36mclip\u001b[0;34m(a, a_min, a_max, out, **kwargs)\u001b[0m\n\u001b[1;32m   2152\u001b[0m \u001b[0;34m\u001b[0m\u001b[0m\n\u001b[1;32m   2153\u001b[0m     \"\"\"\n\u001b[0;32m-> 2154\u001b[0;31m     \u001b[0;32mreturn\u001b[0m \u001b[0m_wrapfunc\u001b[0m\u001b[0;34m(\u001b[0m\u001b[0ma\u001b[0m\u001b[0;34m,\u001b[0m \u001b[0;34m'clip'\u001b[0m\u001b[0;34m,\u001b[0m \u001b[0ma_min\u001b[0m\u001b[0;34m,\u001b[0m \u001b[0ma_max\u001b[0m\u001b[0;34m,\u001b[0m \u001b[0mout\u001b[0m\u001b[0;34m=\u001b[0m\u001b[0mout\u001b[0m\u001b[0;34m,\u001b[0m \u001b[0;34m**\u001b[0m\u001b[0mkwargs\u001b[0m\u001b[0;34m)\u001b[0m\u001b[0;34m\u001b[0m\u001b[0;34m\u001b[0m\u001b[0m\n\u001b[0m\u001b[1;32m   2155\u001b[0m \u001b[0;34m\u001b[0m\u001b[0m\n\u001b[1;32m   2156\u001b[0m \u001b[0;34m\u001b[0m\u001b[0m\n",
            "\u001b[0;32m/usr/local/lib/python3.10/dist-packages/numpy/core/fromnumeric.py\u001b[0m in \u001b[0;36m_wrapfunc\u001b[0;34m(obj, method, *args, **kwds)\u001b[0m\n\u001b[1;32m     64\u001b[0m         \u001b[0;31m# Call _wrapit from within the except clause to ensure a potential\u001b[0m\u001b[0;34m\u001b[0m\u001b[0;34m\u001b[0m\u001b[0m\n\u001b[1;32m     65\u001b[0m         \u001b[0;31m# exception has a traceback chain.\u001b[0m\u001b[0;34m\u001b[0m\u001b[0;34m\u001b[0m\u001b[0m\n\u001b[0;32m---> 66\u001b[0;31m         \u001b[0;32mreturn\u001b[0m \u001b[0m_wrapit\u001b[0m\u001b[0;34m(\u001b[0m\u001b[0mobj\u001b[0m\u001b[0;34m,\u001b[0m \u001b[0mmethod\u001b[0m\u001b[0;34m,\u001b[0m \u001b[0;34m*\u001b[0m\u001b[0margs\u001b[0m\u001b[0;34m,\u001b[0m \u001b[0;34m**\u001b[0m\u001b[0mkwds\u001b[0m\u001b[0;34m)\u001b[0m\u001b[0;34m\u001b[0m\u001b[0;34m\u001b[0m\u001b[0m\n\u001b[0m\u001b[1;32m     67\u001b[0m \u001b[0;34m\u001b[0m\u001b[0m\n\u001b[1;32m     68\u001b[0m \u001b[0;34m\u001b[0m\u001b[0m\n",
            "\u001b[0;32m/usr/local/lib/python3.10/dist-packages/numpy/core/fromnumeric.py\u001b[0m in \u001b[0;36m_wrapit\u001b[0;34m(obj, method, *args, **kwds)\u001b[0m\n\u001b[1;32m     41\u001b[0m     \u001b[0;32mexcept\u001b[0m \u001b[0mAttributeError\u001b[0m\u001b[0;34m:\u001b[0m\u001b[0;34m\u001b[0m\u001b[0;34m\u001b[0m\u001b[0m\n\u001b[1;32m     42\u001b[0m         \u001b[0mwrap\u001b[0m \u001b[0;34m=\u001b[0m \u001b[0;32mNone\u001b[0m\u001b[0;34m\u001b[0m\u001b[0;34m\u001b[0m\u001b[0m\n\u001b[0;32m---> 43\u001b[0;31m     \u001b[0mresult\u001b[0m \u001b[0;34m=\u001b[0m \u001b[0mgetattr\u001b[0m\u001b[0;34m(\u001b[0m\u001b[0masarray\u001b[0m\u001b[0;34m(\u001b[0m\u001b[0mobj\u001b[0m\u001b[0;34m)\u001b[0m\u001b[0;34m,\u001b[0m \u001b[0mmethod\u001b[0m\u001b[0;34m)\u001b[0m\u001b[0;34m(\u001b[0m\u001b[0;34m*\u001b[0m\u001b[0margs\u001b[0m\u001b[0;34m,\u001b[0m \u001b[0;34m**\u001b[0m\u001b[0mkwds\u001b[0m\u001b[0;34m)\u001b[0m\u001b[0;34m\u001b[0m\u001b[0;34m\u001b[0m\u001b[0m\n\u001b[0m\u001b[1;32m     44\u001b[0m     \u001b[0;32mif\u001b[0m \u001b[0mwrap\u001b[0m\u001b[0;34m:\u001b[0m\u001b[0;34m\u001b[0m\u001b[0;34m\u001b[0m\u001b[0m\n\u001b[1;32m     45\u001b[0m         \u001b[0;32mif\u001b[0m \u001b[0;32mnot\u001b[0m \u001b[0misinstance\u001b[0m\u001b[0;34m(\u001b[0m\u001b[0mresult\u001b[0m\u001b[0;34m,\u001b[0m \u001b[0mmu\u001b[0m\u001b[0;34m.\u001b[0m\u001b[0mndarray\u001b[0m\u001b[0;34m)\u001b[0m\u001b[0;34m:\u001b[0m\u001b[0;34m\u001b[0m\u001b[0;34m\u001b[0m\u001b[0m\n",
            "\u001b[0;32m/usr/local/lib/python3.10/dist-packages/numpy/core/_methods.py\u001b[0m in \u001b[0;36m_clip\u001b[0;34m(a, min, max, out, casting, **kwargs)\u001b[0m\n\u001b[1;32m    158\u001b[0m             um.maximum, a, min, out=out, casting=casting, **kwargs)\n\u001b[1;32m    159\u001b[0m     \u001b[0;32melse\u001b[0m\u001b[0;34m:\u001b[0m\u001b[0;34m\u001b[0m\u001b[0;34m\u001b[0m\u001b[0m\n\u001b[0;32m--> 160\u001b[0;31m         return _clip_dep_invoke_with_casting(\n\u001b[0m\u001b[1;32m    161\u001b[0m             um.clip, a, min, max, out=out, casting=casting, **kwargs)\n\u001b[1;32m    162\u001b[0m \u001b[0;34m\u001b[0m\u001b[0m\n",
            "\u001b[0;32m/usr/local/lib/python3.10/dist-packages/numpy/core/_methods.py\u001b[0m in \u001b[0;36m_clip_dep_invoke_with_casting\u001b[0;34m(ufunc, out, casting, *args, **kwargs)\u001b[0m\n\u001b[1;32m    112\u001b[0m     \u001b[0;31m# try to deal with broken casting rules\u001b[0m\u001b[0;34m\u001b[0m\u001b[0;34m\u001b[0m\u001b[0m\n\u001b[1;32m    113\u001b[0m     \u001b[0;32mtry\u001b[0m\u001b[0;34m:\u001b[0m\u001b[0;34m\u001b[0m\u001b[0;34m\u001b[0m\u001b[0m\n\u001b[0;32m--> 114\u001b[0;31m         \u001b[0;32mreturn\u001b[0m \u001b[0mufunc\u001b[0m\u001b[0;34m(\u001b[0m\u001b[0;34m*\u001b[0m\u001b[0margs\u001b[0m\u001b[0;34m,\u001b[0m \u001b[0mout\u001b[0m\u001b[0;34m=\u001b[0m\u001b[0mout\u001b[0m\u001b[0;34m,\u001b[0m \u001b[0;34m**\u001b[0m\u001b[0mkwargs\u001b[0m\u001b[0;34m)\u001b[0m\u001b[0;34m\u001b[0m\u001b[0;34m\u001b[0m\u001b[0m\n\u001b[0m\u001b[1;32m    115\u001b[0m     \u001b[0;32mexcept\u001b[0m \u001b[0m_exceptions\u001b[0m\u001b[0;34m.\u001b[0m\u001b[0m_UFuncOutputCastingError\u001b[0m \u001b[0;32mas\u001b[0m \u001b[0me\u001b[0m\u001b[0;34m:\u001b[0m\u001b[0;34m\u001b[0m\u001b[0;34m\u001b[0m\u001b[0m\n\u001b[1;32m    116\u001b[0m         \u001b[0;31m# Numpy 1.17.0, 2019-02-24\u001b[0m\u001b[0;34m\u001b[0m\u001b[0;34m\u001b[0m\u001b[0m\n",
            "\u001b[0;31mTypeError\u001b[0m: '>=' not supported between instances of 'float' and 'function'"
          ]
        }
      ]
    },
    {
      "cell_type": "code",
      "source": [
        "# Create DataBlock\n",
        "items = get_items(image_folder)\n",
        "dblock = DataBlock(blocks=(ImageBlock, MaskBlock(target_names)),\n",
        "                   get_items=get_items,\n",
        "                   get_y=get_mask_fn,\n",
        "                   splitter=RandomSplitter(valid_pct=0.2, seed=42))\n",
        "\n",
        "# Create DataLoaders\n",
        "dls = dblock.dataloaders(image_folder, bs=8)"
      ],
      "metadata": {
        "id": "Xh01DHoP151G"
      },
      "execution_count": 63,
      "outputs": []
    },
    {
      "cell_type": "code",
      "source": [
        "# Extract file names of the training dataset\n",
        "train_file_names = dls.train_ds.items\n",
        "# Extract file names of the test dataset\n",
        "test_file_names = dls.valid_ds.items\n",
        "#print(train_file_names)\n",
        "#print(test_file_names)"
      ],
      "metadata": {
        "id": "lr-63mj-wGN7"
      },
      "execution_count": 64,
      "outputs": []
    },
    {
      "cell_type": "code",
      "source": [
        "# Train the model\n",
        "if not train_model:\n",
        "    # Load the model to be used\n",
        "    learn = load_learner(os.path.join(directory, model_name))\n",
        "else:\n",
        "    learn = unet_learner(dls, resnet34)\n",
        "    learn.fine_tune(N_epochs)\n",
        "    # Save the model according to the number of epochs used\n",
        "    learn.export(os.path.join(directory, new_model_name))"
      ],
      "metadata": {
        "id": "4IOZNJs634yD"
      },
      "execution_count": 68,
      "outputs": []
    },
    {
      "cell_type": "code",
      "source": [
        "# Perform inference on test images\n",
        "test_dl = dls.test_dl(get_image_files(image_folder)) # usa todas as 160 imagens em image_folder, treino e validação\n",
        "preds = learn.get_preds(dl=test_dl)\n",
        "print(preds[0].shape, preds[1])"
      ],
      "metadata": {
        "id": "N0GMFc5XH0mz",
        "outputId": "f77f0a6d-00a9-4145-e098-3117768ed0a0",
        "colab": {
          "base_uri": "https://localhost:8080/",
          "height": 34
        }
      },
      "execution_count": 69,
      "outputs": [
        {
          "output_type": "display_data",
          "data": {
            "text/plain": [
              "<IPython.core.display.HTML object>"
            ],
            "text/html": [
              "\n",
              "<style>\n",
              "    /* Turns off some styling */\n",
              "    progress {\n",
              "        /* gets rid of default border in Firefox and Opera. */\n",
              "        border: none;\n",
              "        /* Needs to be in here for Safari polyfill so background images work as expected. */\n",
              "        background-size: auto;\n",
              "    }\n",
              "    progress:not([value]), progress:not([value])::-webkit-progress-bar {\n",
              "        background: repeating-linear-gradient(45deg, #7e7e7e, #7e7e7e 10px, #5c5c5c 10px, #5c5c5c 20px);\n",
              "    }\n",
              "    .progress-bar-interrupted, .progress-bar-interrupted::-webkit-progress-bar {\n",
              "        background: #F44336;\n",
              "    }\n",
              "</style>\n"
            ]
          },
          "metadata": {}
        },
        {
          "output_type": "display_data",
          "data": {
            "text/plain": [
              "<IPython.core.display.HTML object>"
            ],
            "text/html": []
          },
          "metadata": {}
        },
        {
          "output_type": "stream",
          "name": "stdout",
          "text": [
            "torch.Size([160, 2, 58, 57]) None\n"
          ]
        }
      ]
    },
    {
      "cell_type": "code",
      "source": [
        "# Display one example of a prediction\n",
        "sample_preds (preds, sample_idx=2)"
      ],
      "metadata": {
        "id": "GplRY-LqtyJb",
        "outputId": "66358469-c8f6-43f2-87c0-d3e2a406f89e",
        "colab": {
          "base_uri": "https://localhost:8080/",
          "height": 211
        }
      },
      "execution_count": 74,
      "outputs": [
        {
          "output_type": "display_data",
          "data": {
            "text/plain": [
              "<Figure size 100x100 with 1 Axes>"
            ],
            "image/png": "[encoded data removed]"
          },
          "metadata": {}
        },
        {
          "output_type": "display_data",
          "data": {
            "text/plain": [
              "<Figure size 100x100 with 1 Axes>"
            ],
            "image/png": "[encoded data removed]"
          },
          "metadata": {}
        }
      ]
    },
    {
      "cell_type": "code",
      "source": [
        "# Save the predicted mask images (png) according to their row and column number\n",
        "create_predited_mask(image_folder, learn, predicted_folder)"
      ],
      "metadata": {
        "id": "Xy7wt7tCWKgr",
        "outputId": "1840fde2-7755-43fe-9a61-6628249979ed",
        "colab": {
          "base_uri": "https://localhost:8080/",
          "height": 17
        }
      },
      "execution_count": 65,
      "outputs": [
        {
          "output_type": "display_data",
          "data": {
            "text/plain": [
              "<IPython.core.display.HTML object>"
            ],
            "text/html": [
              "\n",
              "<style>\n",
              "    /* Turns off some styling */\n",
              "    progress {\n",
              "        /* gets rid of default border in Firefox and Opera. */\n",
              "        border: none;\n",
              "        /* Needs to be in here for Safari polyfill so background images work as expected. */\n",
              "        background-size: auto;\n",
              "    }\n",
              "    progress:not([value]), progress:not([value])::-webkit-progress-bar {\n",
              "        background: repeating-linear-gradient(45deg, #7e7e7e, #7e7e7e 10px, #5c5c5c 10px, #5c5c5c 20px);\n",
              "    }\n",
              "    .progress-bar-interrupted, .progress-bar-interrupted::-webkit-progress-bar {\n",
              "        background: #F44336;\n",
              "    }\n",
              "</style>\n"
            ]
          },
          "metadata": {}
        },
        {
          "output_type": "display_data",
          "data": {
            "text/plain": [
              "<IPython.core.display.HTML object>"
            ],
            "text/html": []
          },
          "metadata": {}
        }
      ]
    },
    {
      "cell_type": "code",
      "source": [
        "# Put together all the blocks in label_folder\n",
        "merge_blocks(label_folder,'labels', 'merged_labels.png', Nrows, Ncols, width, height)"
      ],
      "metadata": {
        "id": "rMWK-dU5T71-"
      },
      "execution_count": 66,
      "outputs": []
    },
    {
      "cell_type": "code",
      "source": [
        "# Put together all the blocks in predicted_folder\n",
        "merge_blocks(predicted_folder, 'predicted', 'merged_predicted_labels.png', Nrows, Ncols, width, height)"
      ],
      "metadata": {
        "id": "A92-jgOJWZmg"
      },
      "execution_count": 67,
      "outputs": []
    },
    {
      "cell_type": "markdown",
      "source": [
        "**Results**"
      ],
      "metadata": {
        "id": "ADKpQqHlNlvH"
      }
    },
    {
      "cell_type": "code",
      "source": [
        "# Display images, ground-truth mask and the respective predicted mask\n",
        "display_images(directory, image_folder, label_folder, predicted_folder, preds)"
      ],
      "metadata": {
        "id": "QJQ9D43r50hu"
      },
      "execution_count": null,
      "outputs": []
    },
    {
      "cell_type": "code",
      "source": [
        "# Calculate and display images, ground-truth mask and the respective predicted mask, plus the pixel-wise error associated to each block\n",
        "pixel_wise_errors(test_file_names, label_folder, predicted_folder, image_folder)"
      ],
      "metadata": {
        "id": "QmKTh_NL4QY_"
      },
      "execution_count": null,
      "outputs": []
    },
    {
      "cell_type": "code",
      "source": [
        "# Perform inference on the test set\n",
        "preds, _ = learn.get_preds(dl=dls.valid)\n",
        "\n",
        "# Calculate the confusion matrix for the test set\n",
        "true_masks_flat, predicted_masks_flat = true_and_pred_mask_to_1D_numpy(dls, preds)\n",
        "conf_matrix = confusion_matrix(true_masks_flat, predicted_masks_flat)\n",
        "\n",
        "print(\"Confusion Matrix for the Test Set:\")\n",
        "print(conf_matrix)\n"
      ],
      "metadata": {
        "id": "L4pF_-AoFhHM",
        "outputId": "e6d6c312-15ea-41e7-e8c4-446587134607",
        "colab": {
          "base_uri": "https://localhost:8080/",
          "height": 69
        }
      },
      "execution_count": 69,
      "outputs": [
        {
          "output_type": "display_data",
          "data": {
            "text/plain": [
              "<IPython.core.display.HTML object>"
            ],
            "text/html": [
              "\n",
              "<style>\n",
              "    /* Turns off some styling */\n",
              "    progress {\n",
              "        /* gets rid of default border in Firefox and Opera. */\n",
              "        border: none;\n",
              "        /* Needs to be in here for Safari polyfill so background images work as expected. */\n",
              "        background-size: auto;\n",
              "    }\n",
              "    progress:not([value]), progress:not([value])::-webkit-progress-bar {\n",
              "        background: repeating-linear-gradient(45deg, #7e7e7e, #7e7e7e 10px, #5c5c5c 10px, #5c5c5c 20px);\n",
              "    }\n",
              "    .progress-bar-interrupted, .progress-bar-interrupted::-webkit-progress-bar {\n",
              "        background: #F44336;\n",
              "    }\n",
              "</style>\n"
            ]
          },
          "metadata": {}
        },
        {
          "output_type": "display_data",
          "data": {
            "text/plain": [
              "<IPython.core.display.HTML object>"
            ],
            "text/html": []
          },
          "metadata": {}
        },
        {
          "output_type": "stream",
          "name": "stdout",
          "text": [
            "Confusion Matrix for the Test Set:\n",
            "[[95330  2208]\n",
            " [ 1765  6489]]\n"
          ]
        }
      ]
    },
    {
      "cell_type": "code",
      "source": [
        "#Accuracy of the model\n",
        "accuracy = model_accuracy(true_masks_flat, predicted_masks_flat)\n",
        "print(\"Model Accuracy for the Test Set: {:.2f}%\".format(accuracy * 100))"
      ],
      "metadata": {
        "id": "qBSGOu2fLkGs",
        "outputId": "1206b438-938f-4f8e-edf8-8b8d26d42230",
        "colab": {
          "base_uri": "https://localhost:8080/"
        }
      },
      "execution_count": 70,
      "outputs": [
        {
          "output_type": "stream",
          "name": "stdout",
          "text": [
            "Model Accuracy for the Test Set: 96.24%\n"
          ]
        }
      ]
    },
    {
      "cell_type": "code",
      "source": [
        "# Calculate and print the classification report\n",
        "report = classification_report(true_masks_flat, predicted_masks_flat, target_names=target_names)\n",
        "print(\"\\nClassification Report for the Test Set:\")\n",
        "print(report)"
      ],
      "metadata": {
        "id": "to6LPRUMFmJv"
      },
      "execution_count": null,
      "outputs": []
    },
    {
      "cell_type": "code",
      "source": [
        "# replace pixel values from 255 to 1. Output file is a png with pixels 0 and 1\n",
        "convert_values_png(os.path.join(directory, 'merged_predicted_labels.png'), os.path.join(directory, 'merged_predicted_labels_converted.png'), 255)"
      ],
      "metadata": {
        "id": "jQQUCgfZPHrn",
        "outputId": "8639d0a3-5848-4e32-eaf5-d3ee6a2cbb3a",
        "colab": {
          "base_uri": "https://localhost:8080/"
        }
      },
      "execution_count": 71,
      "outputs": [
        {
          "output_type": "stream",
          "name": "stdout",
          "text": [
            "Image processing complete. Saved as /content/drive/MyDrive/AAA/merged_predicted_labels_converted.png\n"
          ]
        }
      ]
    },
    {
      "cell_type": "code",
      "source": [
        "display_unique_values_and_datatype(os.path.join(directory, 'merged_predicted_labels_converted.png'))"
      ],
      "metadata": {
        "id": "geDfQnXa9qRV",
        "outputId": "19c42e4f-e5a3-496c-958a-1fe3194a9ec5",
        "colab": {
          "base_uri": "https://localhost:8080/"
        }
      },
      "execution_count": 72,
      "outputs": [
        {
          "output_type": "stream",
          "name": "stdout",
          "text": [
            "Data Type: uint8\n",
            "Unique Values:\n",
            "0\n",
            "1\n",
            "[[0 0 0 ... 0 0 0]\n",
            " [0 0 0 ... 0 0 0]\n",
            " [0 0 0 ... 0 0 0]\n",
            " ...\n",
            " [0 0 0 ... 0 0 0]\n",
            " [0 0 0 ... 0 0 0]\n",
            " [0 0 0 ... 0 0 0]]\n"
          ]
        }
      ]
    },
    {
      "cell_type": "code",
      "source": [
        "# Comission and Omission Errors\n",
        "# Load the ground truth TIFF mask and predicted PNG mask\n",
        "ground_truth_mask = Image.open(os.path.join(directory, 'merged_labels.png'))\n",
        "resized_predicted_mask = convert_and_resize_pred_mask(directory, 'resized_predicted_mask.png', 'merged_predicted_labels_converted.png')\n",
        "\n",
        "comission_omission_erros (ground_truth_mask, resized_predicted_mask, predicted_folder, 'comission_omission.png')"
      ],
      "metadata": {
        "id": "rvUuWH461AxU",
        "colab": {
          "base_uri": "https://localhost:8080/",
          "height": 556
        },
        "outputId": "63671ff5-eba6-4470-c563-039b8972dd43"
      },
      "execution_count": 78,
      "outputs": [
        {
          "output_type": "stream",
          "name": "stderr",
          "text": [
            "<ipython-input-23-1e5207f6686d>:5: DeprecationWarning: ANTIALIAS is deprecated and will be removed in Pillow 10 (2023-07-01). Use LANCZOS or Resampling.LANCZOS instead.\n",
            "  predicted_mask = predicted_mask.resize(ground_truth_mask.shape[::-1], Image.ANTIALIAS)# Resize the predicted mask to match the dimensions of the ground truth mask\n"
          ]
        },
        {
          "output_type": "display_data",
          "data": {
            "text/plain": [
              "<Figure size 800x600 with 1 Axes>"
            ],
            "image/png": "[encoded data removed]"
          },
          "metadata": {}
        }
      ]
    }
  ]
}